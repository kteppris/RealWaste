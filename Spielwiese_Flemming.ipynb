{
  "nbformat": 4,
  "nbformat_minor": 0,
  "metadata": {
    "colab": {
      "provenance": [],
      "authorship_tag": "ABX9TyN0iNt30rKWWFu+QwEixttc",
      "include_colab_link": true
    },
    "kernelspec": {
      "name": "python3",
      "display_name": "Python 3"
    },
    "language_info": {
      "name": "python"
    }
  },
  "cells": [
    {
      "cell_type": "markdown",
      "metadata": {
        "id": "view-in-github",
        "colab_type": "text"
      },
      "source": [
        "<a href=\"https://colab.research.google.com/github/kteppris/RealWaste/blob/main/Spielwiese_Flemming.ipynb\" target=\"_parent\"><img src=\"https://colab.research.google.com/assets/colab-badge.svg\" alt=\"Open In Colab\"/></a>"
      ]
    },
    {
      "cell_type": "markdown",
      "source": [
        "# Daten laden"
      ],
      "metadata": {
        "id": "CBMpslIrmPzL"
      }
    },
    {
      "cell_type": "code",
      "execution_count": 24,
      "metadata": {
        "colab": {
          "base_uri": "https://localhost:8080/"
        },
        "id": "cxLrfj5UNeq_",
        "outputId": "08d86e9e-99d6-4597-adc8-12fe901f650b"
      },
      "outputs": [
        {
          "output_type": "stream",
          "name": "stdout",
          "text": [
            "Drive already mounted at /content/drive; to attempt to forcibly remount, call drive.mount(\"/content/drive\", force_remount=True).\n",
            "/content/drive/MyDrive/MADS/RealWaste\n",
            "Wechsel Arbeitsverzeichnis zu /content/drive/MyDrive/MADS/RealWaste\n",
            "Requirement already satisfied: torch==2.1.0 in /usr/local/lib/python3.10/dist-packages (from -r requirements.txt (line 1)) (2.1.0+cu121)\n",
            "Requirement already satisfied: pytorch-lightning==2.2.0.post0 in /usr/local/lib/python3.10/dist-packages (from -r requirements.txt (line 2)) (2.2.0.post0)\n",
            "Requirement already satisfied: torchvision==0.16.0 in /usr/local/lib/python3.10/dist-packages (from -r requirements.txt (line 3)) (0.16.0+cu121)\n",
            "Requirement already satisfied: tensorboard in /usr/local/lib/python3.10/dist-packages (from -r requirements.txt (line 4)) (2.15.2)\n",
            "Requirement already satisfied: seaborn==0.13.1 in /usr/local/lib/python3.10/dist-packages (from -r requirements.txt (line 5)) (0.13.1)\n",
            "Requirement already satisfied: Pillow==9.4.0 in /usr/local/lib/python3.10/dist-packages (from -r requirements.txt (line 6)) (9.4.0)\n",
            "Requirement already satisfied: optuna==3.5.0 in /usr/local/lib/python3.10/dist-packages (from -r requirements.txt (line 7)) (3.5.0)\n",
            "Requirement already satisfied: numpy==1.25.2 in /usr/local/lib/python3.10/dist-packages (from -r requirements.txt (line 9)) (1.25.2)\n",
            "Requirement already satisfied: opencv-python==4.8.0.76 in /usr/local/lib/python3.10/dist-packages (from -r requirements.txt (line 10)) (4.8.0.76)\n",
            "Requirement already satisfied: scipy==1.11.4 in /usr/local/lib/python3.10/dist-packages (from -r requirements.txt (line 11)) (1.11.4)\n",
            "Requirement already satisfied: matplotlib==3.7.1 in /usr/local/lib/python3.10/dist-packages (from -r requirements.txt (line 12)) (3.7.1)\n",
            "Requirement already satisfied: scikit-learn==1.2.2 in /usr/local/lib/python3.10/dist-packages (from -r requirements.txt (line 13)) (1.2.2)\n",
            "Requirement already satisfied: pandas==1.5.3 in /usr/local/lib/python3.10/dist-packages (from -r requirements.txt (line 14)) (1.5.3)\n",
            "Requirement already satisfied: plotly==5.15.0 in /usr/local/lib/python3.10/dist-packages (from -r requirements.txt (line 15)) (5.15.0)\n",
            "Requirement already satisfied: scikit-image==0.19.3 in /usr/local/lib/python3.10/dist-packages (from -r requirements.txt (line 16)) (0.19.3)\n",
            "Requirement already satisfied: filelock in /usr/local/lib/python3.10/dist-packages (from torch==2.1.0->-r requirements.txt (line 1)) (3.13.1)\n",
            "Requirement already satisfied: typing-extensions in /usr/local/lib/python3.10/dist-packages (from torch==2.1.0->-r requirements.txt (line 1)) (4.9.0)\n",
            "Requirement already satisfied: sympy in /usr/local/lib/python3.10/dist-packages (from torch==2.1.0->-r requirements.txt (line 1)) (1.12)\n",
            "Requirement already satisfied: networkx in /usr/local/lib/python3.10/dist-packages (from torch==2.1.0->-r requirements.txt (line 1)) (3.2.1)\n",
            "Requirement already satisfied: jinja2 in /usr/local/lib/python3.10/dist-packages (from torch==2.1.0->-r requirements.txt (line 1)) (3.1.3)\n",
            "Requirement already satisfied: fsspec in /usr/local/lib/python3.10/dist-packages (from torch==2.1.0->-r requirements.txt (line 1)) (2023.6.0)\n",
            "Requirement already satisfied: triton==2.1.0 in /usr/local/lib/python3.10/dist-packages (from torch==2.1.0->-r requirements.txt (line 1)) (2.1.0)\n",
            "Requirement already satisfied: tqdm>=4.57.0 in /usr/local/lib/python3.10/dist-packages (from pytorch-lightning==2.2.0.post0->-r requirements.txt (line 2)) (4.66.2)\n",
            "Requirement already satisfied: PyYAML>=5.4 in /usr/local/lib/python3.10/dist-packages (from pytorch-lightning==2.2.0.post0->-r requirements.txt (line 2)) (6.0.1)\n",
            "Requirement already satisfied: torchmetrics>=0.7.0 in /usr/local/lib/python3.10/dist-packages (from pytorch-lightning==2.2.0.post0->-r requirements.txt (line 2)) (1.3.1)\n",
            "Requirement already satisfied: packaging>=20.0 in /usr/local/lib/python3.10/dist-packages (from pytorch-lightning==2.2.0.post0->-r requirements.txt (line 2)) (23.2)\n",
            "Requirement already satisfied: lightning-utilities>=0.8.0 in /usr/local/lib/python3.10/dist-packages (from pytorch-lightning==2.2.0.post0->-r requirements.txt (line 2)) (0.10.1)\n",
            "Requirement already satisfied: requests in /usr/local/lib/python3.10/dist-packages (from torchvision==0.16.0->-r requirements.txt (line 3)) (2.31.0)\n",
            "Requirement already satisfied: alembic>=1.5.0 in /usr/local/lib/python3.10/dist-packages (from optuna==3.5.0->-r requirements.txt (line 7)) (1.13.1)\n",
            "Requirement already satisfied: colorlog in /usr/local/lib/python3.10/dist-packages (from optuna==3.5.0->-r requirements.txt (line 7)) (6.8.2)\n",
            "Requirement already satisfied: sqlalchemy>=1.3.0 in /usr/local/lib/python3.10/dist-packages (from optuna==3.5.0->-r requirements.txt (line 7)) (2.0.27)\n",
            "Requirement already satisfied: contourpy>=1.0.1 in /usr/local/lib/python3.10/dist-packages (from matplotlib==3.7.1->-r requirements.txt (line 12)) (1.2.0)\n",
            "Requirement already satisfied: cycler>=0.10 in /usr/local/lib/python3.10/dist-packages (from matplotlib==3.7.1->-r requirements.txt (line 12)) (0.12.1)\n",
            "Requirement already satisfied: fonttools>=4.22.0 in /usr/local/lib/python3.10/dist-packages (from matplotlib==3.7.1->-r requirements.txt (line 12)) (4.49.0)\n",
            "Requirement already satisfied: kiwisolver>=1.0.1 in /usr/local/lib/python3.10/dist-packages (from matplotlib==3.7.1->-r requirements.txt (line 12)) (1.4.5)\n",
            "Requirement already satisfied: pyparsing>=2.3.1 in /usr/local/lib/python3.10/dist-packages (from matplotlib==3.7.1->-r requirements.txt (line 12)) (3.1.1)\n",
            "Requirement already satisfied: python-dateutil>=2.7 in /usr/local/lib/python3.10/dist-packages (from matplotlib==3.7.1->-r requirements.txt (line 12)) (2.8.2)\n",
            "Requirement already satisfied: joblib>=1.1.1 in /usr/local/lib/python3.10/dist-packages (from scikit-learn==1.2.2->-r requirements.txt (line 13)) (1.3.2)\n",
            "Requirement already satisfied: threadpoolctl>=2.0.0 in /usr/local/lib/python3.10/dist-packages (from scikit-learn==1.2.2->-r requirements.txt (line 13)) (3.3.0)\n",
            "Requirement already satisfied: pytz>=2020.1 in /usr/local/lib/python3.10/dist-packages (from pandas==1.5.3->-r requirements.txt (line 14)) (2023.4)\n",
            "Requirement already satisfied: tenacity>=6.2.0 in /usr/local/lib/python3.10/dist-packages (from plotly==5.15.0->-r requirements.txt (line 15)) (8.2.3)\n",
            "Requirement already satisfied: imageio>=2.4.1 in /usr/local/lib/python3.10/dist-packages (from scikit-image==0.19.3->-r requirements.txt (line 16)) (2.31.6)\n",
            "Requirement already satisfied: tifffile>=2019.7.26 in /usr/local/lib/python3.10/dist-packages (from scikit-image==0.19.3->-r requirements.txt (line 16)) (2024.2.12)\n",
            "Requirement already satisfied: PyWavelets>=1.1.1 in /usr/local/lib/python3.10/dist-packages (from scikit-image==0.19.3->-r requirements.txt (line 16)) (1.5.0)\n",
            "Requirement already satisfied: absl-py>=0.4 in /usr/local/lib/python3.10/dist-packages (from tensorboard->-r requirements.txt (line 4)) (1.4.0)\n",
            "Requirement already satisfied: grpcio>=1.48.2 in /usr/local/lib/python3.10/dist-packages (from tensorboard->-r requirements.txt (line 4)) (1.60.1)\n",
            "Requirement already satisfied: google-auth<3,>=1.6.3 in /usr/local/lib/python3.10/dist-packages (from tensorboard->-r requirements.txt (line 4)) (2.27.0)\n",
            "Requirement already satisfied: google-auth-oauthlib<2,>=0.5 in /usr/local/lib/python3.10/dist-packages (from tensorboard->-r requirements.txt (line 4)) (1.2.0)\n",
            "Requirement already satisfied: markdown>=2.6.8 in /usr/local/lib/python3.10/dist-packages (from tensorboard->-r requirements.txt (line 4)) (3.5.2)\n",
            "Requirement already satisfied: protobuf!=4.24.0,>=3.19.6 in /usr/local/lib/python3.10/dist-packages (from tensorboard->-r requirements.txt (line 4)) (3.20.3)\n",
            "Requirement already satisfied: setuptools>=41.0.0 in /usr/local/lib/python3.10/dist-packages (from tensorboard->-r requirements.txt (line 4)) (67.7.2)\n",
            "Requirement already satisfied: six>1.9 in /usr/local/lib/python3.10/dist-packages (from tensorboard->-r requirements.txt (line 4)) (1.16.0)\n",
            "Requirement already satisfied: tensorboard-data-server<0.8.0,>=0.7.0 in /usr/local/lib/python3.10/dist-packages (from tensorboard->-r requirements.txt (line 4)) (0.7.2)\n",
            "Requirement already satisfied: werkzeug>=1.0.1 in /usr/local/lib/python3.10/dist-packages (from tensorboard->-r requirements.txt (line 4)) (3.0.1)\n",
            "Requirement already satisfied: Mako in /usr/local/lib/python3.10/dist-packages (from alembic>=1.5.0->optuna==3.5.0->-r requirements.txt (line 7)) (1.3.2)\n",
            "Requirement already satisfied: aiohttp!=4.0.0a0,!=4.0.0a1 in /usr/local/lib/python3.10/dist-packages (from fsspec->torch==2.1.0->-r requirements.txt (line 1)) (3.9.3)\n",
            "Requirement already satisfied: cachetools<6.0,>=2.0.0 in /usr/local/lib/python3.10/dist-packages (from google-auth<3,>=1.6.3->tensorboard->-r requirements.txt (line 4)) (5.3.2)\n",
            "Requirement already satisfied: pyasn1-modules>=0.2.1 in /usr/local/lib/python3.10/dist-packages (from google-auth<3,>=1.6.3->tensorboard->-r requirements.txt (line 4)) (0.3.0)\n",
            "Requirement already satisfied: rsa<5,>=3.1.4 in /usr/local/lib/python3.10/dist-packages (from google-auth<3,>=1.6.3->tensorboard->-r requirements.txt (line 4)) (4.9)\n",
            "Requirement already satisfied: requests-oauthlib>=0.7.0 in /usr/local/lib/python3.10/dist-packages (from google-auth-oauthlib<2,>=0.5->tensorboard->-r requirements.txt (line 4)) (1.3.1)\n",
            "Requirement already satisfied: charset-normalizer<4,>=2 in /usr/local/lib/python3.10/dist-packages (from requests->torchvision==0.16.0->-r requirements.txt (line 3)) (3.3.2)\n",
            "Requirement already satisfied: idna<4,>=2.5 in /usr/local/lib/python3.10/dist-packages (from requests->torchvision==0.16.0->-r requirements.txt (line 3)) (3.6)\n",
            "Requirement already satisfied: urllib3<3,>=1.21.1 in /usr/local/lib/python3.10/dist-packages (from requests->torchvision==0.16.0->-r requirements.txt (line 3)) (2.0.7)\n",
            "Requirement already satisfied: certifi>=2017.4.17 in /usr/local/lib/python3.10/dist-packages (from requests->torchvision==0.16.0->-r requirements.txt (line 3)) (2024.2.2)\n",
            "Requirement already satisfied: greenlet!=0.4.17 in /usr/local/lib/python3.10/dist-packages (from sqlalchemy>=1.3.0->optuna==3.5.0->-r requirements.txt (line 7)) (3.0.3)\n",
            "Requirement already satisfied: MarkupSafe>=2.1.1 in /usr/local/lib/python3.10/dist-packages (from werkzeug>=1.0.1->tensorboard->-r requirements.txt (line 4)) (2.1.5)\n",
            "Requirement already satisfied: mpmath>=0.19 in /usr/local/lib/python3.10/dist-packages (from sympy->torch==2.1.0->-r requirements.txt (line 1)) (1.3.0)\n",
            "Requirement already satisfied: aiosignal>=1.1.2 in /usr/local/lib/python3.10/dist-packages (from aiohttp!=4.0.0a0,!=4.0.0a1->fsspec->torch==2.1.0->-r requirements.txt (line 1)) (1.3.1)\n",
            "Requirement already satisfied: attrs>=17.3.0 in /usr/local/lib/python3.10/dist-packages (from aiohttp!=4.0.0a0,!=4.0.0a1->fsspec->torch==2.1.0->-r requirements.txt (line 1)) (23.2.0)\n",
            "Requirement already satisfied: frozenlist>=1.1.1 in /usr/local/lib/python3.10/dist-packages (from aiohttp!=4.0.0a0,!=4.0.0a1->fsspec->torch==2.1.0->-r requirements.txt (line 1)) (1.4.1)\n",
            "Requirement already satisfied: multidict<7.0,>=4.5 in /usr/local/lib/python3.10/dist-packages (from aiohttp!=4.0.0a0,!=4.0.0a1->fsspec->torch==2.1.0->-r requirements.txt (line 1)) (6.0.5)\n",
            "Requirement already satisfied: yarl<2.0,>=1.0 in /usr/local/lib/python3.10/dist-packages (from aiohttp!=4.0.0a0,!=4.0.0a1->fsspec->torch==2.1.0->-r requirements.txt (line 1)) (1.9.4)\n",
            "Requirement already satisfied: async-timeout<5.0,>=4.0 in /usr/local/lib/python3.10/dist-packages (from aiohttp!=4.0.0a0,!=4.0.0a1->fsspec->torch==2.1.0->-r requirements.txt (line 1)) (4.0.3)\n",
            "Requirement already satisfied: pyasn1<0.6.0,>=0.4.6 in /usr/local/lib/python3.10/dist-packages (from pyasn1-modules>=0.2.1->google-auth<3,>=1.6.3->tensorboard->-r requirements.txt (line 4)) (0.5.1)\n",
            "Requirement already satisfied: oauthlib>=3.0.0 in /usr/local/lib/python3.10/dist-packages (from requests-oauthlib>=0.7.0->google-auth-oauthlib<2,>=0.5->tensorboard->-r requirements.txt (line 4)) (3.2.2)\n"
          ]
        }
      ],
      "source": [
        "import sys\n",
        "import os\n",
        "from pathlib import Path\n",
        "\n",
        "# Funktion, die prüft, ob dieses Skript in Colab ausgeführt wird\n",
        "def in_colab():\n",
        "    # sys beinhaltet alle bereits geladenen Pakete\n",
        "    return 'google.colab' in sys.modules  # google.colab wird automatisch in Colab vorgeladen, daher Indiz für Colab Environment\n",
        "\n",
        "code_repo_path = Path(\"/content/drive/MyDrive/MADS/RealWaste\") if in_colab() else Path.cwd()\n",
        "\n",
        "if in_colab():\n",
        "    # Google Drive einbinden zum persistieren von Code, Daten und Ergebnissen\n",
        "    from google.colab import drive\n",
        "    drive.mount('/content/drive')\n",
        "    if not code_repo_path.exists():\n",
        "        raise FileNotFoundError(\"Code und Datenordner konnte nicht gefunden werden. Bitte zuerst das Notebook '1_Hauptnotebook.ipynb' ausführen.\")\n",
        "    else:\n",
        "        # wechsle Arbeitsverzeichnis zu code_repo_path\n",
        "        %cd {code_repo_path}\n",
        "        print(f\"Wechsel Arbeitsverzeichnis zu {Path.cwd()}\")\n",
        "        %pip install -r requirements.txt\n",
        "else:\n",
        "    print(\"Stellen Sie sicher, dass das richtige Venv als Kernel ausgewählt ist,\\nwelches wie in '1_Hauptnotebook.ipynb' beschrieben erstellt wurde.\")\n",
        "\n",
        "data_path = code_repo_path / \"data\""
      ]
    },
    {
      "cell_type": "code",
      "source": [
        "import os\n",
        "from PIL import Image\n",
        "import numpy as np\n",
        "\n",
        "def load_and_resize_images(data_path, new_size): # Bilder neu skaliert mit dem Argument 'new_size(,)'\n",
        "    images_resized = {} # Dictionary erstellen\n",
        "    class_names = [d for d in os.listdir(data_path) if os.path.isdir(os.path.join(data_path, d)) and not d.startswith('.')]  # Versteckte Ordner überspringen\n",
        "\n",
        "    for class_name in class_names:\n",
        "        class_folder = os.path.join(data_path, class_name)\n",
        "        image_files = [f for f in os.listdir(class_folder) if f.endswith('.jpg') and not f.startswith('.')]  # Nur .jpg Bilder verarbeiten\n",
        "        images_resized[class_name] = []\n",
        "\n",
        "        for image_file in image_files:\n",
        "            img_path = os.path.join(class_folder, image_file)\n",
        "            img = Image.open(img_path)\n",
        "            img_resized = img.resize(new_size)\n",
        "            images_resized[class_name].append(np.array(img_resized))\n",
        "\n",
        "    return images_resized"
      ],
      "metadata": {
        "id": "aUZUvRd8N8bK"
      },
      "execution_count": 25,
      "outputs": []
    },
    {
      "cell_type": "code",
      "source": [
        "# Neue Größe auf die Bilder aus meinem Ordner anwenden\n",
        "images_resized = load_and_resize_images(data_path=data_path, new_size = (128, 128))"
      ],
      "metadata": {
        "id": "B-cB5L6F1AqH"
      },
      "execution_count": null,
      "outputs": []
    },
    {
      "cell_type": "markdown",
      "source": [
        "# Feature-Engineering"
      ],
      "metadata": {
        "id": "Rc983_RD1ODH"
      }
    },
    {
      "cell_type": "markdown",
      "source": [
        "## Farbfeatures: Farbhistogramme"
      ],
      "metadata": {
        "id": "lib3wKpzW0iM"
      }
    },
    {
      "cell_type": "code",
      "source": [
        "# Dieser Code extrahiert das Farbhistogramm in normalisierter Form als Feature für jedes Bild aus den vorverarbeiteten Daten (images_resized)\n",
        "\n",
        "def extract_color_features(images, bins=256, channel_range=(0, 256)):\n",
        "    # Initialisiere eine Liste für Features und eine für Labels\n",
        "    feature_list = []\n",
        "    labels_list = []\n",
        "\n",
        "    # Loope durch die Klassen des Datensets\n",
        "    for class_name, imgs in images.items():\n",
        "        # verarbeite jedes Bild in den Klassen\n",
        "        for img in imgs:\n",
        "            # Berechne ein Histogramm für jeden Farbkanal (RBG)\n",
        "            hist_features_color = []\n",
        "            for i in range(3):  # RGB\n",
        "                hist = np.histogram(img[:, :, i], bins=bins, range=channel_range)[0]\n",
        "                hist = hist / hist.sum()  # Histogramm normalisieren\n",
        "                hist_features_color.extend(hist)\n",
        "\n",
        "            # Die o.g. Listen feature_list und labels_list füllen\n",
        "            feature_list.append(hist_features_color)\n",
        "            labels_list.append(class_name)\n",
        "\n",
        "    # Konvertieren der Listen in Numpy-Arrays\n",
        "    feature_array_colorhist = np.array(feature_list)\n",
        "    label_array_colorhist = np.array(labels_list)\n",
        "\n",
        "    return feature_array_colorhist, label_array_colorhist"
      ],
      "metadata": {
        "id": "DGDEmlwxWn8e"
      },
      "execution_count": 26,
      "outputs": []
    },
    {
      "cell_type": "code",
      "source": [
        "# Die nachfolgende Zeile extrahiert die features (--> Farbhistogramm) und labels aus den geladenen Bildern\n",
        "feature_array_colorhist, label_array_colorhist = extract_color_features(images_resized)"
      ],
      "metadata": {
        "id": "UUREVoIi1JC8"
      },
      "execution_count": null,
      "outputs": []
    },
    {
      "cell_type": "markdown",
      "source": [
        "## Kantenfeatures: Sobel / Edge Detection als Feature extrahieren"
      ],
      "metadata": {
        "id": "9mO2aD28ch3x"
      }
    },
    {
      "cell_type": "code",
      "source": [
        "from scipy.ndimage import sobel\n",
        "from skimage.color import rgb2gray\n",
        "import numpy as np\n",
        "\n",
        "# Annahme: 'images_resized' ist ein Dictionary, das geladene Bilder enthält.\n",
        "# Dieses Beispiel verwendet ein Dummy-Array für die Demonstration.\n",
        "# Beispielbild in Graustufen umwandeln (für das echte Bild ersetzen)\n",
        "# img_gray = rgb2gray(images_resized['class_name'][0])\n",
        "\n",
        "# Funktion, um die Sobel-Features für ein Bild zu extrahieren\n",
        "def extract_sobel_features(images):\n",
        "    sobel_features = []\n",
        "    for class_images in images.values():\n",
        "        for img in class_images:\n",
        "            # Umwandlung in Graustufen, falls das Bild farbig ist\n",
        "            if len(img.shape) == 3:\n",
        "                img = rgb2gray(img)\n",
        "\n",
        "            # Anwenden des Sobel-Filters\n",
        "            sobel_horizontal = sobel(img, axis=0)  # horizontaler Kantendetektor\n",
        "            sobel_vertical = sobel(img, axis=1)  # vertikaler Kantendetektor\n",
        "\n",
        "            # Kombination der horizontalen und vertikalen Kanten zu einem Bild\n",
        "            sobel_combined = np.hypot(sobel_horizontal, sobel_vertical)\n",
        "\n",
        "            # Hier könnten weitere Verarbeitungsschritte erfolgen,\n",
        "            # z.B. Umwandlung in ein flaches Array, wenn notwendig.\n",
        "            # In diesem Beispiel verwenden wir das kombinierte Sobel-Bild direkt.\n",
        "            sobel_features.append(sobel_combined.flatten())\n",
        "\n",
        "    return np.array(sobel_features)\n"
      ],
      "metadata": {
        "id": "GLt7oNfmcoZt"
      },
      "execution_count": null,
      "outputs": []
    },
    {
      "cell_type": "code",
      "source": [
        "# Extraktion des Sobel-Feature Arrays\n",
        "feature_array_sobel = extract_sobel_features(images_resized)"
      ],
      "metadata": {
        "id": "mHeS9kp9n7H7"
      },
      "execution_count": 27,
      "outputs": []
    },
    {
      "cell_type": "markdown",
      "source": [
        "## Texturfeatures: Local Binary Patterns (LBP)"
      ],
      "metadata": {
        "id": "utBWqpPB0vK5"
      }
    },
    {
      "cell_type": "code",
      "source": [
        "from skimage.feature import local_binary_pattern\n",
        "from skimage.color import rgb2gray\n",
        "import numpy as np\n",
        "\n",
        "# Parameter für LBP\n",
        "P = 8  # Anzahl der kreisförmigen Nachbarn\n",
        "R = 1  # Radius\n",
        "\n",
        "# Funktion, um LBP-Features für alle Bilder zu extrahieren\n",
        "def extract_lbp_features(images_resized, P, R):\n",
        "    lbp_features = []\n",
        "    for class_images in images_resized.values():\n",
        "        for img in class_images:\n",
        "            # Umwandlung in Graustufen\n",
        "            img_gray = rgb2gray(img)\n",
        "            # Berechnung des LBP\n",
        "            lbp = local_binary_pattern(img_gray, P, R, method=\"uniform\")\n",
        "            # Optional: Umwandlung des LBP-Bildes in ein Histogramm zur Feature-Reduktion\n",
        "            # und zur Erstellung eines festen Größenvektors pro Bild\n",
        "            (hist, _) = np.histogram(lbp.ravel(),\n",
        "                                     bins=np.arange(0, P + 3),\n",
        "                                     range=(0, P + 2))\n",
        "            # Normalisierung des Histogramms\n",
        "            hist = hist.astype(\"float\")\n",
        "            hist /= (hist.sum() + 1e-6)\n",
        "            lbp_features.append(hist)\n",
        "    return np.array(lbp_features)\n"
      ],
      "metadata": {
        "id": "5UnRCNHF0y0r"
      },
      "execution_count": 37,
      "outputs": []
    },
    {
      "cell_type": "code",
      "source": [
        "# Anwendung der lbp-Funktion auf meine Bilder\n",
        "feature_array_lbp = extract_lbp_features(images_resized, P, R)"
      ],
      "metadata": {
        "id": "-CWdOivB1qQR"
      },
      "execution_count": 38,
      "outputs": []
    },
    {
      "cell_type": "markdown",
      "source": [
        "# Standardisierung der Features (Z-Transformation)"
      ],
      "metadata": {
        "id": "g74r1iwrbNFd"
      }
    },
    {
      "cell_type": "code",
      "source": [
        "# Features normalisieren (Z-Score-Normalisierung)\n",
        "# Funktion zur Durchführung der Z-Score-Normalisierung\n",
        "# z=\\frac{x-\\mu}{\\sigma}\n",
        "\n",
        "import numpy as np\n",
        "\n",
        "def standardize_features(feature_array):\n",
        "    # Berechne den Mittelwert und die Standardabweichung für jedes Feature\n",
        "    mean = np.mean(feature_array, axis=0)\n",
        "    std = np.std(feature_array, axis=0)\n",
        "\n",
        "    # Vermeide Division durch Null, indem man dort, wo std Null ist, Einsen setzt\n",
        "    std[std == 0] = 1\n",
        "\n",
        "    # Führe die Z-Score-Normalisierung durch\n",
        "    standardized_array = (feature_array - mean) / std\n",
        "\n",
        "    return standardized_array"
      ],
      "metadata": {
        "id": "GRJY2TvGZ80s"
      },
      "execution_count": 28,
      "outputs": []
    },
    {
      "cell_type": "code",
      "source": [
        "# Standardisierungsfunktion auf das Farbfeature anwenden\n",
        "standardized_feature_array_colorhist = standardize_features(feature_array_colorhist)"
      ],
      "metadata": {
        "id": "jab1q26bbFaP"
      },
      "execution_count": 29,
      "outputs": []
    },
    {
      "cell_type": "code",
      "source": [
        "# Standardisierungsfunktion für den Sobel-Array anwenden\n",
        "\n",
        "standardized_feature_array_edges = standardize_features(feature_array_sobel)"
      ],
      "metadata": {
        "id": "lp-ayBrhod3E"
      },
      "execution_count": 30,
      "outputs": []
    },
    {
      "cell_type": "code",
      "source": [
        "# Standardisierungsfunktion für die Local-Binary-Patterns\n",
        "\n",
        "standardized_feature_array_lbp = standardize_features(feature_array_lbp)"
      ],
      "metadata": {
        "id": "hLOCpHvC1wUl"
      },
      "execution_count": 39,
      "outputs": []
    },
    {
      "cell_type": "markdown",
      "source": [
        "# Featurekombination (für die extrahierten, standardisierten Features)"
      ],
      "metadata": {
        "id": "_YaY1eU5paX8"
      }
    },
    {
      "cell_type": "code",
      "source": [
        "# Angenommen, standardized_feature_array_1 und standardized_feature_array_2 sind deine Feature-Arrays\n",
        "combined_feature_array = np.hstack((standardized_feature_array_colorhist, standardized_feature_array_edges, standardized_feature_array_lbp))"
      ],
      "metadata": {
        "id": "wYeWgNVDpgu3"
      },
      "execution_count": 51,
      "outputs": []
    },
    {
      "cell_type": "markdown",
      "source": [
        "# Modelle trainieren"
      ],
      "metadata": {
        "id": "U5uYPf2vpirS"
      }
    },
    {
      "cell_type": "code",
      "source": [
        "from sklearn.model_selection import train_test_split\n",
        "from sklearn.neighbors import KNeighborsClassifier\n",
        "from sklearn.metrics import accuracy_score\n",
        "\n",
        "# Angenommen standardized_feature_array und label_array_colorhist sind bereits definiert.\n",
        "\n",
        "# 1. Train-Test-Split\n",
        "X_train, X_test, y_train, y_test = train_test_split(combined_feature_array, label_array_colorhist, test_size=0.2, random_state=42)\n",
        "\n"
      ],
      "metadata": {
        "id": "L8PpvjP7dYxK"
      },
      "execution_count": 53,
      "outputs": []
    },
    {
      "cell_type": "code",
      "source": [
        "\n",
        "# 2. KNN-Modell erstellen\n",
        "knn = KNeighborsClassifier(n_neighbors=2)  # Du kannst die Anzahl der Nachbarn (n_neighbors) nach Bedarf anpassen\n",
        "\n",
        "# 3. Modell trainieren\n",
        "knn.fit(X_train, y_train)\n",
        "\n",
        "# 4. Modell evaluieren\n",
        "y_pred = knn.predict(X_test)\n",
        "accuracy = accuracy_score(y_test, y_pred)\n",
        "print(f'Genauigkeit: {accuracy * 100:.2f}%')"
      ],
      "metadata": {
        "id": "2uzz_EM0sgic",
        "outputId": "4ea0cd00-f613-4e98-f388-5502297a06d1",
        "colab": {
          "base_uri": "https://localhost:8080/"
        }
      },
      "execution_count": 58,
      "outputs": [
        {
          "output_type": "stream",
          "name": "stdout",
          "text": [
            "Genauigkeit: 32.07%\n"
          ]
        }
      ]
    },
    {
      "cell_type": "code",
      "source": [
        "from sklearn.model_selection import train_test_split\n",
        "from sklearn.ensemble import RandomForestClassifier\n",
        "from sklearn.metrics import accuracy_score\n",
        "\n",
        "# Angenommen standardized_feature_array und label_array_colorhist sind bereits definiert.\n",
        "\n",
        "# Train-Test-Split\n",
        "X_train, X_test, y_train, y_test = train_test_split(standardized_feature_array_lbp , label_array_colorhist, test_size=0.2, random_state=42)\n",
        "\n",
        "# Random Forest Modell erstellen\n",
        "random_forest = RandomForestClassifier(\n",
        "    n_estimators=150,\n",
        "    max_depth=20,\n",
        "    min_samples_leaf=2,\n",
        "    min_samples_split=5,\n",
        "    max_features='sqrt',\n",
        "    bootstrap=True,\n",
        "    random_state=42  # Für reproduzierbare Ergebnisse\n",
        ")  # n_estimators gibt die Anzahl der Bäume im Wald an\n",
        "\n",
        "# Modell trainieren\n",
        "random_forest.fit(X_train, y_train)\n",
        "\n",
        "# Modell evaluieren\n",
        "y_pred = random_forest.predict(X_test)\n",
        "accuracy = accuracy_score(y_test, y_pred)\n",
        "print(f'Genauigkeit: {accuracy * 100:.2f}%')\n"
      ],
      "metadata": {
        "colab": {
          "base_uri": "https://localhost:8080/"
        },
        "id": "WC7WvDSSduog",
        "outputId": "96090584-2868-470a-d631-cc2f3412192d"
      },
      "execution_count": 50,
      "outputs": [
        {
          "output_type": "stream",
          "name": "stdout",
          "text": [
            "Genauigkeit: 45.53%\n"
          ]
        }
      ]
    },
    {
      "cell_type": "markdown",
      "source": [
        "**Gridsearch** für Random Forest zur Hyperparameter-Optimierung verwenden."
      ],
      "metadata": {
        "id": "ysF__NUzftMb"
      }
    },
    {
      "cell_type": "code",
      "source": [
        "from sklearn.model_selection import GridSearchCV\n",
        "from sklearn.ensemble import RandomForestClassifier"
      ],
      "metadata": {
        "id": "G5N7qJb6fzcl"
      },
      "execution_count": 32,
      "outputs": []
    },
    {
      "cell_type": "code",
      "source": [
        "# Parameter-Grid definieren\n",
        "\n",
        "param_grid = {\n",
        "    'n_estimators': [200, 300],  # Reduziere auf zwei Möglichkeiten\n",
        "    'max_depth': [10, 20, None],  # Halte einige Optionen für Variabilität\n",
        "    'min_samples_leaf': [1, 4],  # Beschränke auf zwei Enden des Spektrums\n",
        "    'min_samples_split': [2, 10],  # Ebenfalls eine reduzierte Auswahl\n",
        "    'max_features': ['sqrt'],  # Beschränke dich auf die häufigste Option\n",
        "    # 'bootstrap': [True]  # Optional: Entferne, wenn du den Standardwert nutzen möchtest\n",
        "}\n"
      ],
      "metadata": {
        "id": "ywfdLN2BgDu4"
      },
      "execution_count": 33,
      "outputs": []
    },
    {
      "cell_type": "code",
      "source": [
        "# Initialisiere GridSearchCV\n",
        "\n",
        "# Initialisiere den Random Forest Classifier\n",
        "rf = RandomForestClassifier()\n",
        "\n",
        "# Initialisiere GridSearchCV\n",
        "grid_search = GridSearchCV(estimator=rf, param_grid=param_grid, cv=3, n_jobs=-1, verbose=2, scoring='accuracy')\n"
      ],
      "metadata": {
        "id": "s9dXbhzxgHRX"
      },
      "execution_count": 34,
      "outputs": []
    },
    {
      "cell_type": "code",
      "source": [
        "# Führe die Grid-Suche aus\n",
        "grid_search.fit(X_train, y_train)\n"
      ],
      "metadata": {
        "colab": {
          "base_uri": "https://localhost:8080/",
          "height": 158
        },
        "id": "B4m7jT35gM_j",
        "outputId": "96abb5d9-8e05-4d76-be1e-addaa5d0e910"
      },
      "execution_count": 35,
      "outputs": [
        {
          "output_type": "stream",
          "name": "stdout",
          "text": [
            "Fitting 3 folds for each of 24 candidates, totalling 72 fits\n"
          ]
        },
        {
          "output_type": "execute_result",
          "data": {
            "text/plain": [
              "GridSearchCV(cv=3, estimator=RandomForestClassifier(), n_jobs=-1,\n",
              "             param_grid={'max_depth': [10, 20, None], 'max_features': ['sqrt'],\n",
              "                         'min_samples_leaf': [1, 4],\n",
              "                         'min_samples_split': [2, 10],\n",
              "                         'n_estimators': [100, 200]},\n",
              "             scoring='accuracy', verbose=2)"
            ],
            "text/html": [
              "<style>#sk-container-id-1 {color: black;background-color: white;}#sk-container-id-1 pre{padding: 0;}#sk-container-id-1 div.sk-toggleable {background-color: white;}#sk-container-id-1 label.sk-toggleable__label {cursor: pointer;display: block;width: 100%;margin-bottom: 0;padding: 0.3em;box-sizing: border-box;text-align: center;}#sk-container-id-1 label.sk-toggleable__label-arrow:before {content: \"▸\";float: left;margin-right: 0.25em;color: #696969;}#sk-container-id-1 label.sk-toggleable__label-arrow:hover:before {color: black;}#sk-container-id-1 div.sk-estimator:hover label.sk-toggleable__label-arrow:before {color: black;}#sk-container-id-1 div.sk-toggleable__content {max-height: 0;max-width: 0;overflow: hidden;text-align: left;background-color: #f0f8ff;}#sk-container-id-1 div.sk-toggleable__content pre {margin: 0.2em;color: black;border-radius: 0.25em;background-color: #f0f8ff;}#sk-container-id-1 input.sk-toggleable__control:checked~div.sk-toggleable__content {max-height: 200px;max-width: 100%;overflow: auto;}#sk-container-id-1 input.sk-toggleable__control:checked~label.sk-toggleable__label-arrow:before {content: \"▾\";}#sk-container-id-1 div.sk-estimator input.sk-toggleable__control:checked~label.sk-toggleable__label {background-color: #d4ebff;}#sk-container-id-1 div.sk-label input.sk-toggleable__control:checked~label.sk-toggleable__label {background-color: #d4ebff;}#sk-container-id-1 input.sk-hidden--visually {border: 0;clip: rect(1px 1px 1px 1px);clip: rect(1px, 1px, 1px, 1px);height: 1px;margin: -1px;overflow: hidden;padding: 0;position: absolute;width: 1px;}#sk-container-id-1 div.sk-estimator {font-family: monospace;background-color: #f0f8ff;border: 1px dotted black;border-radius: 0.25em;box-sizing: border-box;margin-bottom: 0.5em;}#sk-container-id-1 div.sk-estimator:hover {background-color: #d4ebff;}#sk-container-id-1 div.sk-parallel-item::after {content: \"\";width: 100%;border-bottom: 1px solid gray;flex-grow: 1;}#sk-container-id-1 div.sk-label:hover label.sk-toggleable__label {background-color: #d4ebff;}#sk-container-id-1 div.sk-serial::before {content: \"\";position: absolute;border-left: 1px solid gray;box-sizing: border-box;top: 0;bottom: 0;left: 50%;z-index: 0;}#sk-container-id-1 div.sk-serial {display: flex;flex-direction: column;align-items: center;background-color: white;padding-right: 0.2em;padding-left: 0.2em;position: relative;}#sk-container-id-1 div.sk-item {position: relative;z-index: 1;}#sk-container-id-1 div.sk-parallel {display: flex;align-items: stretch;justify-content: center;background-color: white;position: relative;}#sk-container-id-1 div.sk-item::before, #sk-container-id-1 div.sk-parallel-item::before {content: \"\";position: absolute;border-left: 1px solid gray;box-sizing: border-box;top: 0;bottom: 0;left: 50%;z-index: -1;}#sk-container-id-1 div.sk-parallel-item {display: flex;flex-direction: column;z-index: 1;position: relative;background-color: white;}#sk-container-id-1 div.sk-parallel-item:first-child::after {align-self: flex-end;width: 50%;}#sk-container-id-1 div.sk-parallel-item:last-child::after {align-self: flex-start;width: 50%;}#sk-container-id-1 div.sk-parallel-item:only-child::after {width: 0;}#sk-container-id-1 div.sk-dashed-wrapped {border: 1px dashed gray;margin: 0 0.4em 0.5em 0.4em;box-sizing: border-box;padding-bottom: 0.4em;background-color: white;}#sk-container-id-1 div.sk-label label {font-family: monospace;font-weight: bold;display: inline-block;line-height: 1.2em;}#sk-container-id-1 div.sk-label-container {text-align: center;}#sk-container-id-1 div.sk-container {/* jupyter's `normalize.less` sets `[hidden] { display: none; }` but bootstrap.min.css set `[hidden] { display: none !important; }` so we also need the `!important` here to be able to override the default hidden behavior on the sphinx rendered scikit-learn.org. See: https://github.com/scikit-learn/scikit-learn/issues/21755 */display: inline-block !important;position: relative;}#sk-container-id-1 div.sk-text-repr-fallback {display: none;}</style><div id=\"sk-container-id-1\" class=\"sk-top-container\"><div class=\"sk-text-repr-fallback\"><pre>GridSearchCV(cv=3, estimator=RandomForestClassifier(), n_jobs=-1,\n",
              "             param_grid={&#x27;max_depth&#x27;: [10, 20, None], &#x27;max_features&#x27;: [&#x27;sqrt&#x27;],\n",
              "                         &#x27;min_samples_leaf&#x27;: [1, 4],\n",
              "                         &#x27;min_samples_split&#x27;: [2, 10],\n",
              "                         &#x27;n_estimators&#x27;: [100, 200]},\n",
              "             scoring=&#x27;accuracy&#x27;, verbose=2)</pre><b>In a Jupyter environment, please rerun this cell to show the HTML representation or trust the notebook. <br />On GitHub, the HTML representation is unable to render, please try loading this page with nbviewer.org.</b></div><div class=\"sk-container\" hidden><div class=\"sk-item sk-dashed-wrapped\"><div class=\"sk-label-container\"><div class=\"sk-label sk-toggleable\"><input class=\"sk-toggleable__control sk-hidden--visually\" id=\"sk-estimator-id-1\" type=\"checkbox\" ><label for=\"sk-estimator-id-1\" class=\"sk-toggleable__label sk-toggleable__label-arrow\">GridSearchCV</label><div class=\"sk-toggleable__content\"><pre>GridSearchCV(cv=3, estimator=RandomForestClassifier(), n_jobs=-1,\n",
              "             param_grid={&#x27;max_depth&#x27;: [10, 20, None], &#x27;max_features&#x27;: [&#x27;sqrt&#x27;],\n",
              "                         &#x27;min_samples_leaf&#x27;: [1, 4],\n",
              "                         &#x27;min_samples_split&#x27;: [2, 10],\n",
              "                         &#x27;n_estimators&#x27;: [100, 200]},\n",
              "             scoring=&#x27;accuracy&#x27;, verbose=2)</pre></div></div></div><div class=\"sk-parallel\"><div class=\"sk-parallel-item\"><div class=\"sk-item\"><div class=\"sk-label-container\"><div class=\"sk-label sk-toggleable\"><input class=\"sk-toggleable__control sk-hidden--visually\" id=\"sk-estimator-id-2\" type=\"checkbox\" ><label for=\"sk-estimator-id-2\" class=\"sk-toggleable__label sk-toggleable__label-arrow\">estimator: RandomForestClassifier</label><div class=\"sk-toggleable__content\"><pre>RandomForestClassifier()</pre></div></div></div><div class=\"sk-serial\"><div class=\"sk-item\"><div class=\"sk-estimator sk-toggleable\"><input class=\"sk-toggleable__control sk-hidden--visually\" id=\"sk-estimator-id-3\" type=\"checkbox\" ><label for=\"sk-estimator-id-3\" class=\"sk-toggleable__label sk-toggleable__label-arrow\">RandomForestClassifier</label><div class=\"sk-toggleable__content\"><pre>RandomForestClassifier()</pre></div></div></div></div></div></div></div></div></div></div>"
            ]
          },
          "metadata": {},
          "execution_count": 35
        }
      ]
    },
    {
      "cell_type": "code",
      "source": [
        "# Ausgabe der besten Parameter\n",
        "print(\"Beste Parameter:\", grid_search.best_params_)\n",
        "\n",
        "# Ausgabe der besten Schätzung\n",
        "best_model = grid_search.best_estimator_\n",
        "\n",
        "# Verwende das beste Modell für Vorhersagen\n",
        "predictions = best_model.predict(X_test)\n",
        "\n",
        "# Berechne die Genauigkeit oder eine andere gewünschte Metrik\n",
        "from sklearn.metrics import accuracy_score\n",
        "print(\"Genauigkeit:\", accuracy_score(y_test, predictions))\n"
      ],
      "metadata": {
        "id": "2opm9S0FgOfz",
        "outputId": "14d1ead1-a224-4a51-dc48-037e4f43892e",
        "colab": {
          "base_uri": "https://localhost:8080/"
        }
      },
      "execution_count": 36,
      "outputs": [
        {
          "output_type": "stream",
          "name": "stdout",
          "text": [
            "Beste Parameter: {'max_depth': 20, 'max_features': 'sqrt', 'min_samples_leaf': 1, 'min_samples_split': 2, 'n_estimators': 200}\n",
            "Genauigkeit: 0.6077812828601472\n"
          ]
        }
      ]
    }
  ]
}