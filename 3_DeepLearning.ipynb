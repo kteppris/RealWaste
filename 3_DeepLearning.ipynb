{
 "cells": [
  {
   "cell_type": "markdown",
   "metadata": {
    "colab_type": "text",
    "id": "view-in-github"
   },
   "source": [
    "<a href=\"https://colab.research.google.com/github/kteppris/RealWaste/blob/main/DeepLearning.ipynb\" target=\"_parent\"><img src=\"https://colab.research.google.com/assets/colab-badge.svg\" alt=\"Open In Colab\"/></a>"
   ]
  },
  {
   "cell_type": "markdown",
   "metadata": {},
   "source": [
    "# Training von Deep Learning Modellen mit PyTorch Lightning"
   ]
  },
  {
   "cell_type": "markdown",
   "metadata": {},
   "source": [
    "In unserem Projekt werden PyTorch, Torchvision und PyTorch Lightning als wichtige Werkzeuge für die Entwicklung und das Training der CNNs verwendet.\n",
    "\n",
    "PyTorch ist ein flexibles und dynamisches Open-Source Deep-Learning-Framework, das von Forschern und Entwicklern aufgrund seiner Einfachheit und Effizienz geschätzt wird. Es bietet eine intuitive API, die es ermöglicht, komplexe neuronale Netzwerkarchitekturen einfach zu erstellen und zu trainieren. Die Flexibilität von PyTorch ermöglicht es, CNN-Modelle zu entwerfen und anzupassen, um sie an die spezifischen Anforderungen der Müllklassifizierungsaufgabe anzupassen. [The Linux Foundation 2024](https://pytorch.org/)\n",
    "\n",
    "Torchvision ist eine Bibliothek, die auf PyTorch aufbaut und speziell für Computer Vision-Anwendungen entwickelt wurde. Sie bietet eine Vielzahl von nützlichen Funktionen und Werkzeugen, darunter vortrainierte Modelle, Datensatz-Loader und Bildtransformationen. Torchvision wird in diesem Projekt genutzt, um auf vortrainierte CNN-Modelle wie Inception oder DenseNet zuzugreifen. Diese vortrainierten Modelle dienen als Ausgangspunkt für folgende Trainings und ermöglichen es, von bereits gelernten Merkmalen zu profitieren und somit die Trainings- und Rechenzeit zu verkürzen. So können bereits in wenigen Epochen hohe Klassifikationsgenauigkeiten erzielt werden. [The Linux Foundation 2024](https://pytorch.org/vision/stable/index.html)\n",
    "\n",
    "PyTorch Lightning ist ein Framework, das darauf abzielt, die Entwicklung von PyTorch-Modellen zu vereinfachen und zu standardisieren, indem es bewährte Praktiken und Designmuster fördert. Es bietet eine leichtgewichtige und modulare API, die es ermöglicht, Trainings- und Evaluierungsschleifen effizient zu organisieren und zu verwalten. Durch die Verwendung von PyTorch Lightning kann der Code strukturiert, wieder verwendbare Komponenten erstellt und das Training der CNN-Modelle skalierbarer und einfacher gemacht werden. [Lightning AI 2024](https://lightning.ai/docs/pytorch/stable/)\n",
    "\n",
    "Single et al. 2023 haben in ihrem Paper Modelle unter Verwendung der folgenden Backbones trainiert: VGG-16, DenseNet121, Inception V3, InceptionResNet V2 sowie MobileNetV2. Da Single et al. ihren Code nicht veröffentlicht haben, werden zunächst sowohl das beste, Inception V3 mit einer Accuracy von 89.19%, als auch das schlechteste Modell, Vgg16 mit einer Accuracy von 85,65%, ebenfalls trainiert, um die technischen Einstellungen zu überprüfen sowie über eine Referenz für die nachfolgend trainierten Modelle zu verfügen. \n",
    "Da dieses Projekts zeitlichen Limitationen unterliegt, wird unter Rückbezug auf das paper \"A Systematic Review of Machine Learning Approaches for Trash Classification\" von [Vidhya 2023](https://ieeexplore.ieee.org/document/10125688) eine Auswahl der weiterführen zu trainierenden Modelle getroffen. Des weiteren unterliegt dieses Projekt der Herausforderung einer begrenzten Rechenkapazität. Um diese zu bewältigen, wird sich bei der Auswahl der Backbones auf die in torchvision vorhandenen Backbones beschränkt. Torchvision trägt weitergehend zu der Einheitlichkeit des Codes sowie einer aufwandsarmen Implementierung bei. \n",
    "Basierend auf den soeben genannten Überlegungen werden zusätzlich zu Inception V3 und VGG16 die folgenden Modelle trainiert, um eine umfassende Bewertung der Backbones für die Bildklassifizierungsaufgabe zu ermöglichen. \n",
    "\n",
    "AlexNet zeichnet sich durch seine Pionierarbeit in der Einführung von CNNs für Bilderkennungsaufgaben aus, wobei seine tiefe Architektur und die Verwendung von Dropout-Regularisierung zu einer bemerkenswerten Leistungssteigerung bei der Bildklassifizierung führten, indem eine Vielzahl von Merkmalen aus den Bildern extrahiert und deren Generalisierungsfähigkeit verbessert wurde.\n",
    "\n",
    "DenseNet201 hebt sich durch sein dichtes Verbindungsverfahren hervor, bei dem jede Schicht direkte Verbindungen zu allen vorherigen Schichten aufweist, was zu einem starken Fokus auf den Informationsfluss innerhalb des Netzwerks führt und die Effektivität der Merkmalsextraktion und Klassifizierung bei Bildaufgaben erheblich verbessert.\n",
    "\n",
    "ResNet50 hebt sich durch seine innovative Residual-Lernstruktur hervor, die es ermöglicht, sehr tiefe neuronale Netzwerke zu trainieren, indem sie den Informationsfluss durch das Netzwerk erleichtert und das Auftreten von verschwindenden oder explodierenden Gradienten reduziert. Diese Architektur führt zu einer effizienten Merkmalsextraktion und einer verbesserten Genauigkeit bei der Bildklassifizierung sowie anderen visuellen Aufgaben.\n",
    "\n",
    "XXX Simple CNN Erläuterung + Vision Transformer XXX"
   ]
  },
  {
   "cell_type": "markdown",
   "metadata": {},
   "source": [
    "# Setup und übergreifende Methoden und Klassen"
   ]
  },
  {
   "cell_type": "markdown",
   "metadata": {
    "tags": []
   },
   "source": [
    "## Datenpfade setzen"
   ]
  },
  {
   "cell_type": "markdown",
   "metadata": {},
   "source": [
    "- Setup der Pfade"
   ]
  },
  {
   "cell_type": "code",
   "execution_count": 40,
   "metadata": {
    "tags": []
   },
   "outputs": [
    {
     "name": "stdout",
     "output_type": "stream",
     "text": [
      "Stellen Sie sicher, dass das richtige Venv als Kernel ausgewählt ist,\n",
      "welches wie in '1_Hauptnotebook.ipynb' beschrieben erstellt wurde.\n"
     ]
    }
   ],
   "source": [
    "import sys\n",
    "from pathlib import Path\n",
    "\n",
    "# Funktion, die prüft, ob dieses Skript in Colab ausgeführt wird\n",
    "def in_colab():\n",
    "    # sys beinhaltet alle bereits geladenen Pakete\n",
    "    return 'google.colab' in sys.modules  # google.colab wird automatisch in Colab vorgeladen, daher Indiz für Colab Environment\n",
    "\n",
    "code_repo_path = Path(\"/content/drive/MyDrive/MADS/RealWaste\") if in_colab() else Path.cwd()\n",
    "\n",
    "if in_colab():\n",
    "    # Google Drive einbinden zum persistieren von Code, Daten und Ergebnissen\n",
    "    from google.colab import drive\n",
    "    drive.mount('/content/drive')\n",
    "    if not code_repo_path.exists():\n",
    "        raise FileNotFoundError(\"Code und Datenordner konnte nicht gefunden werden. Bitte zuerst das Notebook '1_Hauptnotebook.ipynb' ausführen.\")\n",
    "    else:\n",
    "        # wechsle Arbeitsverzeichnis zu code_repo_path\n",
    "        %cd {code_repo_path}\n",
    "        print(f\"Wechsel Arbeitsverzeichnis zu {Path.cwd()}\")\n",
    "        %pip install -r requirements.txt\n",
    "else:\n",
    "    print(\"Stellen Sie sicher, dass das richtige Venv als Kernel ausgewählt ist,\\nwelches wie in '1_Hauptnotebook.ipynb' beschrieben erstellt wurde.\")\n",
    "\n",
    "train_data_path = code_repo_path / \"data\"\n",
    "our_test_data_path = code_repo_path / \"our_test_data\""
   ]
  },
  {
   "cell_type": "markdown",
   "metadata": {
    "tags": []
   },
   "source": [
    "## Konfigurierbare Datamodule Klasse\n",
    "\n",
    "- Basis des Datenmodules, sodass später nurnoch transformationen angepasst werden müssen"
   ]
  },
  {
   "cell_type": "code",
   "execution_count": 41,
   "metadata": {
    "id": "iLKzw8mszMVM",
    "tags": []
   },
   "outputs": [],
   "source": [
    "from pytorch_lightning import LightningDataModule\n",
    "from torchvision.datasets import ImageFolder\n",
    "from torch.utils.data import DataLoader, Subset\n",
    "import torch\n",
    "import os\n",
    "import numpy as np\n",
    "from sklearn.model_selection import StratifiedShuffleSplit\n",
    "\n",
    "class ConfigurableDataModule(LightningDataModule):\n",
    "    def __init__(self, train_data_dir: str, test_data_dir: str, batch_size: int, train_transform, val_test_transform, workers=-1, seed=42):\n",
    "        super().__init__()\n",
    "        self.workers = os.cpu_count() if workers == -1 else workers\n",
    "        self.train_data_dir = train_data_dir  # Daten von RealWaste Datensatz\n",
    "        self.test_data_dir = test_data_dir  # Unsere Testdaten\n",
    "        self.batch_size = batch_size\n",
    "        self.train_transform = train_transform  # Training Transformation, die auch Rotate etc. beinhalten\n",
    "        self.val_test_transform = val_test_transform  # Val/Test Transformation die normalerweise nur to tensor, normalisierung etc. beinhalten\n",
    "        self.seed = seed # Seed zum gewährleisten von gleichen Splits des Trainingsdatensatzes\n",
    "\n",
    "    def setup(self, stage=None):\n",
    "        torch.manual_seed(self.seed)\n",
    "        np.random.seed(self.seed)\n",
    "\n",
    "        # Setup des Trainings und Validierungsdatensates\n",
    "        if stage in (None, \"fit\"):\n",
    "            # Laden des Training Datensatzes mit den zugehörigen Transformierungen\n",
    "            full_train_dataset = ImageFolder(root=self.train_data_dir, transform=self.train_transform)\n",
    "            \n",
    "            # Ermitteln der Indizes für Train/Val Split nach gleichen Verfahren wie bei den klassischen ML Methoden\n",
    "            train_indices, val_indices = self.stratified_split(full_train_dataset)\n",
    "\n",
    "            # Train Datensatz setzen basierend auf den bestimmten Indizes\n",
    "            self.train_dataset = Subset(full_train_dataset, train_indices)\n",
    "\n",
    "            # Validation Datensatz Laden wie zuvor der Trainingsdatensatz, aber mit anderen Transformierungen\n",
    "            # Dies ermöglicht es, beispielsweise Rotate nur auf die Trainingsdaten anzuwenden, aber normalisierung auf beide\n",
    "            full_val_dataset = ImageFolder(root=self.train_data_dir, transform=self.val_test_transform)\n",
    "            # Setzen des Validierungsdatensatzes basierend auf den Indizes\n",
    "            self.val_dataset = Subset(full_val_dataset, val_indices)\n",
    "\n",
    "        # Setup unseres Testdatensates\n",
    "        if stage == \"test\":\n",
    "            # Nutzung der Val/Test Transfomierungen\n",
    "            self.test_dataset = ImageFolder(root=self.test_data_dir, transform=self.val_test_transform)\n",
    "\n",
    "    def stratified_split(self, dataset):\n",
    "        # Ermittelt Indizes für Train/Test split mit gleicher Verteilung der Klassen und festgesetzten seed\n",
    "        targets = np.array([sample[1] for sample in dataset.samples])\n",
    "\n",
    "        X_dummy = np.zeros(len(targets))\n",
    "        # 20% Test, 80% Train\n",
    "        sss = StratifiedShuffleSplit(n_splits=1, test_size=0.2, random_state=self.seed)\n",
    "        \n",
    "        for train_index, val_index in sss.split(X_dummy, targets):\n",
    "            return train_index, val_index\n",
    "\n",
    "    def train_dataloader(self):\n",
    "        return DataLoader(self.train_dataset, batch_size=self.batch_size, shuffle=True, num_workers=self.workers)\n",
    "\n",
    "    def val_dataloader(self):\n",
    "        return DataLoader(self.val_dataset, batch_size=self.batch_size, num_workers=self.workers)\n",
    "\n",
    "    def test_dataloader(self):\n",
    "        return DataLoader(self.test_dataset, batch_size=self.batch_size, num_workers=self.workers)\n"
   ]
  },
  {
   "cell_type": "markdown",
   "metadata": {
    "tags": []
   },
   "source": [
    "## Base Lightning Module\n",
    "\n",
    "- Basis für das Training und die individuellen Modelle\n",
    "- Output Ordner:\n",
    "    - Speichern von CSV logs, model checkpoints, Bilder aus Validierung und Test\n",
    "- Metriken:\n",
    "    - Acc, Precision, Recall und F1 Score: Alle Macro gewichtet\n",
    "- Loss:\n",
    "    - Cross Entropy\n",
    "- Logging:\n",
    "    - Läuft über später reingegebene Callbacks\n",
    "- Step/Epoch\n",
    "    - Steps sind die einzelnen Schritte, wo jeweils eine Bach verarbeitet wird und beim Training Gewichte angepasst werden (Backpropagation)\n",
    "    - Eine Epoch ist rum wenn alle Bilder eines der Subdatensätze verwendet wurden. Hier wird der Epochdurchschnitt der Metriken berechnet.\n",
    "    - on_... sind Callback functions von Lightning die automatisch nach den train/val/test epochen aufgerufen werden\n",
    "- Log images:\n",
    "    - Custom Function die mit 10% wahrscheinlichkeit Bilder während der Validierung/Test logged. Diese werden auch beschriftet, sodass man sie später überprüfen kann"
   ]
  },
  {
   "cell_type": "code",
   "execution_count": 42,
   "metadata": {
    "id": "4NpGi1lvzMVM",
    "tags": []
   },
   "outputs": [],
   "source": [
    "from PIL import ImageDraw\n",
    "import pytorch_lightning as pl\n",
    "import torch\n",
    "import torchmetrics\n",
    "import torchvision\n",
    "import torchvision.transforms.functional as F\n",
    "from torchvision.transforms.functional import to_tensor\n",
    "import random\n",
    "import time\n",
    "import shutil\n",
    "from pathlib import Path\n",
    "\n",
    "class BaseWasteClassifier(pl.LightningModule):\n",
    "    CLASS_NAMES = ['Cardboard', 'Food Organics', 'Glass', 'Metal', 'Miscellaneous Trash', 'Paper', 'Plastic', 'Textile Trash', 'Vegetation']\n",
    "\n",
    "    def __init__(self, num_classes: int, results_dir=\"results\"):\n",
    "        super().__init__()\n",
    "        self.num_classes = num_classes\n",
    "        # Klassennamen bekommen, für den result Ordner namen\n",
    "        model_class_name = self.__class__.__name__\n",
    "        \n",
    "        # Ergebnisspfade definieren\n",
    "        self.results_dir = Path(results_dir) / model_class_name\n",
    "        self.models_dir = self.results_dir / \"models\"\n",
    "        self.images_dir = self.results_dir / \"images\" \n",
    "        self.logs_dir = self.results_dir / \"logs\"\n",
    "        self.version = None # For later the current Version\n",
    "\n",
    "        # Pfade erstellen\n",
    "        self.results_dir.mkdir(parents=True, exist_ok=True)\n",
    "        self.models_dir.mkdir(parents=True, exist_ok=True)\n",
    "        self.images_dir.mkdir(parents=True, exist_ok=True)\n",
    "        self.logs_dir.mkdir(parents=True, exist_ok=True)\n",
    "\n",
    "        # Platzhalter wo später das tatsächlich Modell hinkommt\n",
    "        # Wird bei konkreten Klassen definiert\n",
    "        self.model = None\n",
    "        \n",
    "        # Neue Konvention nach: https://github.com/Lightning-AI/pytorch-lightning/pull/16520\n",
    "        self.validation_step_outputs = []\n",
    "        # self.last_validation_step_outputs = []\n",
    "        self.test_step_outputs = []\n",
    "        # self.last_validation_step_outputs = []\n",
    "        \n",
    "        # Metrik tracker initialisieren\n",
    "        # Nutzung von macro average zum beachten der ungleichen Anzahl von Fotos in den Klassen\n",
    "        self.accuracy = torchmetrics.Accuracy(task='multiclass', num_classes=num_classes, average='macro')\n",
    "        self.precision = torchmetrics.Precision(task='multiclass', num_classes=num_classes, average='macro')\n",
    "        self.recall = torchmetrics.Recall(task='multiclass', num_classes=num_classes, average='macro')\n",
    "        self.f1_score = torchmetrics.F1Score(task='multiclass', num_classes=num_classes, average='macro')\n",
    "\n",
    "\n",
    "    def forward(self, x):\n",
    "        # Diese Method ist quasi \"abstract\" und muss von der jeweiligen konkreten Klasse definiert werden\n",
    "        raise NotImplementedError(\"This method should be overridden by subclasses.\")\n",
    "        \n",
    "    def training_step(self, batch, batch_idx):\n",
    "        x, y = batch\n",
    "        outputs = self(x)\n",
    "        logits = outputs if isinstance(outputs, torch.Tensor) else outputs[0]  \n",
    "        loss = torch.nn.functional.cross_entropy(logits, y)\n",
    "        \n",
    "        preds = torch.argmax(logits, dim=1)\n",
    "        \n",
    "        # Für das Training berechnen wir die Metriken in jedem step, sodass wir live to Fortschritt sehen\n",
    "        acc = self.accuracy(preds, y)\n",
    "        precision = self.precision(preds, y)\n",
    "        recall = self.recall(preds, y)\n",
    "        f1 = self.f1_score(preds, y)  \n",
    "        \n",
    "        # Logging der Metriken\n",
    "        self.log('train_loss', loss, on_step=True, on_epoch=True, prog_bar=True, logger=True)\n",
    "        self.log('train_acc', acc, on_step=True, on_epoch=True, prog_bar=True, logger=True)\n",
    "        self.log('train_precision', precision, on_step=True, on_epoch=True, prog_bar=True, logger=True)\n",
    "        self.log('train_recall', recall, on_step=True, on_epoch=True, prog_bar=True, logger=True)\n",
    "        self.log('train_f1', f1, on_step=True, on_epoch=True, prog_bar=True, logger=True)\n",
    "        return loss\n",
    "\n",
    "    def validation_step(self, batch, batch_idx):\n",
    "        x, y = batch\n",
    "\n",
    "        start_time = time.perf_counter()\n",
    "        outputs = self(x)\n",
    "        inference_time = time.perf_counter() - start_time\n",
    "        \n",
    "        # Durchschnittliche Inferenzzeit pro Bild Berechnen und loggen\n",
    "        avg_inference_time_per_image = inference_time / len(x)\n",
    "        self.log('val_avg_inference_time_per_image', avg_inference_time_per_image)\n",
    "        logits = outputs if isinstance(outputs, torch.Tensor) else outputs[0]\n",
    "        \n",
    "        # Die Eigenlichte Vorhersage aus den logits ermittelt (höchster Wahrscheinlichkeitswert)\n",
    "        preds = torch.argmax(outputs, dim=1)\n",
    "        \n",
    "        # Loss Berechnen und loggen\n",
    "        loss = torch.nn.functional.cross_entropy(logits, y)\n",
    "        self.log('val_loss', loss, on_step=False, on_epoch=True, prog_bar=True, logger=True)\n",
    "        \n",
    "        self.validation_step_outputs.append({'img': x, 'loss': loss, 'preds': preds, 'targets': y})\n",
    "    \n",
    "    def test_step(self, batch, batch_idx):\n",
    "        x, y = batch\n",
    "\n",
    "        start_time = time.perf_counter()\n",
    "        outputs = self(x)\n",
    "        inference_time = time.perf_counter() - start_time\n",
    "        \n",
    "        # Durchschnittliche Inferenzzeit pro Bild Berechnen und loggen\n",
    "        avg_inference_time_per_image = inference_time / len(x)\n",
    "        self.log('test_avg_inference_time_per_image', avg_inference_time_per_image)\n",
    "        logits = outputs if isinstance(outputs, torch.Tensor) else outputs[0]\n",
    "        \n",
    "        # Die Eigenlichte Vorhersage aus den logits ermittelt (höchster Wahrscheinlichkeitswert)\n",
    "        preds = torch.argmax(outputs, dim=1)\n",
    "        \n",
    "        # Loss Berechnen und loggen\n",
    "        loss = torch.nn.functional.cross_entropy(logits, y)\n",
    "        self.log('our_test_data_loss', loss, on_step=False, on_epoch=True, prog_bar=True, logger=True)\n",
    "        \n",
    "        self.test_step_outputs.append({'img': y,'loss': loss, 'preds': preds, 'targets': y})\n",
    "    \n",
    "    def on_validation_epoch_end(self):\n",
    "        outputs = self.validation_step_outputs\n",
    "        # Aggregieren der Vorhersagen und Label aus allen Validierungssteps\n",
    "        preds = torch.cat([x['preds'] for x in outputs], dim=0)\n",
    "        targets = torch.cat([x['targets'] for x in outputs], dim=0)\n",
    "\n",
    "        self.validation_step_outputs.clear()\n",
    "        \n",
    "        # Logging den Metriken basierend auf den Ergebnissen der ganzen Val Epoche\n",
    "        self.log('val_acc', self.accuracy(preds, targets))\n",
    "        self.log('val_precision', self.precision(preds, targets))\n",
    "        self.log('val_recall', self.recall(preds, targets))\n",
    "        self.log('val_f1', self.f1_score(preds, targets))\n",
    "\n",
    "    def on_test_epoch_end(self):\n",
    "        # Aggregieren der Vorhersagen und Label aus allen Teststeps\n",
    "        outputs = self.test_step_outputs\n",
    "        preds = torch.cat([x['preds'] for x in outputs], dim=0)\n",
    "        targets = torch.cat([x['targets'] for x in outputs], dim=0)\n",
    "        \n",
    "\n",
    "        self.test_step_outputs.clear()\n",
    "        \n",
    "        # Log test metrics with \"our_test_data_\" prefix\n",
    "        self.log('our_test_data_acc', self.accuracy(preds, targets))\n",
    "        self.log('our_test_data_precision', self.precision(preds, targets))\n",
    "        self.log('our_test_data_recall', self.recall(preds, targets))\n",
    "        self.log('our_test_data_f1', self.f1_score(preds, targets))\n",
    "\n",
    "    def configure_optimizers(self):\n",
    "        # SGD, kann überschrieben werden wenn andere Optimizer gewünscht\n",
    "        optimizer = torch.optim.SGD(self.model.parameters(), lr=0.001, momentum=0.9)\n",
    "        return optimizer\n"
   ]
  },
  {
   "cell_type": "markdown",
   "metadata": {
    "tags": []
   },
   "source": [
    "## PyTorch Lightning Callbacks\n",
    "\n",
    "- Funktion die checkpoint und early stop callback vorbereit\n",
    "- Reduziert das laden dieser Callbacks for jedem Training zu einer Zeile Code"
   ]
  },
  {
   "cell_type": "code",
   "execution_count": 43,
   "metadata": {
    "tags": []
   },
   "outputs": [],
   "source": [
    "from pathlib import Path\n",
    "from PIL import Image, ImageDraw\n",
    "import torchvision\n",
    "from torchvision.transforms.functional import to_pil_image, to_tensor\n",
    "import numpy as np\n",
    "import torch\n",
    "import os\n",
    "import pytorch_lightning as pl\n",
    "from sklearn.metrics import confusion_matrix\n",
    "from pytorch_lightning.callbacks import Callback\n",
    "\n",
    "class EnhancedSaveCallback(Callback):\n",
    "    def __init__(self, monitor='val_acc', mode='max', save_image_pct=0.1):\n",
    "        super().__init__()\n",
    "        self.monitor = monitor\n",
    "        self.mode = mode\n",
    "        self.best_metric = 0 if mode == 'max' else float('inf')\n",
    "        self.save_image_pct = save_image_pct\n",
    "\n",
    "    def on_validation_end(self, trainer, pl_module):\n",
    "        outputs = pl_module.last_validation_step_outputs\n",
    "        print(\"ON_VAL_END\")\n",
    "        if outputs:\n",
    "            current_metric = trainer.callback_metrics.get(self.monitor)\n",
    "            print(\"ON_VAL_END_OUTPUT\")\n",
    "            if current_metric is not None:\n",
    "                print(\"ON_VAL_END_OUTPUT_METRIC\")\n",
    "                # Prüfen ob aktuelle \"monitor\" Metrik die beste bisher ist -> bool yes/no\n",
    "                is_best = (current_metric > self.best_metric if self.mode == 'max' else current_metric < self.best_metric)    \n",
    "                if is_best:\n",
    "                    print(\"ON_VAL_END_OUTPUT_METRIC_BEST\")\n",
    "                    self.best_metric = current_metric\n",
    "                    self.save_confusions_matrix(pl_module, outputs, 'val')\n",
    "                    self.log_images_with_labels(pl_module, outputs, 'val')\n",
    "\n",
    "    def on_test_end(self, trainer, pl_module):\n",
    "        outputs = pl_module.last_test_step_outputs\n",
    "        if outputs:\n",
    "            self.save_confusions_matrix(pl_module, outputs, 'test')\n",
    "            self.save_images_with_labels(pl_module, outputs, 'test')\n",
    "\n",
    "    def save_confusions_matrix(self, pl_module, outputs, phase):\n",
    "\n",
    "        labels = torch.cat([o['targets'] for o in outputs])\n",
    "        predictions = torch.cat([o['preds'] for o in outputs])\n",
    "        cm = confusion_matrix(targets, predictions)\n",
    "        \n",
    "        logs_dir = self.prepare_paths(pl_module.logs_dir, pl_module.version, phase)\n",
    "        file_path = logs_dir / f'confusion_matrix.npy'\n",
    "        np.save(file_path, cm)\n",
    "\n",
    "    def save_images_with_labels(self, pl_module, outputs, phase):\n",
    "        \n",
    "        # Collect images, labels, and predictions\n",
    "        images = torch.cat([o['img'] for o in outputs])\n",
    "        labels = torch.cat([o['targets'] for o in outputs])\n",
    "        predictions = torch.cat([o['preds'] for o in outputs])\n",
    "        \n",
    "        image_dir = self.prepare_path(pl_module.logs_dir, pl_module.version, phase)\n",
    "        \n",
    "        sample_indices = np.arange(len(images))\n",
    "        # Bei Validierung nur ein Teil der Bilder speichern\n",
    "        if phase == \"val\":\n",
    "            sample_size = int(len(images) * self.save_image_pct)\n",
    "            sample_indices = np.random.choice(sample_indices, size=sample_size, replace=False)\n",
    "        \n",
    "        for idx in sample_indices:\n",
    "            image, label, prediction = images[idx], labels[idx], predictions[idx]\n",
    "            actual_class_name = pl_module.CLASS_NAMES[label.item()]\n",
    "\n",
    "            pil_img = to_pil_image(image)\n",
    "            draw = ImageDraw.Draw(pil_img)\n",
    "            annotation_text = f'Actual: {actual_class_name},\\nPredicted: {self.class_names[prediction.item()]}'\n",
    "            draw.text((10, 10), annotation_text, fill=\"white\")\n",
    "            \n",
    "            image_cls_dir = (image_dir / actual_class_name).mkdir(parents=True, exist_ok=True)\n",
    "            file_path = image_cls_dir / f\"image_{idx}.png\"\n",
    "            pil_img.save(file_path)\n",
    "\n",
    "    def unnormalize(self, image, mean=[0.485, 0.456, 0.406], std=[0.229, 0.224, 0.225]):\n",
    "        # normalisierung vom Anfang Rückgängig machen\n",
    "        image = image.clone()  \n",
    "        for t, m, s in zip(image, mean, std):\n",
    "            t.mul_(s).add_(m)  \n",
    "        return image\n",
    "    \n",
    "    def prepare_path(self, dir_path, version, phase):\n",
    "        dir_phase_path = pl_module.logs_dir / version / phase\n",
    "        if dir_phase_path.exists:\n",
    "            shutil.rmtree(dir_phase_path)\n",
    "        dir_phase_path.mkdir(parents=True, exist_ok=True)\n",
    "        return dir_phase_path"
   ]
  },
  {
   "cell_type": "code",
   "execution_count": 44,
   "metadata": {
    "id": "QF7vtHTdzMVN",
    "tags": []
   },
   "outputs": [],
   "source": [
    "from pytorch_lightning.callbacks import ModelCheckpoint\n",
    "from pytorch_lightning.callbacks import EarlyStopping\n",
    "\n",
    "def get_callbacks(model_checkpoint_path: str, early_stop_patience=2):\n",
    "    callbacks = []\n",
    "\n",
    "    # M\n",
    "    checkpoint_callback = ModelCheckpoint(\n",
    "        dirpath=model_checkpoint_path,\n",
    "        filename='{epoch}-{val_loss:.2f}',\n",
    "        save_top_k=1,  # Nur das beste Modell speichern\n",
    "        verbose=True,\n",
    "        monitor='val_loss',  # Metrik die beobachtet werden soll\n",
    "        mode='min', # Niedrigere loss ist besser\n",
    "    )\n",
    "    callbacks.append(checkpoint_callback)\n",
    "\n",
    "    # Stoppt des Training wenn sich val loss nicht verbessert\n",
    "    early_stopping_callback = EarlyStopping(\n",
    "        monitor=\"val_loss\",  # Loss beobachten um Overfitting zu vermeiden\n",
    "        mode=\"min\",  # Loss soll minimiert werden\n",
    "        patience=early_stop_patience,  # \"Wartet\" n Epochen ohne Verbesserung\n",
    "    )\n",
    "    callbacks.append(early_stopping_callback)\n",
    "    \n",
    "    return callbacks"
   ]
  },
  {
   "cell_type": "markdown",
   "metadata": {
    "tags": []
   },
   "source": [
    "## Metriken Plot Funktion"
   ]
  },
  {
   "cell_type": "code",
   "execution_count": 45,
   "metadata": {
    "tags": []
   },
   "outputs": [],
   "source": [
    "import pandas as pd\n",
    "import matplotlib.pyplot as plt\n",
    "import seaborn as sns\n",
    "from pathlib import Path  \n",
    "sns.set()\n",
    "\n",
    "\n",
    "# Diese Funktion kann genutzt werden, um die geloggeten CSV Daten nach einem Training zu visualisieren\n",
    "def make_summary_plots(logs_dir):\n",
    "    metrics_df = pd.read_csv(Path(logs_dir) / 'metrics.csv')\n",
    "\n",
    "    #     # Nach Epoch gruppieren und aggregieren der Metriken\n",
    "    agg_funcs = {col: 'last' for col in metrics_df.columns if 'epoch' in col or 'val_' in col}\n",
    "    metrics_df = metrics_df.groupby('epoch', as_index=False).agg(agg_funcs)\n",
    "\n",
    "    # Plots vorbereiten\n",
    "    fig, axs = plt.subplots(1, 3, figsize=(15, 5))  # Adjust to a single row with three columns\n",
    "    fig.suptitle('Training and Validation Metrics Over Epochs')\n",
    "\n",
    "    # Loss Funktionen \n",
    "    axs[0].plot(metrics_df['epoch'], metrics_df['train_loss_epoch'], label='Train Loss')\n",
    "    axs[0].plot(metrics_df['epoch'], metrics_df['val_loss'], label='Validation Loss')\n",
    "    axs[0].set_title('Loss')\n",
    "    axs[0].set_xlabel('Epoch')\n",
    "    axs[0].set_ylabel('Loss')\n",
    "    axs[0].set_ylim(0, 2.0)  # Set y-axis range for loss\n",
    "    axs[0].legend()\n",
    "\n",
    "    # Accuracy Plot\n",
    "    axs[1].plot(metrics_df['epoch'], metrics_df['train_acc_epoch'], label='Train Accuracy')\n",
    "    axs[1].plot(metrics_df['epoch'], metrics_df['val_acc'], label='Validation Accuracy')\n",
    "    axs[1].set_title('Accuracy')\n",
    "    axs[1].set_xlabel('Epoch')\n",
    "    axs[1].set_ylabel('Accuracy')\n",
    "    axs[1].set_ylim(0, 1)  # Set y-axis range for percentage metrics\n",
    "    axs[1].legend()\n",
    "\n",
    "    # Precision, Recall, and F1 Score Plot\n",
    "    axs[2].plot(metrics_df['epoch'], metrics_df['train_precision_epoch'], label='Train Precision')\n",
    "    axs[2].plot(metrics_df['epoch'], metrics_df['val_precision'], label='Validation Precision')\n",
    "    axs[2].plot(metrics_df['epoch'], metrics_df['train_recall_epoch'], label='Train Recall')\n",
    "    axs[2].plot(metrics_df['epoch'], metrics_df['val_recall'], label='Validation Recall')\n",
    "    axs[2].plot(metrics_df['epoch'], metrics_df['train_f1_epoch'], label='Train F1 Score')\n",
    "    axs[2].plot(metrics_df['epoch'], metrics_df['val_f1'], label='Validation F1 Score')\n",
    "    axs[2].set_title('Precision, Recall & F1 Score')\n",
    "    axs[2].set_xlabel('Epoch')\n",
    "    axs[2].set_ylabel('Score')\n",
    "    axs[2].set_ylim(0, 1)  # Set y-axis range for percentage metrics\n",
    "    axs[2].legend()\n",
    "\n",
    "    plt.tight_layout(rect=[0, 0.03, 1, 0.95])\n",
    "    plt.show()\n"
   ]
  },
  {
   "cell_type": "markdown",
   "metadata": {
    "tags": []
   },
   "source": [
    "## Train Modell Funktion\n",
    "\n",
    "- Initialisiert Logger\n",
    "- Startet Training"
   ]
  },
  {
   "cell_type": "code",
   "execution_count": 46,
   "metadata": {
    "id": "I1kGbm33zMVN",
    "tags": []
   },
   "outputs": [],
   "source": [
    "import os\n",
    "from pytorch_lightning import Trainer\n",
    "from pytorch_lightning.loggers import TensorBoardLogger, CSVLogger\n",
    "\n",
    "def train_model(model, data_module, tb_log_dir=\"tb_logs\", max_epochs=50, logger_name=\"model_logs\", version_name=\"version_0\", callbacks=[]):\n",
    "    # Logger definieren\n",
    "    tb_logger = TensorBoardLogger(tb_log_dir, name=logger_name)\n",
    "    csv_logger = CSVLogger(model.results_dir, name=\"logs\", version=version_name)\n",
    "    model.version = version_name\n",
    "    \n",
    "    trainer = Trainer(max_epochs=max_epochs, logger=[tb_logger, csv_logger], callbacks=callbacks)\n",
    "    \n",
    "    # Fit: Training und Validierung\n",
    "    trainer.fit(model, datamodule=data_module)\n",
    "    \n",
    "    # Vorbereiten des Test Datensatzes (siehe DataModule)\n",
    "    data_module.setup(\"test\")\n",
    "    # Test auf unseren Daten\n",
    "    trainer.test(\n",
    "        ckpt_path=\"best\", # Nutzt die Gewichte mit der besten val loss\n",
    "        model=model, \n",
    "        datamodule=data_module\n",
    "    )\n",
    "    \n",
    "    make_summary_plots(csv_logger.log_dir)\n"
   ]
  },
  {
   "cell_type": "markdown",
   "metadata": {},
   "source": [
    "# Training"
   ]
  },
  {
   "cell_type": "code",
   "execution_count": 9,
   "metadata": {
    "id": "V32_ezQmzMVP",
    "outputId": "c4e6eaf2-fef2-4e4b-e51a-396f500136f8",
    "tags": []
   },
   "outputs": [
    {
     "data": {
      "text/html": [
       "\n",
       "      <iframe id=\"tensorboard-frame-c2054f602bfa502\" width=\"100%\" height=\"800\" frameborder=\"0\">\n",
       "      </iframe>\n",
       "      <script>\n",
       "        (function() {\n",
       "          const frame = document.getElementById(\"tensorboard-frame-c2054f602bfa502\");\n",
       "          const url = new URL(\"/\", window.location);\n",
       "          const port = 6006;\n",
       "          if (port) {\n",
       "            url.port = port;\n",
       "          }\n",
       "          frame.src = url;\n",
       "        })();\n",
       "      </script>\n",
       "    "
      ],
      "text/plain": [
       "<IPython.core.display.HTML object>"
      ]
     },
     "metadata": {},
     "output_type": "display_data"
    }
   ],
   "source": [
    "%reload_ext tensorboard\n",
    "%tensorboard --logdir={code_repo_path / \"tb_logs\"}"
   ]
  },
  {
   "cell_type": "markdown",
   "metadata": {},
   "source": [
    "## Training mit Standardeinstellungen"
   ]
  },
  {
   "cell_type": "markdown",
   "metadata": {
    "id": "DPwtpxxvzMVO",
    "tags": []
   },
   "source": [
    "### SimpleCNN"
   ]
  },
  {
   "cell_type": "markdown",
   "metadata": {
    "tags": []
   },
   "source": [
    "#### Model"
   ]
  },
  {
   "cell_type": "code",
   "execution_count": 47,
   "metadata": {
    "id": "kgmcP64lzMVO",
    "tags": []
   },
   "outputs": [],
   "source": [
    "import torch.nn as nn\n",
    "\n",
    "class SimpleCNN(BaseWasteClassifier):\n",
    "    def __init__(self, num_classes=9, lr=1e-3):\n",
    "        self.lr = 1e-3\n",
    "        super().__init__(num_classes)\n",
    "        self.model = nn.Sequential(\n",
    "            nn.Conv2d(3, 16, 3, padding=1),\n",
    "            nn.ReLU(),\n",
    "            nn.MaxPool2d(2),\n",
    "            nn.Conv2d(16, 32, 3, padding=1),\n",
    "            nn.ReLU(),\n",
    "            nn.MaxPool2d(2),\n",
    "            nn.Conv2d(32, 64, 3, padding=1),\n",
    "            nn.ReLU(),\n",
    "            nn.MaxPool2d(2),\n",
    "            nn.Flatten(),\n",
    "            nn.Linear(64 * 28 * 28, 512),  # Bestätigt, dass dies für eine Eingabegröße von 224x224 korrekt ist\n",
    "            nn.ReLU(),\n",
    "            nn.Dropout(0.5), # Overfitting vermeiden\n",
    "            nn.Linear(512, num_classes) # lineare Schicht auf die Klassen\n",
    "        )\n",
    "\n",
    "\n",
    "    def forward(self, x):\n",
    "        return self.model(x)\n",
    "\n",
    "    def configure_optimizers(self):\n",
    "        optimizer = torch.optim.Adam(self.parameters(), lr=self.lr)\n",
    "        return optimizer"
   ]
  },
  {
   "cell_type": "markdown",
   "metadata": {
    "id": "PrMUL5LFzMVP",
    "tags": []
   },
   "source": [
    "#### Training"
   ]
  },
  {
   "cell_type": "code",
   "execution_count": 48,
   "metadata": {
    "id": "tN4pMXEyzMVQ",
    "tags": []
   },
   "outputs": [
    {
     "name": "stderr",
     "output_type": "stream",
     "text": [
      "GPU available: True (cuda), used: True\n",
      "TPU available: False, using: 0 TPU cores\n",
      "IPU available: False, using: 0 IPUs\n",
      "HPU available: False, using: 0 HPUs\n",
      "/opt/conda/lib/python3.11/site-packages/lightning_fabric/loggers/csv_logs.py:207: Experiment logs directory results/SimpleCNN/logs/version_0 exists and is not empty. Previous log files in this directory will be deleted when the new ones are saved!\n",
      "/opt/conda/lib/python3.11/site-packages/pytorch_lightning/callbacks/model_checkpoint.py:652: Checkpoint directory /home/jovyan/work/Sonstiges/Module/Machine_Learning/RealWaste/results/SimpleCNN/models exists and is not empty.\n",
      "LOCAL_RANK: 0 - CUDA_VISIBLE_DEVICES: [0]\n",
      "\n",
      "  | Name      | Type                | Params\n",
      "--------------------------------------------------\n",
      "0 | accuracy  | MulticlassAccuracy  | 0     \n",
      "1 | precision | MulticlassPrecision | 0     \n",
      "2 | recall    | MulticlassRecall    | 0     \n",
      "3 | f1_score  | MulticlassF1Score   | 0     \n",
      "4 | model     | Sequential          | 25.7 M\n",
      "--------------------------------------------------\n",
      "25.7 M    Trainable params\n",
      "0         Non-trainable params\n",
      "25.7 M    Total params\n",
      "102.875   Total estimated model params size (MB)\n"
     ]
    },
    {
     "data": {
      "application/vnd.jupyter.widget-view+json": {
       "model_id": "",
       "version_major": 2,
       "version_minor": 0
      },
      "text/plain": [
       "Sanity Checking: |          | 0/? [00:00<?, ?it/s]"
      ]
     },
     "metadata": {},
     "output_type": "display_data"
    },
    {
     "data": {
      "application/vnd.jupyter.widget-view+json": {
       "model_id": "7bcfbc965704498db101275325507134",
       "version_major": 2,
       "version_minor": 0
      },
      "text/plain": [
       "Training: |          | 0/? [00:00<?, ?it/s]"
      ]
     },
     "metadata": {},
     "output_type": "display_data"
    },
    {
     "data": {
      "application/vnd.jupyter.widget-view+json": {
       "model_id": "",
       "version_major": 2,
       "version_minor": 0
      },
      "text/plain": [
       "Validation: |          | 0/? [00:00<?, ?it/s]"
      ]
     },
     "metadata": {},
     "output_type": "display_data"
    },
    {
     "name": "stderr",
     "output_type": "stream",
     "text": [
      "Epoch 0, global step 119: 'val_loss' reached 1.24047 (best 1.24047), saving model to '/home/jovyan/work/Sonstiges/Module/Machine_Learning/RealWaste/results/SimpleCNN/models/epoch=0-val_loss=1.24.ckpt' as top 1\n"
     ]
    },
    {
     "data": {
      "application/vnd.jupyter.widget-view+json": {
       "model_id": "",
       "version_major": 2,
       "version_minor": 0
      },
      "text/plain": [
       "Validation: |          | 0/? [00:00<?, ?it/s]"
      ]
     },
     "metadata": {},
     "output_type": "display_data"
    },
    {
     "name": "stderr",
     "output_type": "stream",
     "text": [
      "Epoch 1, global step 238: 'val_loss' reached 1.05361 (best 1.05361), saving model to '/home/jovyan/work/Sonstiges/Module/Machine_Learning/RealWaste/results/SimpleCNN/models/epoch=1-val_loss=1.05.ckpt' as top 1\n"
     ]
    },
    {
     "data": {
      "application/vnd.jupyter.widget-view+json": {
       "model_id": "",
       "version_major": 2,
       "version_minor": 0
      },
      "text/plain": [
       "Validation: |          | 0/? [00:00<?, ?it/s]"
      ]
     },
     "metadata": {},
     "output_type": "display_data"
    },
    {
     "name": "stderr",
     "output_type": "stream",
     "text": [
      "Epoch 2, global step 357: 'val_loss' reached 1.00604 (best 1.00604), saving model to '/home/jovyan/work/Sonstiges/Module/Machine_Learning/RealWaste/results/SimpleCNN/models/epoch=2-val_loss=1.01.ckpt' as top 1\n"
     ]
    },
    {
     "data": {
      "application/vnd.jupyter.widget-view+json": {
       "model_id": "",
       "version_major": 2,
       "version_minor": 0
      },
      "text/plain": [
       "Validation: |          | 0/? [00:00<?, ?it/s]"
      ]
     },
     "metadata": {},
     "output_type": "display_data"
    },
    {
     "name": "stderr",
     "output_type": "stream",
     "text": [
      "Epoch 3, global step 476: 'val_loss' reached 0.94650 (best 0.94650), saving model to '/home/jovyan/work/Sonstiges/Module/Machine_Learning/RealWaste/results/SimpleCNN/models/epoch=3-val_loss=0.95.ckpt' as top 1\n"
     ]
    },
    {
     "data": {
      "application/vnd.jupyter.widget-view+json": {
       "model_id": "",
       "version_major": 2,
       "version_minor": 0
      },
      "text/plain": [
       "Validation: |          | 0/? [00:00<?, ?it/s]"
      ]
     },
     "metadata": {},
     "output_type": "display_data"
    },
    {
     "name": "stderr",
     "output_type": "stream",
     "text": [
      "Epoch 4, global step 595: 'val_loss' was not in top 1\n",
      "`Trainer.fit` stopped: `max_epochs=5` reached.\n",
      "Restoring states from the checkpoint path at /home/jovyan/work/Sonstiges/Module/Machine_Learning/RealWaste/results/SimpleCNN/models/epoch=3-val_loss=0.95.ckpt\n",
      "LOCAL_RANK: 0 - CUDA_VISIBLE_DEVICES: [0]\n",
      "Loaded model weights from the checkpoint at /home/jovyan/work/Sonstiges/Module/Machine_Learning/RealWaste/results/SimpleCNN/models/epoch=3-val_loss=0.95.ckpt\n"
     ]
    },
    {
     "data": {
      "application/vnd.jupyter.widget-view+json": {
       "model_id": "7c29b95d2ede4285bfcb8374387001b6",
       "version_major": 2,
       "version_minor": 0
      },
      "text/plain": [
       "Testing: |          | 0/? [00:00<?, ?it/s]"
      ]
     },
     "metadata": {},
     "output_type": "display_data"
    },
    {
     "data": {
      "text/html": [
       "<pre style=\"white-space:pre;overflow-x:auto;line-height:normal;font-family:Menlo,'DejaVu Sans Mono',consolas,'Courier New',monospace\">┏━━━━━━━━━━━━━━━━━━━━━━━━━━━━━━━━━━━┳━━━━━━━━━━━━━━━━━━━━━━━━━━━━━━━━━━━┓\n",
       "┃<span style=\"font-weight: bold\">            Test metric            </span>┃<span style=\"font-weight: bold\">           DataLoader 0            </span>┃\n",
       "┡━━━━━━━━━━━━━━━━━━━━━━━━━━━━━━━━━━━╇━━━━━━━━━━━━━━━━━━━━━━━━━━━━━━━━━━━┩\n",
       "│<span style=\"color: #008080; text-decoration-color: #008080\">         our_test_data_acc         </span>│<span style=\"color: #800080; text-decoration-color: #800080\">        0.1838383972644806         </span>│\n",
       "│<span style=\"color: #008080; text-decoration-color: #008080\">         our_test_data_f1          </span>│<span style=\"color: #800080; text-decoration-color: #800080\">        0.11750100553035736        </span>│\n",
       "│<span style=\"color: #008080; text-decoration-color: #008080\">        our_test_data_loss         </span>│<span style=\"color: #800080; text-decoration-color: #800080\">         4.466546058654785         </span>│\n",
       "│<span style=\"color: #008080; text-decoration-color: #008080\">      our_test_data_precision      </span>│<span style=\"color: #800080; text-decoration-color: #800080\">        0.18347851932048798        </span>│\n",
       "│<span style=\"color: #008080; text-decoration-color: #008080\">       our_test_data_recall        </span>│<span style=\"color: #800080; text-decoration-color: #800080\">        0.1838383972644806         </span>│\n",
       "│<span style=\"color: #008080; text-decoration-color: #008080\"> test_avg_inference_time_per_image </span>│<span style=\"color: #800080; text-decoration-color: #800080\">       6.839401612523943e-05       </span>│\n",
       "└───────────────────────────────────┴───────────────────────────────────┘\n",
       "</pre>\n"
      ],
      "text/plain": [
       "┏━━━━━━━━━━━━━━━━━━━━━━━━━━━━━━━━━━━┳━━━━━━━━━━━━━━━━━━━━━━━━━━━━━━━━━━━┓\n",
       "┃\u001b[1m \u001b[0m\u001b[1m           Test metric           \u001b[0m\u001b[1m \u001b[0m┃\u001b[1m \u001b[0m\u001b[1m          DataLoader 0           \u001b[0m\u001b[1m \u001b[0m┃\n",
       "┡━━━━━━━━━━━━━━━━━━━━━━━━━━━━━━━━━━━╇━━━━━━━━━━━━━━━━━━━━━━━━━━━━━━━━━━━┩\n",
       "│\u001b[36m \u001b[0m\u001b[36m        our_test_data_acc        \u001b[0m\u001b[36m \u001b[0m│\u001b[35m \u001b[0m\u001b[35m       0.1838383972644806        \u001b[0m\u001b[35m \u001b[0m│\n",
       "│\u001b[36m \u001b[0m\u001b[36m        our_test_data_f1         \u001b[0m\u001b[36m \u001b[0m│\u001b[35m \u001b[0m\u001b[35m       0.11750100553035736       \u001b[0m\u001b[35m \u001b[0m│\n",
       "│\u001b[36m \u001b[0m\u001b[36m       our_test_data_loss        \u001b[0m\u001b[36m \u001b[0m│\u001b[35m \u001b[0m\u001b[35m        4.466546058654785        \u001b[0m\u001b[35m \u001b[0m│\n",
       "│\u001b[36m \u001b[0m\u001b[36m     our_test_data_precision     \u001b[0m\u001b[36m \u001b[0m│\u001b[35m \u001b[0m\u001b[35m       0.18347851932048798       \u001b[0m\u001b[35m \u001b[0m│\n",
       "│\u001b[36m \u001b[0m\u001b[36m      our_test_data_recall       \u001b[0m\u001b[36m \u001b[0m│\u001b[35m \u001b[0m\u001b[35m       0.1838383972644806        \u001b[0m\u001b[35m \u001b[0m│\n",
       "│\u001b[36m \u001b[0m\u001b[36mtest_avg_inference_time_per_image\u001b[0m\u001b[36m \u001b[0m│\u001b[35m \u001b[0m\u001b[35m      6.839401612523943e-05      \u001b[0m\u001b[35m \u001b[0m│\n",
       "└───────────────────────────────────┴───────────────────────────────────┘\n"
      ]
     },
     "metadata": {},
     "output_type": "display_data"
    },
    {
     "data": {
      "image/png": "[encoded data removed]",
      "text/plain": [
       "<Figure size 1500x500 with 3 Axes>"
      ]
     },
     "metadata": {},
     "output_type": "display_data"
    }
   ],
   "source": [
    "from torchvision import transforms\n",
    "# Definiere die Transformationspipeline\n",
    "transform = transforms.Compose([\n",
    "    transforms.Resize((224, 224)),  # Skaliere alle Bilder auf 224x224\n",
    "    transforms.ToTensor(),\n",
    "    transforms.Normalize(mean=[0.485, 0.456, 0.406], std=[0.229, 0.224, 0.225]),\n",
    "])\n",
    "\n",
    "data_module = ConfigurableDataModule(\n",
    "    train_data_dir=train_data_path, \n",
    "    test_data_dir=our_test_data_path, \n",
    "    batch_size=32, \n",
    "    train_transform=transform, \n",
    "    val_test_transform=transform # Nutzung der gleichen Transformationen\n",
    ")\n",
    "model = SimpleCNN(num_classes=9, lr=1e-3)\n",
    "callbacks = get_callbacks(\n",
    "    model_checkpoint_path=model.models_dir,\n",
    "    early_stop_patience=2\n",
    ")\n",
    "train_model(model, data_module, version_name=\"version_0\", max_epochs=5, logger_name=\"simple_CNN\", callbacks=callbacks)"
   ]
  },
  {
   "cell_type": "markdown",
   "metadata": {
    "tags": []
   },
   "source": [
    "### InceptionWasteClassifier"
   ]
  },
  {
   "cell_type": "markdown",
   "metadata": {},
   "source": [
    "#### Model"
   ]
  },
  {
   "cell_type": "code",
   "execution_count": 10,
   "metadata": {
    "id": "N_OXu095zMVQ",
    "tags": []
   },
   "outputs": [],
   "source": [
    "from torchvision.models import inception_v3\n",
    "\n",
    "class Inception_v3_WasteClassifier(BaseWasteClassifier):\n",
    "    def __init__(self, num_classes=9):\n",
    "        super().__init__(num_classes)\n",
    "        self.model = inception_v3(aux_logits=True, weights=\"Inception_V3_Weights.DEFAULT\")\n",
    "        self.model.fc = torch.nn.Linear(self.model.fc.in_features, num_classes)\n",
    "\n",
    "    def forward(self, x):\n",
    "        if self.training:\n",
    "            outputs = self.model(x)\n",
    "            return outputs.logits, outputs.aux_logits\n",
    "        else:\n",
    "            return self.model(x)\n"
   ]
  },
  {
   "cell_type": "markdown",
   "metadata": {},
   "source": [
    "#### Training"
   ]
  },
  {
   "cell_type": "code",
   "execution_count": 11,
   "metadata": {
    "colab": {
     "base_uri": "https://localhost:8080/",
     "height": 380,
     "referenced_widgets": [
      "97640a845d764bba82c1468bb081e36d",
      "3cb1795204c0417987a6efcb268efa1b",
      "008810fe67384b718857b950b9b3ea2b",
      "9adf2387eb4c42fd859629f548ee535c",
      "38325d6be69f47ca83f0cd3f7cdf4afd",
      "104ec8041d87475ebadcacaee6e9ec22",
      "63d59ef8176f47088e526fdb1af33493",
      "f4d20a1fceb24bc0ac7d4f4d3eb7b950",
      "d4f8e67685d94c0f889070782e7b39e3",
      "b5109b922b4d43e6938b58ff67a0aed6",
      "14756a265eed4febae6350a2c2320739",
      "e180a82015e74aa899194fc051c4e435",
      "2f9f50447fcc45198b58d3d61bd5bc67",
      "00b4655e4caa419d9a35cddb4e4ced88",
      "89d19346520b46768c9845c5cdfb65c1",
      "50c14fe7d784418f96ce5fb60a74217b",
      "e55d5efde4cf4115b6b556d5d442a607",
      "33f259315ee043779ffd34482f624a4a",
      "32aef32cdc134814bc78a2c6194ef561",
      "128a4dc0352940f68104c247d47c5886",
      "2517c163b27946c8b8c85625a59e5ef2",
      "d5a751df3f2c4e348401cbca17e6b983"
     ]
    },
    "id": "0VgPXYu2zMVQ",
    "outputId": "70985684-a9dc-4e97-b93b-41ef6da481c8",
    "tags": []
   },
   "outputs": [
    {
     "name": "stderr",
     "output_type": "stream",
     "text": [
      "Downloading: \"https://download.pytorch.org/models/inception_v3_google-0cc3c7bd.pth\" to /home/jovyan/.cache/torch/hub/checkpoints/inception_v3_google-0cc3c7bd.pth\n",
      "100%|██████████| 104M/104M [00:01<00:00, 98.5MB/s] \n",
      "GPU available: True (cuda), used: True\n",
      "TPU available: False, using: 0 TPU cores\n",
      "IPU available: False, using: 0 IPUs\n",
      "HPU available: False, using: 0 HPUs\n",
      "Missing logger folder: tb_logs/Inception_v3\n",
      "/opt/conda/lib/python3.11/site-packages/pytorch_lightning/callbacks/model_checkpoint.py:652: Checkpoint directory /home/jovyan/work/Sonstiges/Module/Machine_Learning/RealWaste/results/Inception_v3_WasteClassifier/models exists and is not empty.\n",
      "LOCAL_RANK: 0 - CUDA_VISIBLE_DEVICES: [0]\n",
      "\n",
      "  | Name      | Type                | Params\n",
      "--------------------------------------------------\n",
      "0 | accuracy  | MulticlassAccuracy  | 0     \n",
      "1 | precision | MulticlassPrecision | 0     \n",
      "2 | recall    | MulticlassRecall    | 0     \n",
      "3 | f1_score  | MulticlassF1Score   | 0     \n",
      "4 | model     | Inception3          | 25.1 M\n",
      "--------------------------------------------------\n",
      "25.1 M    Trainable params\n",
      "0         Non-trainable params\n",
      "25.1 M    Total params\n",
      "100.523   Total estimated model params size (MB)\n"
     ]
    },
    {
     "data": {
      "application/vnd.jupyter.widget-view+json": {
       "model_id": "",
       "version_major": 2,
       "version_minor": 0
      },
      "text/plain": [
       "Sanity Checking: |          | 0/? [00:00<?, ?it/s]"
      ]
     },
     "metadata": {},
     "output_type": "display_data"
    },
    {
     "data": {
      "application/vnd.jupyter.widget-view+json": {
       "model_id": "7e5eee9688f84404932ee625a71428d9",
       "version_major": 2,
       "version_minor": 0
      },
      "text/plain": [
       "Training: |          | 0/? [00:00<?, ?it/s]"
      ]
     },
     "metadata": {},
     "output_type": "display_data"
    },
    {
     "data": {
      "application/vnd.jupyter.widget-view+json": {
       "model_id": "",
       "version_major": 2,
       "version_minor": 0
      },
      "text/plain": [
       "Validation: |          | 0/? [00:00<?, ?it/s]"
      ]
     },
     "metadata": {},
     "output_type": "display_data"
    },
    {
     "name": "stderr",
     "output_type": "stream",
     "text": [
      "Epoch 0, global step 119: 'val_loss' reached 0.88339 (best 0.88339), saving model to '/home/jovyan/work/Sonstiges/Module/Machine_Learning/RealWaste/results/Inception_v3_WasteClassifier/models/epoch=0-val_loss=0.88.ckpt' as top 2\n"
     ]
    },
    {
     "data": {
      "application/vnd.jupyter.widget-view+json": {
       "model_id": "",
       "version_major": 2,
       "version_minor": 0
      },
      "text/plain": [
       "Validation: |          | 0/? [00:00<?, ?it/s]"
      ]
     },
     "metadata": {},
     "output_type": "display_data"
    },
    {
     "name": "stderr",
     "output_type": "stream",
     "text": [
      "Epoch 1, global step 238: 'val_loss' reached 0.50132 (best 0.50132), saving model to '/home/jovyan/work/Sonstiges/Module/Machine_Learning/RealWaste/results/Inception_v3_WasteClassifier/models/epoch=1-val_loss=0.50.ckpt' as top 2\n"
     ]
    },
    {
     "data": {
      "application/vnd.jupyter.widget-view+json": {
       "model_id": "",
       "version_major": 2,
       "version_minor": 0
      },
      "text/plain": [
       "Validation: |          | 0/? [00:00<?, ?it/s]"
      ]
     },
     "metadata": {},
     "output_type": "display_data"
    },
    {
     "name": "stderr",
     "output_type": "stream",
     "text": [
      "Epoch 2, global step 357: 'val_loss' reached 0.38620 (best 0.38620), saving model to '/home/jovyan/work/Sonstiges/Module/Machine_Learning/RealWaste/results/Inception_v3_WasteClassifier/models/epoch=2-val_loss=0.39.ckpt' as top 2\n"
     ]
    },
    {
     "data": {
      "application/vnd.jupyter.widget-view+json": {
       "model_id": "",
       "version_major": 2,
       "version_minor": 0
      },
      "text/plain": [
       "Validation: |          | 0/? [00:00<?, ?it/s]"
      ]
     },
     "metadata": {},
     "output_type": "display_data"
    },
    {
     "name": "stderr",
     "output_type": "stream",
     "text": [
      "Epoch 3, global step 476: 'val_loss' reached 0.35085 (best 0.35085), saving model to '/home/jovyan/work/Sonstiges/Module/Machine_Learning/RealWaste/results/Inception_v3_WasteClassifier/models/epoch=3-val_loss=0.35.ckpt' as top 2\n"
     ]
    },
    {
     "data": {
      "application/vnd.jupyter.widget-view+json": {
       "model_id": "",
       "version_major": 2,
       "version_minor": 0
      },
      "text/plain": [
       "Validation: |          | 0/? [00:00<?, ?it/s]"
      ]
     },
     "metadata": {},
     "output_type": "display_data"
    },
    {
     "name": "stderr",
     "output_type": "stream",
     "text": [
      "Epoch 4, global step 595: 'val_loss' reached 0.30652 (best 0.30652), saving model to '/home/jovyan/work/Sonstiges/Module/Machine_Learning/RealWaste/results/Inception_v3_WasteClassifier/models/epoch=4-val_loss=0.31.ckpt' as top 2\n"
     ]
    },
    {
     "data": {
      "application/vnd.jupyter.widget-view+json": {
       "model_id": "",
       "version_major": 2,
       "version_minor": 0
      },
      "text/plain": [
       "Validation: |          | 0/? [00:00<?, ?it/s]"
      ]
     },
     "metadata": {},
     "output_type": "display_data"
    },
    {
     "name": "stderr",
     "output_type": "stream",
     "text": [
      "Epoch 5, global step 714: 'val_loss' reached 0.31930 (best 0.30652), saving model to '/home/jovyan/work/Sonstiges/Module/Machine_Learning/RealWaste/results/Inception_v3_WasteClassifier/models/epoch=5-val_loss=0.32.ckpt' as top 2\n"
     ]
    },
    {
     "data": {
      "application/vnd.jupyter.widget-view+json": {
       "model_id": "",
       "version_major": 2,
       "version_minor": 0
      },
      "text/plain": [
       "Validation: |          | 0/? [00:00<?, ?it/s]"
      ]
     },
     "metadata": {},
     "output_type": "display_data"
    },
    {
     "name": "stderr",
     "output_type": "stream",
     "text": [
      "Epoch 6, global step 833: 'val_loss' reached 0.30196 (best 0.30196), saving model to '/home/jovyan/work/Sonstiges/Module/Machine_Learning/RealWaste/results/Inception_v3_WasteClassifier/models/epoch=6-val_loss=0.30.ckpt' as top 2\n"
     ]
    },
    {
     "data": {
      "application/vnd.jupyter.widget-view+json": {
       "model_id": "",
       "version_major": 2,
       "version_minor": 0
      },
      "text/plain": [
       "Validation: |          | 0/? [00:00<?, ?it/s]"
      ]
     },
     "metadata": {},
     "output_type": "display_data"
    },
    {
     "name": "stderr",
     "output_type": "stream",
     "text": [
      "Epoch 7, global step 952: 'val_loss' reached 0.30110 (best 0.30110), saving model to '/home/jovyan/work/Sonstiges/Module/Machine_Learning/RealWaste/results/Inception_v3_WasteClassifier/models/epoch=7-val_loss=0.30.ckpt' as top 2\n"
     ]
    },
    {
     "data": {
      "application/vnd.jupyter.widget-view+json": {
       "model_id": "",
       "version_major": 2,
       "version_minor": 0
      },
      "text/plain": [
       "Validation: |          | 0/? [00:00<?, ?it/s]"
      ]
     },
     "metadata": {},
     "output_type": "display_data"
    },
    {
     "name": "stderr",
     "output_type": "stream",
     "text": [
      "Epoch 8, global step 1071: 'val_loss' was not in top 2\n"
     ]
    },
    {
     "data": {
      "application/vnd.jupyter.widget-view+json": {
       "model_id": "",
       "version_major": 2,
       "version_minor": 0
      },
      "text/plain": [
       "Validation: |          | 0/? [00:00<?, ?it/s]"
      ]
     },
     "metadata": {},
     "output_type": "display_data"
    },
    {
     "name": "stderr",
     "output_type": "stream",
     "text": [
      "Epoch 9, global step 1190: 'val_loss' was not in top 2\n"
     ]
    },
    {
     "data": {
      "application/vnd.jupyter.widget-view+json": {
       "model_id": "",
       "version_major": 2,
       "version_minor": 0
      },
      "text/plain": [
       "Validation: |          | 0/? [00:00<?, ?it/s]"
      ]
     },
     "metadata": {},
     "output_type": "display_data"
    },
    {
     "name": "stderr",
     "output_type": "stream",
     "text": [
      "Epoch 10, global step 1309: 'val_loss' was not in top 2\n"
     ]
    },
    {
     "data": {
      "application/vnd.jupyter.widget-view+json": {
       "model_id": "",
       "version_major": 2,
       "version_minor": 0
      },
      "text/plain": [
       "Validation: |          | 0/? [00:00<?, ?it/s]"
      ]
     },
     "metadata": {},
     "output_type": "display_data"
    },
    {
     "name": "stderr",
     "output_type": "stream",
     "text": [
      "Epoch 11, global step 1428: 'val_loss' reached 0.28879 (best 0.28879), saving model to '/home/jovyan/work/Sonstiges/Module/Machine_Learning/RealWaste/results/Inception_v3_WasteClassifier/models/epoch=11-val_loss=0.29.ckpt' as top 2\n"
     ]
    },
    {
     "data": {
      "application/vnd.jupyter.widget-view+json": {
       "model_id": "",
       "version_major": 2,
       "version_minor": 0
      },
      "text/plain": [
       "Validation: |          | 0/? [00:00<?, ?it/s]"
      ]
     },
     "metadata": {},
     "output_type": "display_data"
    },
    {
     "name": "stderr",
     "output_type": "stream",
     "text": [
      "Epoch 12, global step 1547: 'val_loss' was not in top 2\n"
     ]
    },
    {
     "data": {
      "application/vnd.jupyter.widget-view+json": {
       "model_id": "",
       "version_major": 2,
       "version_minor": 0
      },
      "text/plain": [
       "Validation: |          | 0/? [00:00<?, ?it/s]"
      ]
     },
     "metadata": {},
     "output_type": "display_data"
    },
    {
     "name": "stderr",
     "output_type": "stream",
     "text": [
      "Epoch 13, global step 1666: 'val_loss' was not in top 2\n",
      "Restoring states from the checkpoint path at /home/jovyan/work/Sonstiges/Module/Machine_Learning/RealWaste/results/Inception_v3_WasteClassifier/models/epoch=11-val_loss=0.29.ckpt\n",
      "LOCAL_RANK: 0 - CUDA_VISIBLE_DEVICES: [0]\n",
      "Loaded model weights from the checkpoint at /home/jovyan/work/Sonstiges/Module/Machine_Learning/RealWaste/results/Inception_v3_WasteClassifier/models/epoch=11-val_loss=0.29.ckpt\n"
     ]
    },
    {
     "data": {
      "application/vnd.jupyter.widget-view+json": {
       "model_id": "b354d090101d47aa87d5ae51afaf6f83",
       "version_major": 2,
       "version_minor": 0
      },
      "text/plain": [
       "Testing: |          | 0/? [00:00<?, ?it/s]"
      ]
     },
     "metadata": {},
     "output_type": "display_data"
    },
    {
     "data": {
      "text/html": [
       "<pre style=\"white-space:pre;overflow-x:auto;line-height:normal;font-family:Menlo,'DejaVu Sans Mono',consolas,'Courier New',monospace\">┏━━━━━━━━━━━━━━━━━━━━━━━━━━━━━━━━━━━┳━━━━━━━━━━━━━━━━━━━━━━━━━━━━━━━━━━━┓\n",
       "┃<span style=\"font-weight: bold\">            Test metric            </span>┃<span style=\"font-weight: bold\">           DataLoader 0            </span>┃\n",
       "┡━━━━━━━━━━━━━━━━━━━━━━━━━━━━━━━━━━━╇━━━━━━━━━━━━━━━━━━━━━━━━━━━━━━━━━━━┩\n",
       "│<span style=\"color: #008080; text-decoration-color: #008080\">         our_test_data_acc         </span>│<span style=\"color: #800080; text-decoration-color: #800080\">        0.6440404057502747         </span>│\n",
       "│<span style=\"color: #008080; text-decoration-color: #008080\">         our_test_data_f1          </span>│<span style=\"color: #800080; text-decoration-color: #800080\">        0.6322437524795532         </span>│\n",
       "│<span style=\"color: #008080; text-decoration-color: #008080\">        our_test_data_loss         </span>│<span style=\"color: #800080; text-decoration-color: #800080\">        1.2112675905227661         </span>│\n",
       "│<span style=\"color: #008080; text-decoration-color: #008080\">      our_test_data_precision      </span>│<span style=\"color: #800080; text-decoration-color: #800080\">        0.6818323731422424         </span>│\n",
       "│<span style=\"color: #008080; text-decoration-color: #008080\">       our_test_data_recall        </span>│<span style=\"color: #800080; text-decoration-color: #800080\">        0.6320754289627075         </span>│\n",
       "│<span style=\"color: #008080; text-decoration-color: #008080\"> test_avg_inference_time_per_image </span>│<span style=\"color: #800080; text-decoration-color: #800080\">       0.0018397982930764556       </span>│\n",
       "└───────────────────────────────────┴───────────────────────────────────┘\n",
       "</pre>\n"
      ],
      "text/plain": [
       "┏━━━━━━━━━━━━━━━━━━━━━━━━━━━━━━━━━━━┳━━━━━━━━━━━━━━━━━━━━━━━━━━━━━━━━━━━┓\n",
       "┃\u001b[1m \u001b[0m\u001b[1m           Test metric           \u001b[0m\u001b[1m \u001b[0m┃\u001b[1m \u001b[0m\u001b[1m          DataLoader 0           \u001b[0m\u001b[1m \u001b[0m┃\n",
       "┡━━━━━━━━━━━━━━━━━━━━━━━━━━━━━━━━━━━╇━━━━━━━━━━━━━━━━━━━━━━━━━━━━━━━━━━━┩\n",
       "│\u001b[36m \u001b[0m\u001b[36m        our_test_data_acc        \u001b[0m\u001b[36m \u001b[0m│\u001b[35m \u001b[0m\u001b[35m       0.6440404057502747        \u001b[0m\u001b[35m \u001b[0m│\n",
       "│\u001b[36m \u001b[0m\u001b[36m        our_test_data_f1         \u001b[0m\u001b[36m \u001b[0m│\u001b[35m \u001b[0m\u001b[35m       0.6322437524795532        \u001b[0m\u001b[35m \u001b[0m│\n",
       "│\u001b[36m \u001b[0m\u001b[36m       our_test_data_loss        \u001b[0m\u001b[36m \u001b[0m│\u001b[35m \u001b[0m\u001b[35m       1.2112675905227661        \u001b[0m\u001b[35m \u001b[0m│\n",
       "│\u001b[36m \u001b[0m\u001b[36m     our_test_data_precision     \u001b[0m\u001b[36m \u001b[0m│\u001b[35m \u001b[0m\u001b[35m       0.6818323731422424        \u001b[0m\u001b[35m \u001b[0m│\n",
       "│\u001b[36m \u001b[0m\u001b[36m      our_test_data_recall       \u001b[0m\u001b[36m \u001b[0m│\u001b[35m \u001b[0m\u001b[35m       0.6320754289627075        \u001b[0m\u001b[35m \u001b[0m│\n",
       "│\u001b[36m \u001b[0m\u001b[36mtest_avg_inference_time_per_image\u001b[0m\u001b[36m \u001b[0m│\u001b[35m \u001b[0m\u001b[35m      0.0018397982930764556      \u001b[0m\u001b[35m \u001b[0m│\n",
       "└───────────────────────────────────┴───────────────────────────────────┘\n"
      ]
     },
     "metadata": {},
     "output_type": "display_data"
    },
    {
     "data": {
      "image/png": "[encoded data removed]",
      "text/plain": [
       "<Figure size 1500x500 with 3 Axes>"
      ]
     },
     "metadata": {},
     "output_type": "display_data"
    }
   ],
   "source": [
    "from torchvision import transforms\n",
    "from torchvision.transforms.functional import InterpolationMode\n",
    "\n",
    "transform = transforms.Compose([\n",
    "    transforms.Resize(342, interpolation=InterpolationMode.BILINEAR),\n",
    "    transforms.CenterCrop(299),\n",
    "    transforms.ToTensor(),\n",
    "    transforms.Normalize(mean=[0.485, 0.456, 0.406], std=[0.229, 0.224, 0.225]),\n",
    "])\n",
    "\n",
    "data_module = ConfigurableDataModule(\n",
    "    train_data_dir=train_data_path, \n",
    "    test_data_dir=our_test_data_path, \n",
    "    batch_size=32, \n",
    "    train_transform=transform, \n",
    "    val_test_transform=transform # Nutzung der gleichen Transformationen\n",
    ")\n",
    "\n",
    "model = Inception_v3_WasteClassifier()\n",
    "callbacks = get_callbacks(\n",
    "    model_checkpoint_path=model.models_dir,\n",
    "    early_stop_patience=2\n",
    ")\n",
    "\n",
    "train_model(model, data_module, version_name=\"version_0\", max_epochs=50, logger_name=\"Inception_v3\", callbacks=callbacks)"
   ]
  },
  {
   "cell_type": "markdown",
   "metadata": {},
   "source": [
    "### DenseNetWasteClassifier"
   ]
  },
  {
   "cell_type": "markdown",
   "metadata": {},
   "source": [
    "#### Model"
   ]
  },
  {
   "cell_type": "code",
   "execution_count": 12,
   "metadata": {
    "tags": []
   },
   "outputs": [],
   "source": [
    "from torchvision.models import densenet121\n",
    "\n",
    "class DenseNet201WasteClassifier(BaseWasteClassifier):\n",
    "    def __init__(self, num_classes=9):\n",
    "        super().__init__(num_classes)\n",
    "        self.model = densenet121(weights=\"DenseNet121_Weights.DEFAULT\")\n",
    "        self.model.classifier = torch.nn.Linear(self.model.classifier.in_features, num_classes)\n",
    "\n",
    "    def forward(self, x):\n",
    "        return self.model(x)"
   ]
  },
  {
   "cell_type": "markdown",
   "metadata": {},
   "source": [
    "#### Training"
   ]
  },
  {
   "cell_type": "code",
   "execution_count": 13,
   "metadata": {
    "tags": []
   },
   "outputs": [],
   "source": [
    "from torchvision.transforms.functional import InterpolationMode\n",
    "# Define the transformations as per Inception V3's requirements\n",
    "transform = transforms.Compose([\n",
    "    transforms.Resize(256, interpolation=InterpolationMode.BILINEAR),\n",
    "    transforms.CenterCrop(224),\n",
    "    transforms.ToTensor(),\n",
    "    transforms.Normalize(mean=[0.485, 0.456, 0.406], std=[0.229, 0.224, 0.225]),\n",
    "])"
   ]
  },
  {
   "cell_type": "code",
   "execution_count": null,
   "metadata": {},
   "outputs": [],
   "source": [
    "data_module = ConfigurableDataModule(\n",
    "    train_data_dir=train_data_path, \n",
    "    test_data_dir=our_test_data_path, \n",
    "    batch_size=32, \n",
    "    train_transform=transform, \n",
    "    val_test_transform=transform # Nutzung der gleichen Transformationen\n",
    ")\n",
    "\n",
    "model = Inception_v3_WasteClassifier()\n",
    "callbacks = get_callbacks(\n",
    "    model_checkpoint_path=model.models_dir,\n",
    "    early_stop_patience=2\n",
    ")\n",
    "\n",
    "train_model(model, data_module, version_name=\"version_0\", max_epochs=50, logger_name=\"Inception_v3\", callbacks=callbacks)"
   ]
  },
  {
   "cell_type": "code",
   "execution_count": 14,
   "metadata": {
    "tags": []
   },
   "outputs": [
    {
     "name": "stderr",
     "output_type": "stream",
     "text": [
      "Downloading: \"https://download.pytorch.org/models/densenet121-a639ec97.pth\" to /home/jovyan/.cache/torch/hub/checkpoints/densenet121-a639ec97.pth\n",
      "100%|██████████| 30.8M/30.8M [00:00<00:00, 92.2MB/s]\n",
      "GPU available: True (cuda), used: True\n",
      "TPU available: False, using: 0 TPU cores\n",
      "IPU available: False, using: 0 IPUs\n",
      "HPU available: False, using: 0 HPUs\n",
      "Missing logger folder: results/tb_logs/densenet201\n",
      "LOCAL_RANK: 0 - CUDA_VISIBLE_DEVICES: [0]\n",
      "\n",
      "  | Name      | Type                | Params\n",
      "--------------------------------------------------\n",
      "0 | accuracy  | MulticlassAccuracy  | 0     \n",
      "1 | precision | MulticlassPrecision | 0     \n",
      "2 | recall    | MulticlassRecall    | 0     \n",
      "3 | f1_score  | MulticlassF1Score   | 0     \n",
      "4 | model     | DenseNet            | 7.0 M \n",
      "--------------------------------------------------\n",
      "7.0 M     Trainable params\n",
      "0         Non-trainable params\n",
      "7.0 M     Total params\n",
      "27.852    Total estimated model params size (MB)\n"
     ]
    },
    {
     "data": {
      "application/vnd.jupyter.widget-view+json": {
       "model_id": "",
       "version_major": 2,
       "version_minor": 0
      },
      "text/plain": [
       "Sanity Checking: |          | 0/? [00:00<?, ?it/s]"
      ]
     },
     "metadata": {},
     "output_type": "display_data"
    },
    {
     "data": {
      "application/vnd.jupyter.widget-view+json": {
       "model_id": "b859916e498840eba0f156927dffbda9",
       "version_major": 2,
       "version_minor": 0
      },
      "text/plain": [
       "Training: |          | 0/? [00:00<?, ?it/s]"
      ]
     },
     "metadata": {},
     "output_type": "display_data"
    },
    {
     "data": {
      "application/vnd.jupyter.widget-view+json": {
       "model_id": "",
       "version_major": 2,
       "version_minor": 0
      },
      "text/plain": [
       "Validation: |          | 0/? [00:00<?, ?it/s]"
      ]
     },
     "metadata": {},
     "output_type": "display_data"
    },
    {
     "name": "stderr",
     "output_type": "stream",
     "text": [
      "Epoch 0, global step 119: 'val_loss' reached 0.64557 (best 0.64557), saving model to '/home/jovyan/work/Sonstiges/Module/Machine_Learning/RealWaste/results/DenseNet201WasteClassifier/models/epoch=0-val_loss=0.65.ckpt' as top 2\n"
     ]
    },
    {
     "data": {
      "application/vnd.jupyter.widget-view+json": {
       "model_id": "",
       "version_major": 2,
       "version_minor": 0
      },
      "text/plain": [
       "Validation: |          | 0/? [00:00<?, ?it/s]"
      ]
     },
     "metadata": {},
     "output_type": "display_data"
    },
    {
     "name": "stderr",
     "output_type": "stream",
     "text": [
      "Epoch 1, global step 238: 'val_loss' reached 0.43692 (best 0.43692), saving model to '/home/jovyan/work/Sonstiges/Module/Machine_Learning/RealWaste/results/DenseNet201WasteClassifier/models/epoch=1-val_loss=0.44.ckpt' as top 2\n"
     ]
    },
    {
     "data": {
      "application/vnd.jupyter.widget-view+json": {
       "model_id": "",
       "version_major": 2,
       "version_minor": 0
      },
      "text/plain": [
       "Validation: |          | 0/? [00:00<?, ?it/s]"
      ]
     },
     "metadata": {},
     "output_type": "display_data"
    },
    {
     "name": "stderr",
     "output_type": "stream",
     "text": [
      "Epoch 2, global step 357: 'val_loss' reached 0.35391 (best 0.35391), saving model to '/home/jovyan/work/Sonstiges/Module/Machine_Learning/RealWaste/results/DenseNet201WasteClassifier/models/epoch=2-val_loss=0.35.ckpt' as top 2\n"
     ]
    },
    {
     "data": {
      "application/vnd.jupyter.widget-view+json": {
       "model_id": "",
       "version_major": 2,
       "version_minor": 0
      },
      "text/plain": [
       "Validation: |          | 0/? [00:00<?, ?it/s]"
      ]
     },
     "metadata": {},
     "output_type": "display_data"
    },
    {
     "name": "stderr",
     "output_type": "stream",
     "text": [
      "Epoch 3, global step 476: 'val_loss' reached 0.32544 (best 0.32544), saving model to '/home/jovyan/work/Sonstiges/Module/Machine_Learning/RealWaste/results/DenseNet201WasteClassifier/models/epoch=3-val_loss=0.33.ckpt' as top 2\n"
     ]
    },
    {
     "data": {
      "application/vnd.jupyter.widget-view+json": {
       "model_id": "",
       "version_major": 2,
       "version_minor": 0
      },
      "text/plain": [
       "Validation: |          | 0/? [00:00<?, ?it/s]"
      ]
     },
     "metadata": {},
     "output_type": "display_data"
    },
    {
     "name": "stderr",
     "output_type": "stream",
     "text": [
      "Epoch 4, global step 595: 'val_loss' reached 0.30219 (best 0.30219), saving model to '/home/jovyan/work/Sonstiges/Module/Machine_Learning/RealWaste/results/DenseNet201WasteClassifier/models/epoch=4-val_loss=0.30.ckpt' as top 2\n"
     ]
    },
    {
     "data": {
      "application/vnd.jupyter.widget-view+json": {
       "model_id": "",
       "version_major": 2,
       "version_minor": 0
      },
      "text/plain": [
       "Validation: |          | 0/? [00:00<?, ?it/s]"
      ]
     },
     "metadata": {},
     "output_type": "display_data"
    },
    {
     "name": "stderr",
     "output_type": "stream",
     "text": [
      "Epoch 5, global step 714: 'val_loss' reached 0.29559 (best 0.29559), saving model to '/home/jovyan/work/Sonstiges/Module/Machine_Learning/RealWaste/results/DenseNet201WasteClassifier/models/epoch=5-val_loss=0.30.ckpt' as top 2\n"
     ]
    },
    {
     "data": {
      "application/vnd.jupyter.widget-view+json": {
       "model_id": "",
       "version_major": 2,
       "version_minor": 0
      },
      "text/plain": [
       "Validation: |          | 0/? [00:00<?, ?it/s]"
      ]
     },
     "metadata": {},
     "output_type": "display_data"
    },
    {
     "name": "stderr",
     "output_type": "stream",
     "text": [
      "Epoch 6, global step 833: 'val_loss' reached 0.29266 (best 0.29266), saving model to '/home/jovyan/work/Sonstiges/Module/Machine_Learning/RealWaste/results/DenseNet201WasteClassifier/models/epoch=6-val_loss=0.29.ckpt' as top 2\n"
     ]
    },
    {
     "data": {
      "application/vnd.jupyter.widget-view+json": {
       "model_id": "",
       "version_major": 2,
       "version_minor": 0
      },
      "text/plain": [
       "Validation: |          | 0/? [00:00<?, ?it/s]"
      ]
     },
     "metadata": {},
     "output_type": "display_data"
    },
    {
     "name": "stderr",
     "output_type": "stream",
     "text": [
      "Epoch 7, global step 952: 'val_loss' reached 0.29199 (best 0.29199), saving model to '/home/jovyan/work/Sonstiges/Module/Machine_Learning/RealWaste/results/DenseNet201WasteClassifier/models/epoch=7-val_loss=0.29.ckpt' as top 2\n"
     ]
    },
    {
     "data": {
      "image/png": "[encoded data removed]",
      "text/plain": [
       "<Figure size 1500x500 with 3 Axes>"
      ]
     },
     "metadata": {},
     "output_type": "display_data"
    }
   ],
   "source": [
    "version = \"version_standard\"\n",
    "\n",
    "data_module = ConfigurableDataModule(\n",
    "    train_data_dir=train_data_path, \n",
    "    test_data_dir=our_test_data_path, \n",
    "    batch_size=32, \n",
    "    train_transform=transform, \n",
    "    val_test_transform=transform # Nutzung der gleichen Transformationen\n",
    ")\n",
    "\n",
    "model = DenseNet201WasteClassifier(num_classes=9)\n",
    "\n",
    "callbacks = get_callbacks(\n",
    "    model_checkpoint_path=model.models_dir / version,\n",
    "    early_stop_patience=2\n",
    ")\n",
    "\n",
    "train_model(\n",
    "    model, \n",
    "    data_module, \n",
    "    version_name=version, \n",
    "    max_epochs=50, \n",
    "    logger_name=\"Inception_v3\", \n",
    "    callbacks=callbacks\n",
    ")\n",
    "\n"
   ]
  },
  {
   "cell_type": "markdown",
   "metadata": {},
   "source": [
    "### Resnet50"
   ]
  },
  {
   "cell_type": "markdown",
   "metadata": {},
   "source": [
    "#### Model"
   ]
  },
  {
   "cell_type": "code",
   "execution_count": 15,
   "metadata": {},
   "outputs": [],
   "source": [
    "from torchvision.models import resnet50\n",
    "\n",
    "class ResNet50WasteClassifier(BaseWasteClassifier):\n",
    "    def __init__(self, num_classes=9):\n",
    "        super().__init__(num_classes)\n",
    "        self.model = resnet50(weights=\"ResNet50_Weights.DEFAULT\")\n",
    "        self.model.fc = torch.nn.Linear(self.model.fc.in_features, num_classes)\n",
    "\n",
    "    def forward(self, x):\n",
    "        return self.model(x)"
   ]
  },
  {
   "cell_type": "markdown",
   "metadata": {},
   "source": [
    "#### Training"
   ]
  },
  {
   "cell_type": "code",
   "execution_count": 16,
   "metadata": {},
   "outputs": [],
   "source": [
    "from torchvision.transforms.functional import InterpolationMode\n",
    "\n",
    "transform = transforms.Compose([\n",
    "    transforms.Resize(256, interpolation=InterpolationMode.BILINEAR),\n",
    "    transforms.CenterCrop(224),\n",
    "    transforms.ToTensor(),\n",
    "    transforms.Normalize(mean=[0.485, 0.456, 0.406], std=[0.229, 0.224, 0.225]),\n",
    "])\n",
    "\n",
    "data_module = ConfigurableDataModule(data_dir=data_path, batch_size=32, transform=transform)\n",
    "\n",
    "model = ResNet50WasteClassifier(num_classes=9)\n",
    "callbacks = get_callbacks(\n",
    "    model_checkpoint_path=model.models_dir,\n",
    "    early_stop_patience=2\n",
    ")\n",
    "train_model(model, data_module, max_epochs=50, logger_name=\"resnet50\", callbacks=callbacks)\n"
   ]
  },
  {
   "cell_type": "markdown",
   "metadata": {},
   "source": [
    "### VGG16"
   ]
  },
  {
   "cell_type": "markdown",
   "metadata": {
    "jp-MarkdownHeadingCollapsed": true,
    "tags": []
   },
   "source": [
    "#### Model"
   ]
  },
  {
   "cell_type": "code",
   "execution_count": 18,
   "metadata": {
    "tags": []
   },
   "outputs": [],
   "source": [
    "from torchvision.models import vgg16\n",
    "\n",
    "class VGG16WasteClassifier(BaseWasteClassifier):\n",
    "    def __init__(self, num_classes=9):\n",
    "        super().__init__(num_classes)\n",
    "        self.model = vgg16(weights=\"VGG16_Weights.DEFAULT\")\n",
    "        in_features = self.model.classifier[6].in_features\n",
    "        self.model.classifier[6] = torch.nn.Linear(in_features, num_classes)\n",
    "\n",
    "    def forward(self, x):\n",
    "        return self.model(x)"
   ]
  },
  {
   "cell_type": "markdown",
   "metadata": {
    "jp-MarkdownHeadingCollapsed": true,
    "tags": []
   },
   "source": [
    "#### Training"
   ]
  },
  {
   "cell_type": "code",
   "execution_count": 19,
   "metadata": {
    "tags": []
   },
   "outputs": [],
   "source": [
    "from torchvision.transforms.functional import InterpolationMode\n",
    "\n",
    "transform = transforms.Compose([\n",
    "    transforms.Resize(256, interpolation=InterpolationMode.BILINEAR),\n",
    "    transforms.CenterCrop(224),\n",
    "    transforms.ToTensor(),\n",
    "    transforms.Normalize(mean=[0.485, 0.456, 0.406], std=[0.229, 0.224, 0.225]),\n",
    "])"
   ]
  },
  {
   "cell_type": "code",
   "execution_count": 20,
   "metadata": {
    "tags": []
   },
   "outputs": [
    {
     "name": "stderr",
     "output_type": "stream",
     "text": [
      "Downloading: \"https://download.pytorch.org/models/vgg16-397923af.pth\" to /home/jovyan/.cache/torch/hub/checkpoints/vgg16-397923af.pth\n",
      "100%|██████████| 528M/528M [00:05<00:00, 96.8MB/s] \n",
      "GPU available: True (cuda), used: True\n",
      "TPU available: False, using: 0 TPU cores\n",
      "IPU available: False, using: 0 IPUs\n",
      "HPU available: False, using: 0 HPUs\n",
      "Missing logger folder: results/tb_logs/vgg16\n",
      "LOCAL_RANK: 0 - CUDA_VISIBLE_DEVICES: [0]\n",
      "\n",
      "  | Name      | Type                | Params\n",
      "--------------------------------------------------\n",
      "0 | accuracy  | MulticlassAccuracy  | 0     \n",
      "1 | precision | MulticlassPrecision | 0     \n",
      "2 | recall    | MulticlassRecall    | 0     \n",
      "3 | f1_score  | MulticlassF1Score   | 0     \n",
      "4 | model     | VGG                 | 134 M \n",
      "--------------------------------------------------\n",
      "134 M     Trainable params\n",
      "0         Non-trainable params\n",
      "134 M     Total params\n",
      "537.190   Total estimated model params size (MB)\n"
     ]
    },
    {
     "data": {
      "application/vnd.jupyter.widget-view+json": {
       "model_id": "",
       "version_major": 2,
       "version_minor": 0
      },
      "text/plain": [
       "Sanity Checking: |          | 0/? [00:00<?, ?it/s]"
      ]
     },
     "metadata": {},
     "output_type": "display_data"
    },
    {
     "data": {
      "application/vnd.jupyter.widget-view+json": {
       "model_id": "a289fdbc21464dd09ad50430b45aec4c",
       "version_major": 2,
       "version_minor": 0
      },
      "text/plain": [
       "Training: |          | 0/? [00:00<?, ?it/s]"
      ]
     },
     "metadata": {},
     "output_type": "display_data"
    },
    {
     "data": {
      "application/vnd.jupyter.widget-view+json": {
       "model_id": "",
       "version_major": 2,
       "version_minor": 0
      },
      "text/plain": [
       "Validation: |          | 0/? [00:00<?, ?it/s]"
      ]
     },
     "metadata": {},
     "output_type": "display_data"
    },
    {
     "name": "stderr",
     "output_type": "stream",
     "text": [
      "Epoch 0, global step 119: 'val_loss' reached 0.56719 (best 0.56719), saving model to '/home/jovyan/work/Sonstiges/Module/Machine_Learning/RealWaste/results/VGG16WasteClassifier/models/epoch=0-val_loss=0.57.ckpt' as top 2\n"
     ]
    },
    {
     "data": {
      "application/vnd.jupyter.widget-view+json": {
       "model_id": "",
       "version_major": 2,
       "version_minor": 0
      },
      "text/plain": [
       "Validation: |          | 0/? [00:00<?, ?it/s]"
      ]
     },
     "metadata": {},
     "output_type": "display_data"
    },
    {
     "name": "stderr",
     "output_type": "stream",
     "text": [
      "Epoch 1, global step 238: 'val_loss' reached 0.45097 (best 0.45097), saving model to '/home/jovyan/work/Sonstiges/Module/Machine_Learning/RealWaste/results/VGG16WasteClassifier/models/epoch=1-val_loss=0.45.ckpt' as top 2\n"
     ]
    },
    {
     "data": {
      "application/vnd.jupyter.widget-view+json": {
       "model_id": "",
       "version_major": 2,
       "version_minor": 0
      },
      "text/plain": [
       "Validation: |          | 0/? [00:00<?, ?it/s]"
      ]
     },
     "metadata": {},
     "output_type": "display_data"
    },
    {
     "name": "stderr",
     "output_type": "stream",
     "text": [
      "Epoch 2, global step 357: 'val_loss' reached 0.45695 (best 0.45097), saving model to '/home/jovyan/work/Sonstiges/Module/Machine_Learning/RealWaste/results/VGG16WasteClassifier/models/epoch=2-val_loss=0.46.ckpt' as top 2\n"
     ]
    },
    {
     "data": {
      "application/vnd.jupyter.widget-view+json": {
       "model_id": "",
       "version_major": 2,
       "version_minor": 0
      },
      "text/plain": [
       "Validation: |          | 0/? [00:00<?, ?it/s]"
      ]
     },
     "metadata": {},
     "output_type": "display_data"
    },
    {
     "name": "stderr",
     "output_type": "stream",
     "text": [
      "Epoch 3, global step 476: 'val_loss' was not in top 2\n"
     ]
    },
    {
     "data": {
      "application/vnd.jupyter.widget-view+json": {
       "model_id": "",
       "version_major": 2,
       "version_minor": 0
      },
      "text/plain": [
       "Validation: |          | 0/? [00:00<?, ?it/s]"
      ]
     },
     "metadata": {},
     "output_type": "display_data"
    },
    {
     "name": "stderr",
     "output_type": "stream",
     "text": [
      "Epoch 4, global step 595: 'val_loss' was not in top 2\n"
     ]
    },
    {
     "data": {
      "application/vnd.jupyter.widget-view+json": {
       "model_id": "",
       "version_major": 2,
       "version_minor": 0
      },
      "text/plain": [
       "Validation: |          | 0/? [00:00<?, ?it/s]"
      ]
     },
     "metadata": {},
     "output_type": "display_data"
    },
    {
     "name": "stderr",
     "output_type": "stream",
     "text": [
      "Epoch 5, global step 714: 'val_loss' reached 0.41558 (best 0.41558), saving model to '/home/jovyan/work/Sonstiges/Module/Machine_Learning/RealWaste/results/VGG16WasteClassifier/models/epoch=5-val_loss=0.42.ckpt' as top 2\n"
     ]
    },
    {
     "data": {
      "application/vnd.jupyter.widget-view+json": {
       "model_id": "",
       "version_major": 2,
       "version_minor": 0
      },
      "text/plain": [
       "Validation: |          | 0/? [00:00<?, ?it/s]"
      ]
     },
     "metadata": {},
     "output_type": "display_data"
    },
    {
     "name": "stderr",
     "output_type": "stream",
     "text": [
      "Epoch 6, global step 833: 'val_loss' was not in top 2\n"
     ]
    },
    {
     "data": {
      "application/vnd.jupyter.widget-view+json": {
       "model_id": "",
       "version_major": 2,
       "version_minor": 0
      },
      "text/plain": [
       "Validation: |          | 0/? [00:00<?, ?it/s]"
      ]
     },
     "metadata": {},
     "output_type": "display_data"
    },
    {
     "name": "stderr",
     "output_type": "stream",
     "text": [
      "Epoch 7, global step 952: 'val_loss' was not in top 2\n"
     ]
    },
    {
     "data": {
      "image/png": "[encoded data removed]",
      "text/plain": [
       "<Figure size 1500x500 with 3 Axes>"
      ]
     },
     "metadata": {},
     "output_type": "display_data"
    }
   ],
   "source": [
    "data_module = ConfigurableDataModule(data_dir=data_path, batch_size=32, transform=transform)\n",
    "\n",
    "model = VGG16WasteClassifier(num_classes=9)\n",
    "callbacks = get_callbacks(\n",
    "    model_checkpoint_path=model.models_dir,\n",
    "    early_stop_patience=2\n",
    ")\n",
    "train_model(model, data_module, max_epochs=50, logger_name=\"vgg16\", callbacks=callbacks)\n"
   ]
  },
  {
   "cell_type": "markdown",
   "metadata": {},
   "source": [
    "### Vision Transformer\n",
    "\n",
    "[Torchvision: Vision Transformer](https://pytorch.org/vision/main/models/vision_transformer.html)\n",
    "\n",
    "Dosovitskiy, A., Beyer, L., Kolesnikov, A., Weissenborn, D., Zhai, X., Unterthiner, T., ... & Houlsby, N. (2020). An image is worth 16x16 words: Transformers for image recognition at scale. arXiv preprint [arXiv:2010.11929](https://arxiv.org/abs/2010.11929)."
   ]
  },
  {
   "cell_type": "code",
   "execution_count": 40,
   "metadata": {
    "collapsed": true,
    "jupyter": {
     "outputs_hidden": true
    },
    "tags": []
   },
   "outputs": [
    {
     "name": "stdout",
     "output_type": "stream",
     "text": [
      "VisionTransformer(\n",
      "  (conv_proj): Conv2d(3, 1024, kernel_size=(16, 16), stride=(16, 16))\n",
      "  (encoder): Encoder(\n",
      "    (dropout): Dropout(p=0.0, inplace=False)\n",
      "    (layers): Sequential(\n",
      "      (encoder_layer_0): EncoderBlock(\n",
      "        (ln_1): LayerNorm((1024,), eps=1e-06, elementwise_affine=True)\n",
      "        (self_attention): MultiheadAttention(\n",
      "          (out_proj): NonDynamicallyQuantizableLinear(in_features=1024, out_features=1024, bias=True)\n",
      "        )\n",
      "        (dropout): Dropout(p=0.0, inplace=False)\n",
      "        (ln_2): LayerNorm((1024,), eps=1e-06, elementwise_affine=True)\n",
      "        (mlp): MLPBlock(\n",
      "          (0): Linear(in_features=1024, out_features=4096, bias=True)\n",
      "          (1): GELU(approximate='none')\n",
      "          (2): Dropout(p=0.0, inplace=False)\n",
      "          (3): Linear(in_features=4096, out_features=1024, bias=True)\n",
      "          (4): Dropout(p=0.0, inplace=False)\n",
      "        )\n",
      "      )\n",
      "      (encoder_layer_1): EncoderBlock(\n",
      "        (ln_1): LayerNorm((1024,), eps=1e-06, elementwise_affine=True)\n",
      "        (self_attention): MultiheadAttention(\n",
      "          (out_proj): NonDynamicallyQuantizableLinear(in_features=1024, out_features=1024, bias=True)\n",
      "        )\n",
      "        (dropout): Dropout(p=0.0, inplace=False)\n",
      "        (ln_2): LayerNorm((1024,), eps=1e-06, elementwise_affine=True)\n",
      "        (mlp): MLPBlock(\n",
      "          (0): Linear(in_features=1024, out_features=4096, bias=True)\n",
      "          (1): GELU(approximate='none')\n",
      "          (2): Dropout(p=0.0, inplace=False)\n",
      "          (3): Linear(in_features=4096, out_features=1024, bias=True)\n",
      "          (4): Dropout(p=0.0, inplace=False)\n",
      "        )\n",
      "      )\n",
      "      (encoder_layer_2): EncoderBlock(\n",
      "        (ln_1): LayerNorm((1024,), eps=1e-06, elementwise_affine=True)\n",
      "        (self_attention): MultiheadAttention(\n",
      "          (out_proj): NonDynamicallyQuantizableLinear(in_features=1024, out_features=1024, bias=True)\n",
      "        )\n",
      "        (dropout): Dropout(p=0.0, inplace=False)\n",
      "        (ln_2): LayerNorm((1024,), eps=1e-06, elementwise_affine=True)\n",
      "        (mlp): MLPBlock(\n",
      "          (0): Linear(in_features=1024, out_features=4096, bias=True)\n",
      "          (1): GELU(approximate='none')\n",
      "          (2): Dropout(p=0.0, inplace=False)\n",
      "          (3): Linear(in_features=4096, out_features=1024, bias=True)\n",
      "          (4): Dropout(p=0.0, inplace=False)\n",
      "        )\n",
      "      )\n",
      "      (encoder_layer_3): EncoderBlock(\n",
      "        (ln_1): LayerNorm((1024,), eps=1e-06, elementwise_affine=True)\n",
      "        (self_attention): MultiheadAttention(\n",
      "          (out_proj): NonDynamicallyQuantizableLinear(in_features=1024, out_features=1024, bias=True)\n",
      "        )\n",
      "        (dropout): Dropout(p=0.0, inplace=False)\n",
      "        (ln_2): LayerNorm((1024,), eps=1e-06, elementwise_affine=True)\n",
      "        (mlp): MLPBlock(\n",
      "          (0): Linear(in_features=1024, out_features=4096, bias=True)\n",
      "          (1): GELU(approximate='none')\n",
      "          (2): Dropout(p=0.0, inplace=False)\n",
      "          (3): Linear(in_features=4096, out_features=1024, bias=True)\n",
      "          (4): Dropout(p=0.0, inplace=False)\n",
      "        )\n",
      "      )\n",
      "      (encoder_layer_4): EncoderBlock(\n",
      "        (ln_1): LayerNorm((1024,), eps=1e-06, elementwise_affine=True)\n",
      "        (self_attention): MultiheadAttention(\n",
      "          (out_proj): NonDynamicallyQuantizableLinear(in_features=1024, out_features=1024, bias=True)\n",
      "        )\n",
      "        (dropout): Dropout(p=0.0, inplace=False)\n",
      "        (ln_2): LayerNorm((1024,), eps=1e-06, elementwise_affine=True)\n",
      "        (mlp): MLPBlock(\n",
      "          (0): Linear(in_features=1024, out_features=4096, bias=True)\n",
      "          (1): GELU(approximate='none')\n",
      "          (2): Dropout(p=0.0, inplace=False)\n",
      "          (3): Linear(in_features=4096, out_features=1024, bias=True)\n",
      "          (4): Dropout(p=0.0, inplace=False)\n",
      "        )\n",
      "      )\n",
      "      (encoder_layer_5): EncoderBlock(\n",
      "        (ln_1): LayerNorm((1024,), eps=1e-06, elementwise_affine=True)\n",
      "        (self_attention): MultiheadAttention(\n",
      "          (out_proj): NonDynamicallyQuantizableLinear(in_features=1024, out_features=1024, bias=True)\n",
      "        )\n",
      "        (dropout): Dropout(p=0.0, inplace=False)\n",
      "        (ln_2): LayerNorm((1024,), eps=1e-06, elementwise_affine=True)\n",
      "        (mlp): MLPBlock(\n",
      "          (0): Linear(in_features=1024, out_features=4096, bias=True)\n",
      "          (1): GELU(approximate='none')\n",
      "          (2): Dropout(p=0.0, inplace=False)\n",
      "          (3): Linear(in_features=4096, out_features=1024, bias=True)\n",
      "          (4): Dropout(p=0.0, inplace=False)\n",
      "        )\n",
      "      )\n",
      "      (encoder_layer_6): EncoderBlock(\n",
      "        (ln_1): LayerNorm((1024,), eps=1e-06, elementwise_affine=True)\n",
      "        (self_attention): MultiheadAttention(\n",
      "          (out_proj): NonDynamicallyQuantizableLinear(in_features=1024, out_features=1024, bias=True)\n",
      "        )\n",
      "        (dropout): Dropout(p=0.0, inplace=False)\n",
      "        (ln_2): LayerNorm((1024,), eps=1e-06, elementwise_affine=True)\n",
      "        (mlp): MLPBlock(\n",
      "          (0): Linear(in_features=1024, out_features=4096, bias=True)\n",
      "          (1): GELU(approximate='none')\n",
      "          (2): Dropout(p=0.0, inplace=False)\n",
      "          (3): Linear(in_features=4096, out_features=1024, bias=True)\n",
      "          (4): Dropout(p=0.0, inplace=False)\n",
      "        )\n",
      "      )\n",
      "      (encoder_layer_7): EncoderBlock(\n",
      "        (ln_1): LayerNorm((1024,), eps=1e-06, elementwise_affine=True)\n",
      "        (self_attention): MultiheadAttention(\n",
      "          (out_proj): NonDynamicallyQuantizableLinear(in_features=1024, out_features=1024, bias=True)\n",
      "        )\n",
      "        (dropout): Dropout(p=0.0, inplace=False)\n",
      "        (ln_2): LayerNorm((1024,), eps=1e-06, elementwise_affine=True)\n",
      "        (mlp): MLPBlock(\n",
      "          (0): Linear(in_features=1024, out_features=4096, bias=True)\n",
      "          (1): GELU(approximate='none')\n",
      "          (2): Dropout(p=0.0, inplace=False)\n",
      "          (3): Linear(in_features=4096, out_features=1024, bias=True)\n",
      "          (4): Dropout(p=0.0, inplace=False)\n",
      "        )\n",
      "      )\n",
      "      (encoder_layer_8): EncoderBlock(\n",
      "        (ln_1): LayerNorm((1024,), eps=1e-06, elementwise_affine=True)\n",
      "        (self_attention): MultiheadAttention(\n",
      "          (out_proj): NonDynamicallyQuantizableLinear(in_features=1024, out_features=1024, bias=True)\n",
      "        )\n",
      "        (dropout): Dropout(p=0.0, inplace=False)\n",
      "        (ln_2): LayerNorm((1024,), eps=1e-06, elementwise_affine=True)\n",
      "        (mlp): MLPBlock(\n",
      "          (0): Linear(in_features=1024, out_features=4096, bias=True)\n",
      "          (1): GELU(approximate='none')\n",
      "          (2): Dropout(p=0.0, inplace=False)\n",
      "          (3): Linear(in_features=4096, out_features=1024, bias=True)\n",
      "          (4): Dropout(p=0.0, inplace=False)\n",
      "        )\n",
      "      )\n",
      "      (encoder_layer_9): EncoderBlock(\n",
      "        (ln_1): LayerNorm((1024,), eps=1e-06, elementwise_affine=True)\n",
      "        (self_attention): MultiheadAttention(\n",
      "          (out_proj): NonDynamicallyQuantizableLinear(in_features=1024, out_features=1024, bias=True)\n",
      "        )\n",
      "        (dropout): Dropout(p=0.0, inplace=False)\n",
      "        (ln_2): LayerNorm((1024,), eps=1e-06, elementwise_affine=True)\n",
      "        (mlp): MLPBlock(\n",
      "          (0): Linear(in_features=1024, out_features=4096, bias=True)\n",
      "          (1): GELU(approximate='none')\n",
      "          (2): Dropout(p=0.0, inplace=False)\n",
      "          (3): Linear(in_features=4096, out_features=1024, bias=True)\n",
      "          (4): Dropout(p=0.0, inplace=False)\n",
      "        )\n",
      "      )\n",
      "      (encoder_layer_10): EncoderBlock(\n",
      "        (ln_1): LayerNorm((1024,), eps=1e-06, elementwise_affine=True)\n",
      "        (self_attention): MultiheadAttention(\n",
      "          (out_proj): NonDynamicallyQuantizableLinear(in_features=1024, out_features=1024, bias=True)\n",
      "        )\n",
      "        (dropout): Dropout(p=0.0, inplace=False)\n",
      "        (ln_2): LayerNorm((1024,), eps=1e-06, elementwise_affine=True)\n",
      "        (mlp): MLPBlock(\n",
      "          (0): Linear(in_features=1024, out_features=4096, bias=True)\n",
      "          (1): GELU(approximate='none')\n",
      "          (2): Dropout(p=0.0, inplace=False)\n",
      "          (3): Linear(in_features=4096, out_features=1024, bias=True)\n",
      "          (4): Dropout(p=0.0, inplace=False)\n",
      "        )\n",
      "      )\n",
      "      (encoder_layer_11): EncoderBlock(\n",
      "        (ln_1): LayerNorm((1024,), eps=1e-06, elementwise_affine=True)\n",
      "        (self_attention): MultiheadAttention(\n",
      "          (out_proj): NonDynamicallyQuantizableLinear(in_features=1024, out_features=1024, bias=True)\n",
      "        )\n",
      "        (dropout): Dropout(p=0.0, inplace=False)\n",
      "        (ln_2): LayerNorm((1024,), eps=1e-06, elementwise_affine=True)\n",
      "        (mlp): MLPBlock(\n",
      "          (0): Linear(in_features=1024, out_features=4096, bias=True)\n",
      "          (1): GELU(approximate='none')\n",
      "          (2): Dropout(p=0.0, inplace=False)\n",
      "          (3): Linear(in_features=4096, out_features=1024, bias=True)\n",
      "          (4): Dropout(p=0.0, inplace=False)\n",
      "        )\n",
      "      )\n",
      "      (encoder_layer_12): EncoderBlock(\n",
      "        (ln_1): LayerNorm((1024,), eps=1e-06, elementwise_affine=True)\n",
      "        (self_attention): MultiheadAttention(\n",
      "          (out_proj): NonDynamicallyQuantizableLinear(in_features=1024, out_features=1024, bias=True)\n",
      "        )\n",
      "        (dropout): Dropout(p=0.0, inplace=False)\n",
      "        (ln_2): LayerNorm((1024,), eps=1e-06, elementwise_affine=True)\n",
      "        (mlp): MLPBlock(\n",
      "          (0): Linear(in_features=1024, out_features=4096, bias=True)\n",
      "          (1): GELU(approximate='none')\n",
      "          (2): Dropout(p=0.0, inplace=False)\n",
      "          (3): Linear(in_features=4096, out_features=1024, bias=True)\n",
      "          (4): Dropout(p=0.0, inplace=False)\n",
      "        )\n",
      "      )\n",
      "      (encoder_layer_13): EncoderBlock(\n",
      "        (ln_1): LayerNorm((1024,), eps=1e-06, elementwise_affine=True)\n",
      "        (self_attention): MultiheadAttention(\n",
      "          (out_proj): NonDynamicallyQuantizableLinear(in_features=1024, out_features=1024, bias=True)\n",
      "        )\n",
      "        (dropout): Dropout(p=0.0, inplace=False)\n",
      "        (ln_2): LayerNorm((1024,), eps=1e-06, elementwise_affine=True)\n",
      "        (mlp): MLPBlock(\n",
      "          (0): Linear(in_features=1024, out_features=4096, bias=True)\n",
      "          (1): GELU(approximate='none')\n",
      "          (2): Dropout(p=0.0, inplace=False)\n",
      "          (3): Linear(in_features=4096, out_features=1024, bias=True)\n",
      "          (4): Dropout(p=0.0, inplace=False)\n",
      "        )\n",
      "      )\n",
      "      (encoder_layer_14): EncoderBlock(\n",
      "        (ln_1): LayerNorm((1024,), eps=1e-06, elementwise_affine=True)\n",
      "        (self_attention): MultiheadAttention(\n",
      "          (out_proj): NonDynamicallyQuantizableLinear(in_features=1024, out_features=1024, bias=True)\n",
      "        )\n",
      "        (dropout): Dropout(p=0.0, inplace=False)\n",
      "        (ln_2): LayerNorm((1024,), eps=1e-06, elementwise_affine=True)\n",
      "        (mlp): MLPBlock(\n",
      "          (0): Linear(in_features=1024, out_features=4096, bias=True)\n",
      "          (1): GELU(approximate='none')\n",
      "          (2): Dropout(p=0.0, inplace=False)\n",
      "          (3): Linear(in_features=4096, out_features=1024, bias=True)\n",
      "          (4): Dropout(p=0.0, inplace=False)\n",
      "        )\n",
      "      )\n",
      "      (encoder_layer_15): EncoderBlock(\n",
      "        (ln_1): LayerNorm((1024,), eps=1e-06, elementwise_affine=True)\n",
      "        (self_attention): MultiheadAttention(\n",
      "          (out_proj): NonDynamicallyQuantizableLinear(in_features=1024, out_features=1024, bias=True)\n",
      "        )\n",
      "        (dropout): Dropout(p=0.0, inplace=False)\n",
      "        (ln_2): LayerNorm((1024,), eps=1e-06, elementwise_affine=True)\n",
      "        (mlp): MLPBlock(\n",
      "          (0): Linear(in_features=1024, out_features=4096, bias=True)\n",
      "          (1): GELU(approximate='none')\n",
      "          (2): Dropout(p=0.0, inplace=False)\n",
      "          (3): Linear(in_features=4096, out_features=1024, bias=True)\n",
      "          (4): Dropout(p=0.0, inplace=False)\n",
      "        )\n",
      "      )\n",
      "      (encoder_layer_16): EncoderBlock(\n",
      "        (ln_1): LayerNorm((1024,), eps=1e-06, elementwise_affine=True)\n",
      "        (self_attention): MultiheadAttention(\n",
      "          (out_proj): NonDynamicallyQuantizableLinear(in_features=1024, out_features=1024, bias=True)\n",
      "        )\n",
      "        (dropout): Dropout(p=0.0, inplace=False)\n",
      "        (ln_2): LayerNorm((1024,), eps=1e-06, elementwise_affine=True)\n",
      "        (mlp): MLPBlock(\n",
      "          (0): Linear(in_features=1024, out_features=4096, bias=True)\n",
      "          (1): GELU(approximate='none')\n",
      "          (2): Dropout(p=0.0, inplace=False)\n",
      "          (3): Linear(in_features=4096, out_features=1024, bias=True)\n",
      "          (4): Dropout(p=0.0, inplace=False)\n",
      "        )\n",
      "      )\n",
      "      (encoder_layer_17): EncoderBlock(\n",
      "        (ln_1): LayerNorm((1024,), eps=1e-06, elementwise_affine=True)\n",
      "        (self_attention): MultiheadAttention(\n",
      "          (out_proj): NonDynamicallyQuantizableLinear(in_features=1024, out_features=1024, bias=True)\n",
      "        )\n",
      "        (dropout): Dropout(p=0.0, inplace=False)\n",
      "        (ln_2): LayerNorm((1024,), eps=1e-06, elementwise_affine=True)\n",
      "        (mlp): MLPBlock(\n",
      "          (0): Linear(in_features=1024, out_features=4096, bias=True)\n",
      "          (1): GELU(approximate='none')\n",
      "          (2): Dropout(p=0.0, inplace=False)\n",
      "          (3): Linear(in_features=4096, out_features=1024, bias=True)\n",
      "          (4): Dropout(p=0.0, inplace=False)\n",
      "        )\n",
      "      )\n",
      "      (encoder_layer_18): EncoderBlock(\n",
      "        (ln_1): LayerNorm((1024,), eps=1e-06, elementwise_affine=True)\n",
      "        (self_attention): MultiheadAttention(\n",
      "          (out_proj): NonDynamicallyQuantizableLinear(in_features=1024, out_features=1024, bias=True)\n",
      "        )\n",
      "        (dropout): Dropout(p=0.0, inplace=False)\n",
      "        (ln_2): LayerNorm((1024,), eps=1e-06, elementwise_affine=True)\n",
      "        (mlp): MLPBlock(\n",
      "          (0): Linear(in_features=1024, out_features=4096, bias=True)\n",
      "          (1): GELU(approximate='none')\n",
      "          (2): Dropout(p=0.0, inplace=False)\n",
      "          (3): Linear(in_features=4096, out_features=1024, bias=True)\n",
      "          (4): Dropout(p=0.0, inplace=False)\n",
      "        )\n",
      "      )\n",
      "      (encoder_layer_19): EncoderBlock(\n",
      "        (ln_1): LayerNorm((1024,), eps=1e-06, elementwise_affine=True)\n",
      "        (self_attention): MultiheadAttention(\n",
      "          (out_proj): NonDynamicallyQuantizableLinear(in_features=1024, out_features=1024, bias=True)\n",
      "        )\n",
      "        (dropout): Dropout(p=0.0, inplace=False)\n",
      "        (ln_2): LayerNorm((1024,), eps=1e-06, elementwise_affine=True)\n",
      "        (mlp): MLPBlock(\n",
      "          (0): Linear(in_features=1024, out_features=4096, bias=True)\n",
      "          (1): GELU(approximate='none')\n",
      "          (2): Dropout(p=0.0, inplace=False)\n",
      "          (3): Linear(in_features=4096, out_features=1024, bias=True)\n",
      "          (4): Dropout(p=0.0, inplace=False)\n",
      "        )\n",
      "      )\n",
      "      (encoder_layer_20): EncoderBlock(\n",
      "        (ln_1): LayerNorm((1024,), eps=1e-06, elementwise_affine=True)\n",
      "        (self_attention): MultiheadAttention(\n",
      "          (out_proj): NonDynamicallyQuantizableLinear(in_features=1024, out_features=1024, bias=True)\n",
      "        )\n",
      "        (dropout): Dropout(p=0.0, inplace=False)\n",
      "        (ln_2): LayerNorm((1024,), eps=1e-06, elementwise_affine=True)\n",
      "        (mlp): MLPBlock(\n",
      "          (0): Linear(in_features=1024, out_features=4096, bias=True)\n",
      "          (1): GELU(approximate='none')\n",
      "          (2): Dropout(p=0.0, inplace=False)\n",
      "          (3): Linear(in_features=4096, out_features=1024, bias=True)\n",
      "          (4): Dropout(p=0.0, inplace=False)\n",
      "        )\n",
      "      )\n",
      "      (encoder_layer_21): EncoderBlock(\n",
      "        (ln_1): LayerNorm((1024,), eps=1e-06, elementwise_affine=True)\n",
      "        (self_attention): MultiheadAttention(\n",
      "          (out_proj): NonDynamicallyQuantizableLinear(in_features=1024, out_features=1024, bias=True)\n",
      "        )\n",
      "        (dropout): Dropout(p=0.0, inplace=False)\n",
      "        (ln_2): LayerNorm((1024,), eps=1e-06, elementwise_affine=True)\n",
      "        (mlp): MLPBlock(\n",
      "          (0): Linear(in_features=1024, out_features=4096, bias=True)\n",
      "          (1): GELU(approximate='none')\n",
      "          (2): Dropout(p=0.0, inplace=False)\n",
      "          (3): Linear(in_features=4096, out_features=1024, bias=True)\n",
      "          (4): Dropout(p=0.0, inplace=False)\n",
      "        )\n",
      "      )\n",
      "      (encoder_layer_22): EncoderBlock(\n",
      "        (ln_1): LayerNorm((1024,), eps=1e-06, elementwise_affine=True)\n",
      "        (self_attention): MultiheadAttention(\n",
      "          (out_proj): NonDynamicallyQuantizableLinear(in_features=1024, out_features=1024, bias=True)\n",
      "        )\n",
      "        (dropout): Dropout(p=0.0, inplace=False)\n",
      "        (ln_2): LayerNorm((1024,), eps=1e-06, elementwise_affine=True)\n",
      "        (mlp): MLPBlock(\n",
      "          (0): Linear(in_features=1024, out_features=4096, bias=True)\n",
      "          (1): GELU(approximate='none')\n",
      "          (2): Dropout(p=0.0, inplace=False)\n",
      "          (3): Linear(in_features=4096, out_features=1024, bias=True)\n",
      "          (4): Dropout(p=0.0, inplace=False)\n",
      "        )\n",
      "      )\n",
      "      (encoder_layer_23): EncoderBlock(\n",
      "        (ln_1): LayerNorm((1024,), eps=1e-06, elementwise_affine=True)\n",
      "        (self_attention): MultiheadAttention(\n",
      "          (out_proj): NonDynamicallyQuantizableLinear(in_features=1024, out_features=1024, bias=True)\n",
      "        )\n",
      "        (dropout): Dropout(p=0.0, inplace=False)\n",
      "        (ln_2): LayerNorm((1024,), eps=1e-06, elementwise_affine=True)\n",
      "        (mlp): MLPBlock(\n",
      "          (0): Linear(in_features=1024, out_features=4096, bias=True)\n",
      "          (1): GELU(approximate='none')\n",
      "          (2): Dropout(p=0.0, inplace=False)\n",
      "          (3): Linear(in_features=4096, out_features=1024, bias=True)\n",
      "          (4): Dropout(p=0.0, inplace=False)\n",
      "        )\n",
      "      )\n",
      "    )\n",
      "    (ln): LayerNorm((1024,), eps=1e-06, elementwise_affine=True)\n",
      "  )\n",
      "  (heads): Sequential(\n",
      "    (head): Linear(in_features=1024, out_features=1000, bias=True)\n",
      "  )\n",
      ")\n"
     ]
    }
   ],
   "source": [
    "from torchvision.models import vit_l_16\n",
    "\n",
    "print(vit_l_16())"
   ]
  },
  {
   "cell_type": "markdown",
   "metadata": {},
   "source": [
    "Aus der Modellarchitektor geht hervor, dass die Klassifizierung mit den Extrahierten Features in der letzten Schicht stattfindet. In der Orginalen Architektur werden 768 features mit 1000 Neuronen verbunden, welche die Klassen repräsentieren. Diese können wir austauschen, sodass diese Schicht die 768 Features mit unseren 9 Klassen verbindet."
   ]
  },
  {
   "cell_type": "markdown",
   "metadata": {},
   "source": [
    "Im nächsten Schritt sollen die oben gelisteten verschiedene Version der Vision Transformer trainiert und getestet werden. Dabei werden jeweils die vortrainierten \"DEFAULT\" gewichte verwendet. Diese wurden auf alle IMAGENET1K_V1 Datensatz vortrainiert. Bei allen vortrainierten Modellen wurden die gleichen Transformationen benutzt, welche wir direkt über torchvision für die jeweiligen Gewichte abrufen können \n",
    "\n",
    "Russakovsky, O., Deng, J., Su, H., Krause, J., Satheesh, S., Ma, S., ... & Fei-Fei, L. (2015). Imagenet large scale visual recognition challenge. International journal of computer vision, 115, 211-252."
   ]
  },
  {
   "cell_type": "markdown",
   "metadata": {},
   "source": [
    "#### Model"
   ]
  },
  {
   "cell_type": "code",
   "execution_count": null,
   "metadata": {},
   "outputs": [],
   "source": [
    "from torchvision.models import vit_l_16\n",
    "\n",
    "class VitWasteClassifier(BaseWasteClassifier):\n",
    "    def __init__(self, num_classes=9):\n",
    "        super().__init__(num_classes)\n",
    "        self.model = vit_l_16(weights=\"ViT_L_16_Weights.IMAGENET1K_V1\")\n",
    "        in_features = self.model.heads.head.in_features\n",
    "        self.model.heads.head = torch.nn.Linear(in_features=in_features, out_features=num_classes)\n",
    "\n",
    "    def forward(self, x):\n",
    "        return self.model(x)"
   ]
  },
  {
   "cell_type": "markdown",
   "metadata": {},
   "source": [
    "#### Training"
   ]
  },
  {
   "cell_type": "code",
   "execution_count": null,
   "metadata": {},
   "outputs": [],
   "source": [
    "from torchvision.transforms.functional import InterpolationMode\n",
    "\n",
    "transform = transforms.Compose([\n",
    "    transforms.Resize(242, interpolation=InterpolationMode.BILINEAR),\n",
    "    transforms.CenterCrop(224),\n",
    "    transforms.ToTensor(),\n",
    "    transforms.Normalize(mean=[0.485, 0.456, 0.406], std=[0.229, 0.224, 0.225]),\n",
    "])\n",
    "data_module = ConfigurableDataModule(\n",
    "    train_data_dir=train_data_path, \n",
    "    test_data_dir=our_test_data_path, \n",
    "    batch_size=32, \n",
    "    train_transform=transform, \n",
    "    val_test_transform=transform # Nutzung der gleichen Transformationen\n",
    ")\n",
    "model = VitWasteClassifier(num_classes=9)\n",
    "callbacks = get_callbacks(\n",
    "    model_checkpoint_path=model.models_dir,\n",
    "    early_stop_patience=2\n",
    ")\n",
    "train_model(\n",
    "    model, \n",
    "    data_module, \n",
    "    version_name=\"standard\", # Hinweise auf Version mit Standardeinstellungen/Transformationen\n",
    "    max_epochs=10, \n",
    "    logger_name=\"ViT_L_16\", \n",
    "    callbacks=callbacks\n",
    ")"
   ]
  },
  {
   "cell_type": "markdown",
   "metadata": {},
   "source": [
    "### AlexNet"
   ]
  },
  {
   "cell_type": "markdown",
   "metadata": {},
   "source": [
    "#### Model"
   ]
  },
  {
   "cell_type": "code",
   "execution_count": null,
   "metadata": {},
   "outputs": [],
   "source": [
    "from torchvision.models import alexnet\n",
    "\n",
    "class AlexNetWasteClassifier(BaseWasteClassifier):\n",
    "    def __init__(self, num_classes=9):\n",
    "        super().__init__(num_classes)\n",
    "        self.model = alexnet(weights=\"AlexNet_Weights.DEFAULT\")\n",
    "        in_features = self.model.classifier[6].in_features\n",
    "        self.model.classifier[6] = torch.nn.Linear(in_features, num_classes)\n",
    "\n",
    "    def forward(self, x):\n",
    "        return self.model(x)"
   ]
  },
  {
   "cell_type": "markdown",
   "metadata": {},
   "source": [
    "#### Training"
   ]
  },
  {
   "cell_type": "code",
   "execution_count": null,
   "metadata": {},
   "outputs": [],
   "source": [
    "from torchvision.transforms.functional import InterpolationMode\n",
    "\n",
    "transform = transforms.Compose([\n",
    "    transforms.Resize(256, interpolation=InterpolationMode.BILINEAR),\n",
    "    transforms.CenterCrop(224),\n",
    "    transforms.ToTensor(),\n",
    "    transforms.Normalize(mean=[0.485, 0.456, 0.406], std=[0.229, 0.224, 0.225]),\n",
    "])\n",
    "\n",
    "data_module = ConfigurableDataModule(data_dir=data_path, batch_size=32, transform=transform)\n",
    "\n",
    "model = AlexNetWasteClassifier(num_classes=9)\n",
    "callbacks = get_callbacks(\n",
    "    model_checkpoint_path=model.models_dir,\n",
    "    early_stop_patience=2\n",
    ")\n",
    "train_model(model, data_module, max_epochs=50, logger_name=\"AlexNet\", callbacks=callbacks)"
   ]
  },
  {
   "cell_type": "markdown",
   "metadata": {},
   "source": [
    "## Augmentierungen und Hpyterparameter Tuning mit Vision Transformer"
   ]
  },
  {
   "cell_type": "code",
   "execution_count": 45,
   "metadata": {
    "tags": []
   },
   "outputs": [
    {
     "name": "stderr",
     "output_type": "stream",
     "text": [
      "[I 2024-02-27 13:15:58,378] A new study created in memory with name: no-name-46882c23-15fa-4d32-9062-167a4edac396\n",
      "/tmp/ipykernel_10074/3724756107.py:31: FutureWarning: suggest_loguniform has been deprecated in v3.0.0. This feature will be removed in v6.0.0. See https://github.com/optuna/optuna/releases/tag/v3.0.0. Use suggest_float(..., log=True) instead.\n",
      "  learning_rate = trial.suggest_loguniform('learning_rate', 1e-5, 1e-1)\n",
      "[W 2024-02-27 13:15:58,381] Trial 0 failed with parameters: {'batch_size': 32, 'learning_rate': 0.0001372031687092148, 'brightness': 0.07870164166603355, 'contrast': 0.05271247727212596, 'saturation': 0.0765234697278498, 'shear': 7.119189283423652} because of the following error: NameError(\"name 'data_path' is not defined\").\n",
      "Traceback (most recent call last):\n",
      "  File \"/opt/conda/lib/python3.11/site-packages/optuna/study/_optimize.py\", line 200, in _run_trial\n",
      "    value_or_values = func(trial)\n",
      "                      ^^^^^^^^^^^\n",
      "  File \"/tmp/ipykernel_10074/3724756107.py\", line 50, in objective\n",
      "    data_module = ConfigurableDataModule(data_dir=data_path, batch_size=batch_size, transform=transform)\n",
      "                                                  ^^^^^^^^^\n",
      "NameError: name 'data_path' is not defined\n",
      "[W 2024-02-27 13:15:58,382] Trial 0 failed with value None.\n"
     ]
    },
    {
     "ename": "NameError",
     "evalue": "name 'data_path' is not defined",
     "output_type": "error",
     "traceback": [
      "\u001b[0;31m---------------------------------------------------------------------------\u001b[0m",
      "\u001b[0;31mNameError\u001b[0m                                 Traceback (most recent call last)",
      "Cell \u001b[0;32mIn[45], line 79\u001b[0m\n\u001b[1;32m     76\u001b[0m     \u001b[38;5;28;01mreturn\u001b[39;00m val_loss\n\u001b[1;32m     78\u001b[0m study \u001b[38;5;241m=\u001b[39m optuna\u001b[38;5;241m.\u001b[39mcreate_study(direction\u001b[38;5;241m=\u001b[39m\u001b[38;5;124m'\u001b[39m\u001b[38;5;124mminimize\u001b[39m\u001b[38;5;124m'\u001b[39m)\n\u001b[0;32m---> 79\u001b[0m \u001b[43mstudy\u001b[49m\u001b[38;5;241;43m.\u001b[39;49m\u001b[43moptimize\u001b[49m\u001b[43m(\u001b[49m\u001b[43mobjective\u001b[49m\u001b[43m,\u001b[49m\u001b[43m \u001b[49m\u001b[43mn_trials\u001b[49m\u001b[38;5;241;43m=\u001b[39;49m\u001b[38;5;241;43m20\u001b[39;49m\u001b[43m)\u001b[49m  \u001b[38;5;66;03m# Adjust the number of trials as needed\u001b[39;00m\n\u001b[1;32m     81\u001b[0m \u001b[38;5;28mprint\u001b[39m(\u001b[38;5;124m\"\u001b[39m\u001b[38;5;124mBest trial:\u001b[39m\u001b[38;5;124m\"\u001b[39m)\n\u001b[1;32m     82\u001b[0m trial \u001b[38;5;241m=\u001b[39m study\u001b[38;5;241m.\u001b[39mbest_trial\n",
      "File \u001b[0;32m/opt/conda/lib/python3.11/site-packages/optuna/study/study.py:451\u001b[0m, in \u001b[0;36mStudy.optimize\u001b[0;34m(self, func, n_trials, timeout, n_jobs, catch, callbacks, gc_after_trial, show_progress_bar)\u001b[0m\n\u001b[1;32m    348\u001b[0m \u001b[38;5;28;01mdef\u001b[39;00m \u001b[38;5;21moptimize\u001b[39m(\n\u001b[1;32m    349\u001b[0m     \u001b[38;5;28mself\u001b[39m,\n\u001b[1;32m    350\u001b[0m     func: ObjectiveFuncType,\n\u001b[0;32m   (...)\u001b[0m\n\u001b[1;32m    357\u001b[0m     show_progress_bar: \u001b[38;5;28mbool\u001b[39m \u001b[38;5;241m=\u001b[39m \u001b[38;5;28;01mFalse\u001b[39;00m,\n\u001b[1;32m    358\u001b[0m ) \u001b[38;5;241m-\u001b[39m\u001b[38;5;241m>\u001b[39m \u001b[38;5;28;01mNone\u001b[39;00m:\n\u001b[1;32m    359\u001b[0m \u001b[38;5;250m    \u001b[39m\u001b[38;5;124;03m\"\"\"Optimize an objective function.\u001b[39;00m\n\u001b[1;32m    360\u001b[0m \n\u001b[1;32m    361\u001b[0m \u001b[38;5;124;03m    Optimization is done by choosing a suitable set of hyperparameter values from a given\u001b[39;00m\n\u001b[0;32m   (...)\u001b[0m\n\u001b[1;32m    449\u001b[0m \u001b[38;5;124;03m            If nested invocation of this method occurs.\u001b[39;00m\n\u001b[1;32m    450\u001b[0m \u001b[38;5;124;03m    \"\"\"\u001b[39;00m\n\u001b[0;32m--> 451\u001b[0m     \u001b[43m_optimize\u001b[49m\u001b[43m(\u001b[49m\n\u001b[1;32m    452\u001b[0m \u001b[43m        \u001b[49m\u001b[43mstudy\u001b[49m\u001b[38;5;241;43m=\u001b[39;49m\u001b[38;5;28;43mself\u001b[39;49m\u001b[43m,\u001b[49m\n\u001b[1;32m    453\u001b[0m \u001b[43m        \u001b[49m\u001b[43mfunc\u001b[49m\u001b[38;5;241;43m=\u001b[39;49m\u001b[43mfunc\u001b[49m\u001b[43m,\u001b[49m\n\u001b[1;32m    454\u001b[0m \u001b[43m        \u001b[49m\u001b[43mn_trials\u001b[49m\u001b[38;5;241;43m=\u001b[39;49m\u001b[43mn_trials\u001b[49m\u001b[43m,\u001b[49m\n\u001b[1;32m    455\u001b[0m \u001b[43m        \u001b[49m\u001b[43mtimeout\u001b[49m\u001b[38;5;241;43m=\u001b[39;49m\u001b[43mtimeout\u001b[49m\u001b[43m,\u001b[49m\n\u001b[1;32m    456\u001b[0m \u001b[43m        \u001b[49m\u001b[43mn_jobs\u001b[49m\u001b[38;5;241;43m=\u001b[39;49m\u001b[43mn_jobs\u001b[49m\u001b[43m,\u001b[49m\n\u001b[1;32m    457\u001b[0m \u001b[43m        \u001b[49m\u001b[43mcatch\u001b[49m\u001b[38;5;241;43m=\u001b[39;49m\u001b[38;5;28;43mtuple\u001b[39;49m\u001b[43m(\u001b[49m\u001b[43mcatch\u001b[49m\u001b[43m)\u001b[49m\u001b[43m \u001b[49m\u001b[38;5;28;43;01mif\u001b[39;49;00m\u001b[43m \u001b[49m\u001b[38;5;28;43misinstance\u001b[39;49m\u001b[43m(\u001b[49m\u001b[43mcatch\u001b[49m\u001b[43m,\u001b[49m\u001b[43m \u001b[49m\u001b[43mIterable\u001b[49m\u001b[43m)\u001b[49m\u001b[43m \u001b[49m\u001b[38;5;28;43;01melse\u001b[39;49;00m\u001b[43m \u001b[49m\u001b[43m(\u001b[49m\u001b[43mcatch\u001b[49m\u001b[43m,\u001b[49m\u001b[43m)\u001b[49m\u001b[43m,\u001b[49m\n\u001b[1;32m    458\u001b[0m \u001b[43m        \u001b[49m\u001b[43mcallbacks\u001b[49m\u001b[38;5;241;43m=\u001b[39;49m\u001b[43mcallbacks\u001b[49m\u001b[43m,\u001b[49m\n\u001b[1;32m    459\u001b[0m \u001b[43m        \u001b[49m\u001b[43mgc_after_trial\u001b[49m\u001b[38;5;241;43m=\u001b[39;49m\u001b[43mgc_after_trial\u001b[49m\u001b[43m,\u001b[49m\n\u001b[1;32m    460\u001b[0m \u001b[43m        \u001b[49m\u001b[43mshow_progress_bar\u001b[49m\u001b[38;5;241;43m=\u001b[39;49m\u001b[43mshow_progress_bar\u001b[49m\u001b[43m,\u001b[49m\n\u001b[1;32m    461\u001b[0m \u001b[43m    \u001b[49m\u001b[43m)\u001b[49m\n",
      "File \u001b[0;32m/opt/conda/lib/python3.11/site-packages/optuna/study/_optimize.py:66\u001b[0m, in \u001b[0;36m_optimize\u001b[0;34m(study, func, n_trials, timeout, n_jobs, catch, callbacks, gc_after_trial, show_progress_bar)\u001b[0m\n\u001b[1;32m     64\u001b[0m \u001b[38;5;28;01mtry\u001b[39;00m:\n\u001b[1;32m     65\u001b[0m     \u001b[38;5;28;01mif\u001b[39;00m n_jobs \u001b[38;5;241m==\u001b[39m \u001b[38;5;241m1\u001b[39m:\n\u001b[0;32m---> 66\u001b[0m         \u001b[43m_optimize_sequential\u001b[49m\u001b[43m(\u001b[49m\n\u001b[1;32m     67\u001b[0m \u001b[43m            \u001b[49m\u001b[43mstudy\u001b[49m\u001b[43m,\u001b[49m\n\u001b[1;32m     68\u001b[0m \u001b[43m            \u001b[49m\u001b[43mfunc\u001b[49m\u001b[43m,\u001b[49m\n\u001b[1;32m     69\u001b[0m \u001b[43m            \u001b[49m\u001b[43mn_trials\u001b[49m\u001b[43m,\u001b[49m\n\u001b[1;32m     70\u001b[0m \u001b[43m            \u001b[49m\u001b[43mtimeout\u001b[49m\u001b[43m,\u001b[49m\n\u001b[1;32m     71\u001b[0m \u001b[43m            \u001b[49m\u001b[43mcatch\u001b[49m\u001b[43m,\u001b[49m\n\u001b[1;32m     72\u001b[0m \u001b[43m            \u001b[49m\u001b[43mcallbacks\u001b[49m\u001b[43m,\u001b[49m\n\u001b[1;32m     73\u001b[0m \u001b[43m            \u001b[49m\u001b[43mgc_after_trial\u001b[49m\u001b[43m,\u001b[49m\n\u001b[1;32m     74\u001b[0m \u001b[43m            \u001b[49m\u001b[43mreseed_sampler_rng\u001b[49m\u001b[38;5;241;43m=\u001b[39;49m\u001b[38;5;28;43;01mFalse\u001b[39;49;00m\u001b[43m,\u001b[49m\n\u001b[1;32m     75\u001b[0m \u001b[43m            \u001b[49m\u001b[43mtime_start\u001b[49m\u001b[38;5;241;43m=\u001b[39;49m\u001b[38;5;28;43;01mNone\u001b[39;49;00m\u001b[43m,\u001b[49m\n\u001b[1;32m     76\u001b[0m \u001b[43m            \u001b[49m\u001b[43mprogress_bar\u001b[49m\u001b[38;5;241;43m=\u001b[39;49m\u001b[43mprogress_bar\u001b[49m\u001b[43m,\u001b[49m\n\u001b[1;32m     77\u001b[0m \u001b[43m        \u001b[49m\u001b[43m)\u001b[49m\n\u001b[1;32m     78\u001b[0m     \u001b[38;5;28;01melse\u001b[39;00m:\n\u001b[1;32m     79\u001b[0m         \u001b[38;5;28;01mif\u001b[39;00m n_jobs \u001b[38;5;241m==\u001b[39m \u001b[38;5;241m-\u001b[39m\u001b[38;5;241m1\u001b[39m:\n",
      "File \u001b[0;32m/opt/conda/lib/python3.11/site-packages/optuna/study/_optimize.py:163\u001b[0m, in \u001b[0;36m_optimize_sequential\u001b[0;34m(study, func, n_trials, timeout, catch, callbacks, gc_after_trial, reseed_sampler_rng, time_start, progress_bar)\u001b[0m\n\u001b[1;32m    160\u001b[0m         \u001b[38;5;28;01mbreak\u001b[39;00m\n\u001b[1;32m    162\u001b[0m \u001b[38;5;28;01mtry\u001b[39;00m:\n\u001b[0;32m--> 163\u001b[0m     frozen_trial \u001b[38;5;241m=\u001b[39m \u001b[43m_run_trial\u001b[49m\u001b[43m(\u001b[49m\u001b[43mstudy\u001b[49m\u001b[43m,\u001b[49m\u001b[43m \u001b[49m\u001b[43mfunc\u001b[49m\u001b[43m,\u001b[49m\u001b[43m \u001b[49m\u001b[43mcatch\u001b[49m\u001b[43m)\u001b[49m\n\u001b[1;32m    164\u001b[0m \u001b[38;5;28;01mfinally\u001b[39;00m:\n\u001b[1;32m    165\u001b[0m     \u001b[38;5;66;03m# The following line mitigates memory problems that can be occurred in some\u001b[39;00m\n\u001b[1;32m    166\u001b[0m     \u001b[38;5;66;03m# environments (e.g., services that use computing containers such as GitHub Actions).\u001b[39;00m\n\u001b[1;32m    167\u001b[0m     \u001b[38;5;66;03m# Please refer to the following PR for further details:\u001b[39;00m\n\u001b[1;32m    168\u001b[0m     \u001b[38;5;66;03m# https://github.com/optuna/optuna/pull/325.\u001b[39;00m\n\u001b[1;32m    169\u001b[0m     \u001b[38;5;28;01mif\u001b[39;00m gc_after_trial:\n",
      "File \u001b[0;32m/opt/conda/lib/python3.11/site-packages/optuna/study/_optimize.py:251\u001b[0m, in \u001b[0;36m_run_trial\u001b[0;34m(study, func, catch)\u001b[0m\n\u001b[1;32m    244\u001b[0m         \u001b[38;5;28;01massert\u001b[39;00m \u001b[38;5;28;01mFalse\u001b[39;00m, \u001b[38;5;124m\"\u001b[39m\u001b[38;5;124mShould not reach.\u001b[39m\u001b[38;5;124m\"\u001b[39m\n\u001b[1;32m    246\u001b[0m \u001b[38;5;28;01mif\u001b[39;00m (\n\u001b[1;32m    247\u001b[0m     frozen_trial\u001b[38;5;241m.\u001b[39mstate \u001b[38;5;241m==\u001b[39m TrialState\u001b[38;5;241m.\u001b[39mFAIL\n\u001b[1;32m    248\u001b[0m     \u001b[38;5;129;01mand\u001b[39;00m func_err \u001b[38;5;129;01mis\u001b[39;00m \u001b[38;5;129;01mnot\u001b[39;00m \u001b[38;5;28;01mNone\u001b[39;00m\n\u001b[1;32m    249\u001b[0m     \u001b[38;5;129;01mand\u001b[39;00m \u001b[38;5;129;01mnot\u001b[39;00m \u001b[38;5;28misinstance\u001b[39m(func_err, catch)\n\u001b[1;32m    250\u001b[0m ):\n\u001b[0;32m--> 251\u001b[0m     \u001b[38;5;28;01mraise\u001b[39;00m func_err\n\u001b[1;32m    252\u001b[0m \u001b[38;5;28;01mreturn\u001b[39;00m frozen_trial\n",
      "File \u001b[0;32m/opt/conda/lib/python3.11/site-packages/optuna/study/_optimize.py:200\u001b[0m, in \u001b[0;36m_run_trial\u001b[0;34m(study, func, catch)\u001b[0m\n\u001b[1;32m    198\u001b[0m \u001b[38;5;28;01mwith\u001b[39;00m get_heartbeat_thread(trial\u001b[38;5;241m.\u001b[39m_trial_id, study\u001b[38;5;241m.\u001b[39m_storage):\n\u001b[1;32m    199\u001b[0m     \u001b[38;5;28;01mtry\u001b[39;00m:\n\u001b[0;32m--> 200\u001b[0m         value_or_values \u001b[38;5;241m=\u001b[39m \u001b[43mfunc\u001b[49m\u001b[43m(\u001b[49m\u001b[43mtrial\u001b[49m\u001b[43m)\u001b[49m\n\u001b[1;32m    201\u001b[0m     \u001b[38;5;28;01mexcept\u001b[39;00m exceptions\u001b[38;5;241m.\u001b[39mTrialPruned \u001b[38;5;28;01mas\u001b[39;00m e:\n\u001b[1;32m    202\u001b[0m         \u001b[38;5;66;03m# TODO(mamu): Handle multi-objective cases.\u001b[39;00m\n\u001b[1;32m    203\u001b[0m         state \u001b[38;5;241m=\u001b[39m TrialState\u001b[38;5;241m.\u001b[39mPRUNED\n",
      "Cell \u001b[0;32mIn[45], line 50\u001b[0m, in \u001b[0;36mobjective\u001b[0;34m(trial)\u001b[0m\n\u001b[1;32m     38\u001b[0m transform \u001b[38;5;241m=\u001b[39m transforms\u001b[38;5;241m.\u001b[39mCompose([\n\u001b[1;32m     39\u001b[0m     transforms\u001b[38;5;241m.\u001b[39mRandomRotation(degrees\u001b[38;5;241m=\u001b[39m\u001b[38;5;241m15\u001b[39m),\n\u001b[1;32m     40\u001b[0m     transforms\u001b[38;5;241m.\u001b[39mColorJitter(brightness\u001b[38;5;241m=\u001b[39mbrightness, contrast\u001b[38;5;241m=\u001b[39mcontrast, saturation\u001b[38;5;241m=\u001b[39msaturation),\n\u001b[0;32m   (...)\u001b[0m\n\u001b[1;32m     46\u001b[0m     transforms\u001b[38;5;241m.\u001b[39mNormalize(mean\u001b[38;5;241m=\u001b[39m[\u001b[38;5;241m0.485\u001b[39m, \u001b[38;5;241m0.456\u001b[39m, \u001b[38;5;241m0.406\u001b[39m], std\u001b[38;5;241m=\u001b[39m[\u001b[38;5;241m0.229\u001b[39m, \u001b[38;5;241m0.224\u001b[39m, \u001b[38;5;241m0.225\u001b[39m]),\n\u001b[1;32m     47\u001b[0m ])\n\u001b[1;32m     49\u001b[0m \u001b[38;5;66;03m# Setup the data module and model with suggested hyperparameters\u001b[39;00m\n\u001b[0;32m---> 50\u001b[0m data_module \u001b[38;5;241m=\u001b[39m ConfigurableDataModule(data_dir\u001b[38;5;241m=\u001b[39m\u001b[43mdata_path\u001b[49m, batch_size\u001b[38;5;241m=\u001b[39mbatch_size, transform\u001b[38;5;241m=\u001b[39mtransform)\n\u001b[1;32m     52\u001b[0m model \u001b[38;5;241m=\u001b[39m VitWasteClassifier(num_classes\u001b[38;5;241m=\u001b[39m\u001b[38;5;241m9\u001b[39m, learning_rate\u001b[38;5;241m=\u001b[39mlearning_rate)\n\u001b[1;32m     54\u001b[0m \u001b[38;5;66;03m# Define callbacks for early stopping and model checkpointing\u001b[39;00m\n",
      "\u001b[0;31mNameError\u001b[0m: name 'data_path' is not defined"
     ]
    }
   ],
   "source": [
    "import torch\n",
    "from torchvision import transforms\n",
    "from torchvision.models import vit_l_16\n",
    "import pytorch_lightning as pl\n",
    "from pytorch_lightning import Trainer\n",
    "from pytorch_lightning.loggers import TensorBoardLogger\n",
    "from pytorch_lightning.callbacks import EarlyStopping, ModelCheckpoint\n",
    "import optuna\n",
    "from optuna.integration import PyTorchLightningPruningCallback\n",
    "\n",
    "# Assuming the definition of ConfigurableDataModule and other necessary imports are done above\n",
    "\n",
    "class VitWasteClassifier(pl.LightningModule):\n",
    "    def __init__(self, num_classes=9, learning_rate=1e-3):\n",
    "        super().__init__()\n",
    "        self.save_hyperparameters()\n",
    "        self.model = vit_l_16(weights=\"ViT_L_16_Weights.DEFAULT\")\n",
    "        in_features = self.model.heads.head.in_features\n",
    "        self.model.heads.head = torch.nn.Linear(in_features=in_features, out_features=num_classes)\n",
    "\n",
    "    def forward(self, x):\n",
    "        return self.model(x)\n",
    "    \n",
    "    def configure_optimizers(self):\n",
    "        optimizer = torch.optim.SGD(self.parameters(), lr=self.hparams.learning_rate, momentum=0.9)\n",
    "        return optimizer\n",
    "\n",
    "def objective(trial):\n",
    "    # Suggest values for the hyperparameters\n",
    "    batch_size = trial.suggest_categorical('batch_size', [16, 32, 64])\n",
    "    learning_rate = trial.suggest_loguniform('learning_rate', 1e-5, 1e-1)\n",
    "    brightness = trial.suggest_float('brightness', 0.0, 0.2)\n",
    "    contrast = trial.suggest_float('contrast', 0.0, 0.2)\n",
    "    saturation = trial.suggest_float('saturation', 0.0, 0.2)\n",
    "    shear = trial.suggest_float('shear', 5, 25)  # Adding shear as a hyperparameter\n",
    "\n",
    "    # Define transformations with trial hyperparameters\n",
    "    transform = transforms.Compose([\n",
    "        transforms.RandomRotation(degrees=15),\n",
    "        transforms.ColorJitter(brightness=brightness, contrast=contrast, saturation=saturation),\n",
    "        transforms.RandomHorizontalFlip(),\n",
    "        transforms.RandomAffine(degrees=0, shear=shear),  # Apply shearing here\n",
    "        transforms.Resize(242, interpolation=transforms.InterpolationMode.BILINEAR),\n",
    "        transforms.CenterCrop(224),\n",
    "        transforms.ToTensor(),\n",
    "        transforms.Normalize(mean=[0.485, 0.456, 0.406], std=[0.229, 0.224, 0.225]),\n",
    "    ])\n",
    "    \n",
    "    # Setup the data module and model with suggested hyperparameters\n",
    "    data_module = ConfigurableDataModule(data_dir=data_path, batch_size=batch_size, transform=transform)\n",
    "\n",
    "    model = VitWasteClassifier(num_classes=9, learning_rate=learning_rate)\n",
    "    \n",
    "    # Define callbacks for early stopping and model checkpointing\n",
    "    callbacks = get_callbacks(\n",
    "        model_checkpoint_path=model.models_dir,\n",
    "        early_stop_patience=2\n",
    "    )\n",
    "    # Optune frühzeitiges Abbrechen von nicht viel versprechende Versuchens\n",
    "    callbacks.append(PyTorchLightningPruningCallback(trial, monitor=\"val_loss\"))\n",
    "    \n",
    "    # Setup the trainer\n",
    "    trainer = Trainer(\n",
    "        max_epochs=8,  \n",
    "        gpus=1 if torch.cuda.is_available() else 0,\n",
    "        logger=TensorBoardLogger(\"results/tb_logs\", name=\"vit_waste\"),\n",
    "        callbacks=callbacks,\n",
    "        progress_bar_refresh_rate=0,\n",
    "    )\n",
    "    \n",
    "    # Train the model\n",
    "    trainer.fit(model, datamodule=data_module)\n",
    "    \n",
    "    # Optional: Implement your logic to compute a metric to optimize\n",
    "    val_loss = trainer.callback_metrics[\"val_loss\"].item()\n",
    "    return val_loss\n",
    "\n",
    "study = optuna.create_study(direction='minimize')\n",
    "study.optimize(objective, n_trials=20)  # Adjust the number of trials as needed\n",
    "\n",
    "print(\"Best trial:\")\n",
    "trial = study.best_trial\n",
    "\n",
    "print(f\"Value: {trial.value}\")\n",
    "print(\"Params: \")\n",
    "for key, value in trial.params.items():\n",
    "    print(f\"  {key}: {value}\")\n"
   ]
  }
 ],
 "metadata": {
  "accelerator": "GPU",
  "colab": {
   "gpuType": "T4",
   "include_colab_link": true,
   "provenance": []
  },
  "kernelspec": {
   "display_name": "Python 3 (ipykernel)",
   "language": "python",
   "name": "python3"
  },
  "language_info": {
   "codemirror_mode": {
    "name": "ipython",
    "version": 3
   },
   "file_extension": ".py",
   "mimetype": "text/x-python",
   "name": "python",
   "nbconvert_exporter": "python",
   "pygments_lexer": "ipython3",
   "version": "3.11.7"
  },
  "widgets": {
   "application/vnd.jupyter.widget-state+json": {
    "008810fe67384b718857b950b9b3ea2b": {
     "model_module": "@jupyter-widgets/controls",
     "model_module_version": "1.5.0",
     "model_name": "FloatProgressModel",
     "state": {
      "_dom_classes": [],
      "_model_module": "@jupyter-widgets/controls",
      "_model_module_version": "1.5.0",
      "_model_name": "FloatProgressModel",
      "_view_count": null,
      "_view_module": "@jupyter-widgets/controls",
      "_view_module_version": "1.5.0",
      "_view_name": "ProgressView",
      "bar_style": "",
      "description": "",
      "description_tooltip": null,
      "layout": "IPY_MODEL_f4d20a1fceb24bc0ac7d4f4d3eb7b950",
      "max": 2,
      "min": 0,
      "orientation": "horizontal",
      "style": "IPY_MODEL_d4f8e67685d94c0f889070782e7b39e3",
      "value": 2
     }
    },
    "00b4655e4caa419d9a35cddb4e4ced88": {
     "model_module": "@jupyter-widgets/controls",
     "model_module_version": "1.5.0",
     "model_name": "FloatProgressModel",
     "state": {
      "_dom_classes": [],
      "_model_module": "@jupyter-widgets/controls",
      "_model_module_version": "1.5.0",
      "_model_name": "FloatProgressModel",
      "_view_count": null,
      "_view_module": "@jupyter-widgets/controls",
      "_view_module_version": "1.5.0",
      "_view_name": "ProgressView",
      "bar_style": "",
      "description": "",
      "description_tooltip": null,
      "layout": "IPY_MODEL_32aef32cdc134814bc78a2c6194ef561",
      "max": 119,
      "min": 0,
      "orientation": "horizontal",
      "style": "IPY_MODEL_128a4dc0352940f68104c247d47c5886",
      "value": 20
     }
    },
    "104ec8041d87475ebadcacaee6e9ec22": {
     "model_module": "@jupyter-widgets/base",
     "model_module_version": "1.2.0",
     "model_name": "LayoutModel",
     "state": {
      "_model_module": "@jupyter-widgets/base",
      "_model_module_version": "1.2.0",
      "_model_name": "LayoutModel",
      "_view_count": null,
      "_view_module": "@jupyter-widgets/base",
      "_view_module_version": "1.2.0",
      "_view_name": "LayoutView",
      "align_content": null,
      "align_items": null,
      "align_self": null,
      "border": null,
      "bottom": null,
      "display": null,
      "flex": null,
      "flex_flow": null,
      "grid_area": null,
      "grid_auto_columns": null,
      "grid_auto_flow": null,
      "grid_auto_rows": null,
      "grid_column": null,
      "grid_gap": null,
      "grid_row": null,
      "grid_template_areas": null,
      "grid_template_columns": null,
      "grid_template_rows": null,
      "height": null,
      "justify_content": null,
      "justify_items": null,
      "left": null,
      "margin": null,
      "max_height": null,
      "max_width": null,
      "min_height": null,
      "min_width": null,
      "object_fit": null,
      "object_position": null,
      "order": null,
      "overflow": null,
      "overflow_x": null,
      "overflow_y": null,
      "padding": null,
      "right": null,
      "top": null,
      "visibility": null,
      "width": null
     }
    },
    "128a4dc0352940f68104c247d47c5886": {
     "model_module": "@jupyter-widgets/controls",
     "model_module_version": "1.5.0",
     "model_name": "ProgressStyleModel",
     "state": {
      "_model_module": "@jupyter-widgets/controls",
      "_model_module_version": "1.5.0",
      "_model_name": "ProgressStyleModel",
      "_view_count": null,
      "_view_module": "@jupyter-widgets/base",
      "_view_module_version": "1.2.0",
      "_view_name": "StyleView",
      "bar_color": null,
      "description_width": ""
     }
    },
    "14756a265eed4febae6350a2c2320739": {
     "model_module": "@jupyter-widgets/controls",
     "model_module_version": "1.5.0",
     "model_name": "DescriptionStyleModel",
     "state": {
      "_model_module": "@jupyter-widgets/controls",
      "_model_module_version": "1.5.0",
      "_model_name": "DescriptionStyleModel",
      "_view_count": null,
      "_view_module": "@jupyter-widgets/base",
      "_view_module_version": "1.2.0",
      "_view_name": "StyleView",
      "description_width": ""
     }
    },
    "2517c163b27946c8b8c85625a59e5ef2": {
     "model_module": "@jupyter-widgets/base",
     "model_module_version": "1.2.0",
     "model_name": "LayoutModel",
     "state": {
      "_model_module": "@jupyter-widgets/base",
      "_model_module_version": "1.2.0",
      "_model_name": "LayoutModel",
      "_view_count": null,
      "_view_module": "@jupyter-widgets/base",
      "_view_module_version": "1.2.0",
      "_view_name": "LayoutView",
      "align_content": null,
      "align_items": null,
      "align_self": null,
      "border": null,
      "bottom": null,
      "display": null,
      "flex": null,
      "flex_flow": null,
      "grid_area": null,
      "grid_auto_columns": null,
      "grid_auto_flow": null,
      "grid_auto_rows": null,
      "grid_column": null,
      "grid_gap": null,
      "grid_row": null,
      "grid_template_areas": null,
      "grid_template_columns": null,
      "grid_template_rows": null,
      "height": null,
      "justify_content": null,
      "justify_items": null,
      "left": null,
      "margin": null,
      "max_height": null,
      "max_width": null,
      "min_height": null,
      "min_width": null,
      "object_fit": null,
      "object_position": null,
      "order": null,
      "overflow": null,
      "overflow_x": null,
      "overflow_y": null,
      "padding": null,
      "right": null,
      "top": null,
      "visibility": null,
      "width": null
     }
    },
    "2f9f50447fcc45198b58d3d61bd5bc67": {
     "model_module": "@jupyter-widgets/controls",
     "model_module_version": "1.5.0",
     "model_name": "HTMLModel",
     "state": {
      "_dom_classes": [],
      "_model_module": "@jupyter-widgets/controls",
      "_model_module_version": "1.5.0",
      "_model_name": "HTMLModel",
      "_view_count": null,
      "_view_module": "@jupyter-widgets/controls",
      "_view_module_version": "1.5.0",
      "_view_name": "HTMLView",
      "description": "",
      "description_tooltip": null,
      "layout": "IPY_MODEL_e55d5efde4cf4115b6b556d5d442a607",
      "placeholder": "​",
      "style": "IPY_MODEL_33f259315ee043779ffd34482f624a4a",
      "value": "Epoch 0:  17%"
     }
    },
    "32aef32cdc134814bc78a2c6194ef561": {
     "model_module": "@jupyter-widgets/base",
     "model_module_version": "1.2.0",
     "model_name": "LayoutModel",
     "state": {
      "_model_module": "@jupyter-widgets/base",
      "_model_module_version": "1.2.0",
      "_model_name": "LayoutModel",
      "_view_count": null,
      "_view_module": "@jupyter-widgets/base",
      "_view_module_version": "1.2.0",
      "_view_name": "LayoutView",
      "align_content": null,
      "align_items": null,
      "align_self": null,
      "border": null,
      "bottom": null,
      "display": null,
      "flex": "2",
      "flex_flow": null,
      "grid_area": null,
      "grid_auto_columns": null,
      "grid_auto_flow": null,
      "grid_auto_rows": null,
      "grid_column": null,
      "grid_gap": null,
      "grid_row": null,
      "grid_template_areas": null,
      "grid_template_columns": null,
      "grid_template_rows": null,
      "height": null,
      "justify_content": null,
      "justify_items": null,
      "left": null,
      "margin": null,
      "max_height": null,
      "max_width": null,
      "min_height": null,
      "min_width": null,
      "object_fit": null,
      "object_position": null,
      "order": null,
      "overflow": null,
      "overflow_x": null,
      "overflow_y": null,
      "padding": null,
      "right": null,
      "top": null,
      "visibility": null,
      "width": null
     }
    },
    "33f259315ee043779ffd34482f624a4a": {
     "model_module": "@jupyter-widgets/controls",
     "model_module_version": "1.5.0",
     "model_name": "DescriptionStyleModel",
     "state": {
      "_model_module": "@jupyter-widgets/controls",
      "_model_module_version": "1.5.0",
      "_model_name": "DescriptionStyleModel",
      "_view_count": null,
      "_view_module": "@jupyter-widgets/base",
      "_view_module_version": "1.2.0",
      "_view_name": "StyleView",
      "description_width": ""
     }
    },
    "38325d6be69f47ca83f0cd3f7cdf4afd": {
     "model_module": "@jupyter-widgets/base",
     "model_module_version": "1.2.0",
     "model_name": "LayoutModel",
     "state": {
      "_model_module": "@jupyter-widgets/base",
      "_model_module_version": "1.2.0",
      "_model_name": "LayoutModel",
      "_view_count": null,
      "_view_module": "@jupyter-widgets/base",
      "_view_module_version": "1.2.0",
      "_view_name": "LayoutView",
      "align_content": null,
      "align_items": null,
      "align_self": null,
      "border": null,
      "bottom": null,
      "display": "inline-flex",
      "flex": null,
      "flex_flow": "row wrap",
      "grid_area": null,
      "grid_auto_columns": null,
      "grid_auto_flow": null,
      "grid_auto_rows": null,
      "grid_column": null,
      "grid_gap": null,
      "grid_row": null,
      "grid_template_areas": null,
      "grid_template_columns": null,
      "grid_template_rows": null,
      "height": null,
      "justify_content": null,
      "justify_items": null,
      "left": null,
      "margin": null,
      "max_height": null,
      "max_width": null,
      "min_height": null,
      "min_width": null,
      "object_fit": null,
      "object_position": null,
      "order": null,
      "overflow": null,
      "overflow_x": null,
      "overflow_y": null,
      "padding": null,
      "right": null,
      "top": null,
      "visibility": "hidden",
      "width": "100%"
     }
    },
    "3cb1795204c0417987a6efcb268efa1b": {
     "model_module": "@jupyter-widgets/controls",
     "model_module_version": "1.5.0",
     "model_name": "HTMLModel",
     "state": {
      "_dom_classes": [],
      "_model_module": "@jupyter-widgets/controls",
      "_model_module_version": "1.5.0",
      "_model_name": "HTMLModel",
      "_view_count": null,
      "_view_module": "@jupyter-widgets/controls",
      "_view_module_version": "1.5.0",
      "_view_name": "HTMLView",
      "description": "",
      "description_tooltip": null,
      "layout": "IPY_MODEL_104ec8041d87475ebadcacaee6e9ec22",
      "placeholder": "​",
      "style": "IPY_MODEL_63d59ef8176f47088e526fdb1af33493",
      "value": "Sanity Checking DataLoader 0: 100%"
     }
    },
    "50c14fe7d784418f96ce5fb60a74217b": {
     "model_module": "@jupyter-widgets/base",
     "model_module_version": "1.2.0",
     "model_name": "LayoutModel",
     "state": {
      "_model_module": "@jupyter-widgets/base",
      "_model_module_version": "1.2.0",
      "_model_name": "LayoutModel",
      "_view_count": null,
      "_view_module": "@jupyter-widgets/base",
      "_view_module_version": "1.2.0",
      "_view_name": "LayoutView",
      "align_content": null,
      "align_items": null,
      "align_self": null,
      "border": null,
      "bottom": null,
      "display": "inline-flex",
      "flex": null,
      "flex_flow": "row wrap",
      "grid_area": null,
      "grid_auto_columns": null,
      "grid_auto_flow": null,
      "grid_auto_rows": null,
      "grid_column": null,
      "grid_gap": null,
      "grid_row": null,
      "grid_template_areas": null,
      "grid_template_columns": null,
      "grid_template_rows": null,
      "height": null,
      "justify_content": null,
      "justify_items": null,
      "left": null,
      "margin": null,
      "max_height": null,
      "max_width": null,
      "min_height": null,
      "min_width": null,
      "object_fit": null,
      "object_position": null,
      "order": null,
      "overflow": null,
      "overflow_x": null,
      "overflow_y": null,
      "padding": null,
      "right": null,
      "top": null,
      "visibility": null,
      "width": "100%"
     }
    },
    "63d59ef8176f47088e526fdb1af33493": {
     "model_module": "@jupyter-widgets/controls",
     "model_module_version": "1.5.0",
     "model_name": "DescriptionStyleModel",
     "state": {
      "_model_module": "@jupyter-widgets/controls",
      "_model_module_version": "1.5.0",
      "_model_name": "DescriptionStyleModel",
      "_view_count": null,
      "_view_module": "@jupyter-widgets/base",
      "_view_module_version": "1.2.0",
      "_view_name": "StyleView",
      "description_width": ""
     }
    },
    "89d19346520b46768c9845c5cdfb65c1": {
     "model_module": "@jupyter-widgets/controls",
     "model_module_version": "1.5.0",
     "model_name": "HTMLModel",
     "state": {
      "_dom_classes": [],
      "_model_module": "@jupyter-widgets/controls",
      "_model_module_version": "1.5.0",
      "_model_name": "HTMLModel",
      "_view_count": null,
      "_view_module": "@jupyter-widgets/controls",
      "_view_module_version": "1.5.0",
      "_view_name": "HTMLView",
      "description": "",
      "description_tooltip": null,
      "layout": "IPY_MODEL_2517c163b27946c8b8c85625a59e5ef2",
      "placeholder": "​",
      "style": "IPY_MODEL_d5a751df3f2c4e348401cbca17e6b983",
      "value": " 20/119 [02:42&lt;13:26,  0.12it/s, v_num=2, train_loss_step=2.090, train_acc_step=0.146, train_precision_step=0.0452, train_recall_step=0.156, train_f1_step=0.0701]"
     }
    },
    "97640a845d764bba82c1468bb081e36d": {
     "model_module": "@jupyter-widgets/controls",
     "model_module_version": "1.5.0",
     "model_name": "HBoxModel",
     "state": {
      "_dom_classes": [],
      "_model_module": "@jupyter-widgets/controls",
      "_model_module_version": "1.5.0",
      "_model_name": "HBoxModel",
      "_view_count": null,
      "_view_module": "@jupyter-widgets/controls",
      "_view_module_version": "1.5.0",
      "_view_name": "HBoxView",
      "box_style": "",
      "children": [
       "IPY_MODEL_3cb1795204c0417987a6efcb268efa1b",
       "IPY_MODEL_008810fe67384b718857b950b9b3ea2b",
       "IPY_MODEL_9adf2387eb4c42fd859629f548ee535c"
      ],
      "layout": "IPY_MODEL_38325d6be69f47ca83f0cd3f7cdf4afd"
     }
    },
    "9adf2387eb4c42fd859629f548ee535c": {
     "model_module": "@jupyter-widgets/controls",
     "model_module_version": "1.5.0",
     "model_name": "HTMLModel",
     "state": {
      "_dom_classes": [],
      "_model_module": "@jupyter-widgets/controls",
      "_model_module_version": "1.5.0",
      "_model_name": "HTMLModel",
      "_view_count": null,
      "_view_module": "@jupyter-widgets/controls",
      "_view_module_version": "1.5.0",
      "_view_name": "HTMLView",
      "description": "",
      "description_tooltip": null,
      "layout": "IPY_MODEL_b5109b922b4d43e6938b58ff67a0aed6",
      "placeholder": "​",
      "style": "IPY_MODEL_14756a265eed4febae6350a2c2320739",
      "value": " 2/2 [00:03&lt;00:00,  0.56it/s]"
     }
    },
    "b5109b922b4d43e6938b58ff67a0aed6": {
     "model_module": "@jupyter-widgets/base",
     "model_module_version": "1.2.0",
     "model_name": "LayoutModel",
     "state": {
      "_model_module": "@jupyter-widgets/base",
      "_model_module_version": "1.2.0",
      "_model_name": "LayoutModel",
      "_view_count": null,
      "_view_module": "@jupyter-widgets/base",
      "_view_module_version": "1.2.0",
      "_view_name": "LayoutView",
      "align_content": null,
      "align_items": null,
      "align_self": null,
      "border": null,
      "bottom": null,
      "display": null,
      "flex": null,
      "flex_flow": null,
      "grid_area": null,
      "grid_auto_columns": null,
      "grid_auto_flow": null,
      "grid_auto_rows": null,
      "grid_column": null,
      "grid_gap": null,
      "grid_row": null,
      "grid_template_areas": null,
      "grid_template_columns": null,
      "grid_template_rows": null,
      "height": null,
      "justify_content": null,
      "justify_items": null,
      "left": null,
      "margin": null,
      "max_height": null,
      "max_width": null,
      "min_height": null,
      "min_width": null,
      "object_fit": null,
      "object_position": null,
      "order": null,
      "overflow": null,
      "overflow_x": null,
      "overflow_y": null,
      "padding": null,
      "right": null,
      "top": null,
      "visibility": null,
      "width": null
     }
    },
    "d4f8e67685d94c0f889070782e7b39e3": {
     "model_module": "@jupyter-widgets/controls",
     "model_module_version": "1.5.0",
     "model_name": "ProgressStyleModel",
     "state": {
      "_model_module": "@jupyter-widgets/controls",
      "_model_module_version": "1.5.0",
      "_model_name": "ProgressStyleModel",
      "_view_count": null,
      "_view_module": "@jupyter-widgets/base",
      "_view_module_version": "1.2.0",
      "_view_name": "StyleView",
      "bar_color": null,
      "description_width": ""
     }
    },
    "d5a751df3f2c4e348401cbca17e6b983": {
     "model_module": "@jupyter-widgets/controls",
     "model_module_version": "1.5.0",
     "model_name": "DescriptionStyleModel",
     "state": {
      "_model_module": "@jupyter-widgets/controls",
      "_model_module_version": "1.5.0",
      "_model_name": "DescriptionStyleModel",
      "_view_count": null,
      "_view_module": "@jupyter-widgets/base",
      "_view_module_version": "1.2.0",
      "_view_name": "StyleView",
      "description_width": ""
     }
    },
    "e180a82015e74aa899194fc051c4e435": {
     "model_module": "@jupyter-widgets/controls",
     "model_module_version": "1.5.0",
     "model_name": "HBoxModel",
     "state": {
      "_dom_classes": [],
      "_model_module": "@jupyter-widgets/controls",
      "_model_module_version": "1.5.0",
      "_model_name": "HBoxModel",
      "_view_count": null,
      "_view_module": "@jupyter-widgets/controls",
      "_view_module_version": "1.5.0",
      "_view_name": "HBoxView",
      "box_style": "",
      "children": [
       "IPY_MODEL_2f9f50447fcc45198b58d3d61bd5bc67",
       "IPY_MODEL_00b4655e4caa419d9a35cddb4e4ced88",
       "IPY_MODEL_89d19346520b46768c9845c5cdfb65c1"
      ],
      "layout": "IPY_MODEL_50c14fe7d784418f96ce5fb60a74217b"
     }
    },
    "e55d5efde4cf4115b6b556d5d442a607": {
     "model_module": "@jupyter-widgets/base",
     "model_module_version": "1.2.0",
     "model_name": "LayoutModel",
     "state": {
      "_model_module": "@jupyter-widgets/base",
      "_model_module_version": "1.2.0",
      "_model_name": "LayoutModel",
      "_view_count": null,
      "_view_module": "@jupyter-widgets/base",
      "_view_module_version": "1.2.0",
      "_view_name": "LayoutView",
      "align_content": null,
      "align_items": null,
      "align_self": null,
      "border": null,
      "bottom": null,
      "display": null,
      "flex": null,
      "flex_flow": null,
      "grid_area": null,
      "grid_auto_columns": null,
      "grid_auto_flow": null,
      "grid_auto_rows": null,
      "grid_column": null,
      "grid_gap": null,
      "grid_row": null,
      "grid_template_areas": null,
      "grid_template_columns": null,
      "grid_template_rows": null,
      "height": null,
      "justify_content": null,
      "justify_items": null,
      "left": null,
      "margin": null,
      "max_height": null,
      "max_width": null,
      "min_height": null,
      "min_width": null,
      "object_fit": null,
      "object_position": null,
      "order": null,
      "overflow": null,
      "overflow_x": null,
      "overflow_y": null,
      "padding": null,
      "right": null,
      "top": null,
      "visibility": null,
      "width": null
     }
    },
    "f4d20a1fceb24bc0ac7d4f4d3eb7b950": {
     "model_module": "@jupyter-widgets/base",
     "model_module_version": "1.2.0",
     "model_name": "LayoutModel",
     "state": {
      "_model_module": "@jupyter-widgets/base",
      "_model_module_version": "1.2.0",
      "_model_name": "LayoutModel",
      "_view_count": null,
      "_view_module": "@jupyter-widgets/base",
      "_view_module_version": "1.2.0",
      "_view_name": "LayoutView",
      "align_content": null,
      "align_items": null,
      "align_self": null,
      "border": null,
      "bottom": null,
      "display": null,
      "flex": "2",
      "flex_flow": null,
      "grid_area": null,
      "grid_auto_columns": null,
      "grid_auto_flow": null,
      "grid_auto_rows": null,
      "grid_column": null,
      "grid_gap": null,
      "grid_row": null,
      "grid_template_areas": null,
      "grid_template_columns": null,
      "grid_template_rows": null,
      "height": null,
      "justify_content": null,
      "justify_items": null,
      "left": null,
      "margin": null,
      "max_height": null,
      "max_width": null,
      "min_height": null,
      "min_width": null,
      "object_fit": null,
      "object_position": null,
      "order": null,
      "overflow": null,
      "overflow_x": null,
      "overflow_y": null,
      "padding": null,
      "right": null,
      "top": null,
      "visibility": null,
      "width": null
     }
    }
   }
  }
 },
 "nbformat": 4,
 "nbformat_minor": 4
}
