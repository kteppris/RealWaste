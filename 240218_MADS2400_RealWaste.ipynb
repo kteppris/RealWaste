{
  "nbformat": 4,
  "nbformat_minor": 0,
  "metadata": {
    "colab": {
      "provenance": [],
      "toc_visible": true,
      "include_colab_link": true
    },
    "kernelspec": {
      "name": "python3",
      "display_name": "Python 3"
    },
    "language_info": {
      "name": "python"
    }
  },
  "cells": [
    {
      "cell_type": "markdown",
      "metadata": {
        "id": "view-in-github",
        "colab_type": "text"
      },
      "source": [
        "<a href=\"https://colab.research.google.com/github/kteppris/RealWaste/blob/main/240218_MADS2400_RealWaste.ipynb\" target=\"_parent\"><img src=\"https://colab.research.google.com/assets/colab-badge.svg\" alt=\"Open In Colab\"/></a>"
      ]
    },
    {
      "cell_type": "markdown",
      "source": [
        "**18.02.2024 (Slhöhns und Flemming):** \\\n",
        "In dieser Datei wollen wir später unser _\"fertiges Notebook\"_ bereitstellen.\n",
        "Darum werden wir hier die Codestücke aus den bestehenden Einzel-Notebooks einfügen.\n",
        "Auch erläuternde Texte werden in diesem Notebook geschrieben.\n",
        "Wir bauen hier nun die grundsätzlich in https://trello.com/c/8Nbjw1bs besprochene Gliederung auf, das Vorgehen soll hierbei am DASC-PM angelehnt sein.\n",
        "\n",
        "Sollte die besprochene Gliederung nun im Projektverlauf nicht mehr praktikabel sein, lasst uns bitte frühzeitig dazu sprechen, bevor wir die Arbeit für die Gliederung verbiegen."
      ],
      "metadata": {
        "id": "iLQOfDczVse5"
      }
    },
    {
      "cell_type": "markdown",
      "source": [
        "# Einleitung"
      ],
      "metadata": {
        "id": "kcXp2tniWV_r"
      }
    },
    {
      "cell_type": "markdown",
      "source": [
        "In der Abfallwirtschaft stellt die Klassifizierung von Deponieabfällen eine entscheidende Herausforderung dar. Unser Projekt ist bestrebt, Modelle des maschinellen Lernens (ML) auf den RealWaste-Datensatz anzuwenden, um die Präzision der Abfallkategorisierung in neun verschiedenen Klassen zu verbessern. Dieses Vorhaben orientiert sich an dem DASC-PM-Rahmen (Data Science Project Management), der einen strukturierten und methodischen Ansatz für unsere Analyse gewährleistet.\n",
        "\n",
        "Wir leiten unsere Motivation aus dem überzeugenden Potenzial von ML ab, traditionelle Abfallklassifizierungstechniken wie Volumenmessung und manuelle Sortierung zu überwinden, indem wir Rechenmodelle nutzen, die komplexe Daten effizient und skalierbar verarbeiten können. Der RealWaste-Datensatz, eine robuste Sammlung von Abfallbildern aus der Whyte's Gully Waste and Resource Recovery Facility, bietet eine vielfältige und reichhaltige Grundlage für unsere Analyse und stellt eine realistische Umgebung für unsere angewandten Methoden dar [vgl. Single et al. (2023)](https://www.mdpi.com/2078-2489/14/12/633).\n",
        "\n",
        "Im Rahmen des DASC-PM, einem Vorgehensmodell für Data Science Projekte, ist unser Vorhaben sorgfältig geplant und umfasst die Datenvorverarbeitung, die Modellentwicklung und die strenge Bewertung anhand etablierter Benchmarks. Wir wollen nicht nur die Wirksamkeit verschiedener ML-Modelle vergleichen, sondern auch die Vorhersagequalität durch die Abstimmung von Hyperparametern verfeinern und damit die Voraussetzungen für einen Beitrag schaffen, der die betrieblichen Abläufe in Abfallentsorgungsanlagen erheblich beeinflussen könnte.\n",
        "\n",
        "Das Projekt startet mit einer umfassenden Untersuchung des RealWaste-Datensatzes, gefolgt von der sorgfältigen Anwendung von ML-Techniken, mit dem letztendlichen Ziel, ein Modell zu entwickeln, das die Klassifizierungsgenauigkeit aktueller Benchmarks von [Single et al. (2023)](https://www.mdpi.com/2078-2489/14/12/633) übertrifft."
      ],
      "metadata": {
        "id": "Ty9VJEglg66x"
      }
    },
    {
      "cell_type": "markdown",
      "source": [],
      "metadata": {
        "id": "kNHYkHa3hEcI"
      }
    },
    {
      "cell_type": "code",
      "source": [],
      "metadata": {
        "id": "fUvQ0H6dg-hA"
      },
      "execution_count": null,
      "outputs": []
    },
    {
      "cell_type": "markdown",
      "source": [
        "## Einführung DASC PM ##\n"
      ],
      "metadata": {
        "id": "HGnpvlFuaQNP"
      }
    },
    {
      "cell_type": "markdown",
      "source": [
        "Das Data Science Project Management Model (DASC-PM) von [Schulz et al. 2022](https://info.nordakademie.de/hubfs/Website%20Relaunch%202022/Forschungsthemen/DASC_PM_v1.1-engl.pdf) ist ein strukturierter Ansatz für das Management von Data-Science-Projekten. Es zielt darauf ab, Projekte von der Idee bis zur Implementierung methodisch und effizient zu leiten, indem es klare Phasen und Schritte vorgibt. Das Modell erkennt die einzigartigen Herausforderungen an, die Data-Science-Projekte darstellen, und bietet einen Rahmen, der sowohl die Flexibilität der explorativen Natur von Datenwissenschaft als auch die Notwendigkeit strukturierter Prozesse im Projektmanagement berücksichtigt.\n",
        "\n"
      ],
      "metadata": {
        "id": "Dv-uF77zjgJ3"
      }
    },
    {
      "cell_type": "markdown",
      "source": [
        "# Projektauftrag"
      ],
      "metadata": {
        "id": "Y2ncnHGcWanF"
      }
    },
    {
      "cell_type": "markdown",
      "source": [
        "## Hintergrund und Problemstellung\n"
      ],
      "metadata": {
        "id": "17ZXyFS6gBuS"
      }
    },
    {
      "cell_type": "markdown",
      "source": [
        "Die Klassifizierung von Müll spielt eine entscheidende Rolle in der heutigen Gesellschaft, da das Bewusstsein für Umweltschutz und nachhaltige Ressourcennutzung stetig wächst. Eine effiziente Müllklassifizierung ermöglicht nicht nur eine wirksame Abfallbewirtschaftung, sondern trägt auch maßgeblich zur Erhaltung der Natur und zur Vermeidung von Umweltverschmutzung bei. Durch die richtige Sortierung und Entsorgung von Abfällen können wertvolle Ressourcen wiederverwendet und recycelt werden, während gleichzeitig die Ausbreitung von Krankheiten und die Belastung der Umwelt reduziert werden können. Angesichts der stetig steigenden Müllmengen und der damit verbundenen Herausforderungen ist eine präzise Klassifizierung und effektive Bewirtschaftung von Müll von größter Bedeutung für eine nachhaltige Zukunft.\n",
        "\n"
      ],
      "metadata": {
        "id": "8abTEbcPgGhD"
      }
    },
    {
      "cell_type": "markdown",
      "source": [
        "## Zielsetzung"
      ],
      "metadata": {
        "id": "9bZwyWO6i6bV"
      }
    },
    {
      "cell_type": "markdown",
      "source": [
        "Wer sind die Stakeholder des Projektes?\n",
        "\n",
        "Wann ist unser Projekt ein Erfolg?"
      ],
      "metadata": {
        "id": "4mYnE5fKi9vT"
      }
    },
    {
      "cell_type": "markdown",
      "source": [
        "## Organisatorische Rahmenbedingungen"
      ],
      "metadata": {
        "id": "GlO6ODH5jA5p"
      }
    },
    {
      "cell_type": "markdown",
      "source": [
        "Ressourcen und Fähigkeiten\n",
        "\n",
        "Risikobewertung\n",
        "\n",
        "Projektplanung"
      ],
      "metadata": {
        "id": "cm20ven3jHaj"
      }
    },
    {
      "cell_type": "markdown",
      "source": [
        "# Datenbereitstellung"
      ],
      "metadata": {
        "id": "ExAwIIBRWdrX"
      }
    },
    {
      "cell_type": "markdown",
      "source": [
        "## Datenerfassung\n",
        "\n"
      ],
      "metadata": {
        "id": "AjXsSyGtlJin"
      }
    },
    {
      "cell_type": "markdown",
      "source": [
        "xxx"
      ],
      "metadata": {
        "id": "lYweXSQKnNV8"
      }
    },
    {
      "cell_type": "markdown",
      "source": [
        "## Datenprüfung\n",
        "\n"
      ],
      "metadata": {
        "id": "xM2UtbZ1lPtJ"
      }
    },
    {
      "cell_type": "markdown",
      "source": [
        "## Datensäuberung\n",
        "\n"
      ],
      "metadata": {
        "id": "xC65sb3flWJZ"
      }
    },
    {
      "cell_type": "markdown",
      "source": [
        "## Datenintegration\n",
        "\n"
      ],
      "metadata": {
        "id": "SNAl7UvClfQd"
      }
    },
    {
      "cell_type": "markdown",
      "source": [
        "## Datentransformation\n"
      ],
      "metadata": {
        "id": "vn6pPsw9ljMT"
      }
    },
    {
      "cell_type": "markdown",
      "source": [
        "## Dokumentation für die Schritte bei der Datenbereitstellung"
      ],
      "metadata": {
        "id": "z-x9domllnz2"
      }
    },
    {
      "cell_type": "markdown",
      "source": [
        "## Explorative Datenanalyse"
      ],
      "metadata": {
        "id": "IYm0uo9FmMRa"
      }
    },
    {
      "cell_type": "markdown",
      "source": [
        "# Analyse"
      ],
      "metadata": {
        "id": "dppK8jWKWfiV"
      }
    },
    {
      "cell_type": "code",
      "source": [],
      "metadata": {
        "id": "Jpp3SmvDWuK6"
      },
      "execution_count": null,
      "outputs": []
    },
    {
      "cell_type": "markdown",
      "source": [
        "# Nutzbarmachung"
      ],
      "metadata": {
        "id": "5RwurmPxWiAx"
      }
    },
    {
      "cell_type": "code",
      "source": [],
      "metadata": {
        "id": "UPZgeC3yWnJo"
      },
      "execution_count": null,
      "outputs": []
    },
    {
      "cell_type": "markdown",
      "source": [
        "# Nutzung"
      ],
      "metadata": {
        "id": "CVbBtM2LWo3W"
      }
    },
    {
      "cell_type": "code",
      "source": [],
      "metadata": {
        "id": "o7CM3yboWtHg"
      },
      "execution_count": null,
      "outputs": []
    }
  ]
}