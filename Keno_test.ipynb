{
 "cells": [
  {
   "cell_type": "markdown",
   "metadata": {},
   "source": [
    "# ETL"
   ]
  },
  {
   "cell_type": "markdown",
   "metadata": {},
   "source": [
    "## Extract"
   ]
  },
  {
   "cell_type": "markdown",
   "metadata": {},
   "source": [
    "Zuerst wollen wir die Daten herunterladen. Hier ist zu beachten, dass dieser Datensatz Linzensiert ist, weshabl er hier auch nicht direkt mit aufgenommen wurde. Der Datensatz kann einerseits [von IEEE](https://ieee-dataport.org/documents/realwaste#files) heruntergeladen werden, dafür wird jedoch ein IEEE Account benötigt. Alternativ kann er auch mit der folgenden Zelle von GitHub heruntergeladen werden. "
   ]
  },
  {
   "cell_type": "code",
   "execution_count": 1,
   "metadata": {},
   "outputs": [
    {
     "name": "stdout",
     "output_type": "stream",
     "text": [
      "Cloning into 'realwaste'...\n",
      "remote: Enumerating objects: 4779, done.\u001b[K\n",
      "remote: Counting objects: 100% (15/15), done.\u001b[K\n",
      "remote: Compressing objects: 100% (10/10), done.\u001b[K\n",
      "remote: Total 4779 (delta 3), reused 8 (delta 1), pack-reused 4764\u001b[K\n",
      "Receiving objects: 100% (4779/4779), 655.91 MiB | 10.21 MiB/s, done.\n",
      "Resolving deltas: 100% (3/3), done.\n",
      "Updating files: 100% (4753/4753), done.\n"
     ]
    }
   ],
   "source": [
    "# Download the files from GitHub\n",
    "# This dataset is licensed under a Creative Commons Attribution 4.0 International (CC BY 4.0) license.\n",
    "!git clone https://github.com/sam-single/realwaste.git\n",
    "\n"
   ]
  },
  {
   "cell_type": "code",
   "execution_count": null,
   "metadata": {},
   "outputs": [],
   "source": [
    "import os\n",
    "\n",
    "# get path of current file\n"
   ]
  }
 ],
 "metadata": {
  "kernelspec": {
   "display_name": "Python 3",
   "language": "python",
   "name": "python3"
  },
  "language_info": {
   "codemirror_mode": {
    "name": "ipython",
    "version": 3
   },
   "file_extension": ".py",
   "mimetype": "text/x-python",
   "name": "python",
   "nbconvert_exporter": "python",
   "pygments_lexer": "ipython3",
   "version": "3.10.12"
  }
 },
 "nbformat": 4,
 "nbformat_minor": 2
}
