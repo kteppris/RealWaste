{
 "cells": [
  {
   "cell_type": "code",
   "execution_count": null,
   "id": "d0debc12-d75c-4735-9147-55f7a05c4823",
   "metadata": {
    "tags": []
   },
   "outputs": [],
   "source": [
    "import os\n",
    "import sys\n",
    "import shutil\n",
    "\n",
    "# Function to check if running in Google Colab\n",
    "def in_colab():\n",
    "    return 'google.colab' in sys.modules\n",
    "\n",
    "# Define the base path for the dataset\n",
    "if in_colab():\n",
    "    # Mount Google Drive\n",
    "    from google.colab import drive\n",
    "    drive.mount('/content/drive')\n",
    "    \n",
    "    # Assuming the dataset is in \"drive/My Drive/RealWaste\" in Google Drive\n",
    "    dataset_path = '/content/drive/My Drive/RealWaste'\n",
    "else:\n",
    "    # Path in your local container\n",
    "    dataset_path = input(\"Give the path, where the datafolder should be placed:\\n\")\n",
    "\n",
    "# Ensure the dataset directory exists (specifically for local container, as Colab will have it in Drive)\n",
    "if not in_colab():\n",
    "    os.makedirs(dataset_path, exist_ok=True)  # Create the directory if it doesn't exist\n",
    "\n",
    "# Clone the repository only if the dataset does not already exist\n",
    "if not os.listdir(dataset_path):  # Checks if the dataset directory is empty\n",
    "    !git clone https://github.com/sam-single/realwaste.git {dataset_path}\n",
    "    # Remove unnecessary files and directories\n",
    "    readme_path = os.path.join(dataset_path, 'README.md')\n",
    "    if os.path.exists(readme_path):\n",
    "        os.remove(readme_path)\n",
    "    realwaste_dir = os.path.join(dataset_path, 'RealWaste')\n",
    "    if os.path.isdir(realwaste_dir):\n",
    "        !mv {realwaste_dir}/* {dataset_path}\n",
    "        shutil.rmtree(realwaste_dir)  # Remove the now-empty RealWaste directory\n",
    "    git_dir = os.path.join(dataset_path, '.git')\n",
    "    if os.path.isdir(git_dir):\n",
    "        shutil.rmtree(git_dir)  # Remove the .git directory\n",
    "    \n",
    "\n",
    "print(\"Dataset Path: \", dataset_path)\n"
   ]
  },
  {
   "cell_type": "code",
   "execution_count": 2,
   "id": "b81ecd8f-ccd4-4976-ab85-bdcf353f6a83",
   "metadata": {
    "tags": []
   },
   "outputs": [],
   "source": [
    "dataset_path = \"~/work/Sonstiges/Module/Machine_Learning/RealWaste/data\""
   ]
  },
  {
   "cell_type": "code",
   "execution_count": 3,
   "id": "76431112-261a-43fe-a52e-e3e646140fe3",
   "metadata": {
    "tags": []
   },
   "outputs": [],
   "source": [
    "import pytorch_lightning as pl\n",
    "import torch\n",
    "import torchmetrics\n",
    "from torchvision.models import inception_v3\n",
    "import torchvision.utils as vutils\n",
    "import random\n",
    "\n",
    "class WasteClassifier(pl.LightningModule):\n",
    "    def __init__(self, num_classes=9):\n",
    "        super().__init__()\n",
    "        self.model = inception_v3(pretrained=True, aux_logits=True)\n",
    "        self.model.fc = torch.nn.Linear(self.model.fc.in_features, num_classes)\n",
    "        \n",
    "        # Initialize metrics\n",
    "        self.accuracy = torchmetrics.Accuracy(task='multiclass', num_classes=num_classes, average='macro')\n",
    "        self.precision = torchmetrics.Precision(task='multiclass', num_classes=num_classes, average='weighted')\n",
    "        self.recall = torchmetrics.Recall(task='multiclass', num_classes=num_classes, average='weighted')\n",
    "\n",
    "    def forward(self, x):\n",
    "        # In train mode, Inception V3 returns an InceptionOutputs object with .logits and .aux_logits\n",
    "        if self.training:\n",
    "            outputs = self.model(x)\n",
    "            return outputs\n",
    "        else:\n",
    "            # During evaluation, directly return the output tensor\n",
    "            return self.model(x)\n",
    "\n",
    "    def training_step(self, batch, batch_idx):\n",
    "        x, y = batch\n",
    "        outputs = self(x)\n",
    "        if self.training:\n",
    "            logits = outputs.logits\n",
    "            aux_logits = outputs.aux_logits\n",
    "            loss1 = torch.nn.functional.cross_entropy(logits, y)\n",
    "            loss2 = torch.nn.functional.cross_entropy(aux_logits, y)\n",
    "            loss = loss1 + 0.4 * loss2  # Combine main loss and auxiliary loss\n",
    "        else:\n",
    "            logits = outputs\n",
    "            loss = torch.nn.functional.cross_entropy(logits, y)\n",
    "        acc = self.accuracy(torch.argmax(logits, dim=1), y)\n",
    "        self.log('train_loss', loss, on_step=True, on_epoch=True, prog_bar=True, logger=True)\n",
    "        self.log('train_acc', acc, on_step=True, on_epoch=True, prog_bar=True, logger=True)\n",
    "        return loss\n",
    "\n",
    "    def validation_step(self, batch, batch_idx):\n",
    "        x, y = batch\n",
    "        logits = self(x)  # Assuming this is adjusted per previous discussions\n",
    "        loss = torch.nn.functional.cross_entropy(logits, y)\n",
    "        acc = self.accuracy(torch.argmax(logits, dim=1), y)\n",
    "        self.log('val_loss', loss, prog_bar=True)\n",
    "        self.log('val_acc', acc, prog_bar=True)\n",
    "\n",
    "        # Decide randomly whether to log images (e.g., 10% chance)\n",
    "        if random.random() < 0.1:\n",
    "            # Select a random image from the batch\n",
    "            idx = random.randint(0, x.size(0) - 1)\n",
    "            img = x[idx]  # Get the image tensor\n",
    "            img_grid = vutils.make_grid(img, normalize=True)\n",
    "\n",
    "            # Log the image\n",
    "            self.logger.experiment.add_image('random_val_images', img_grid, self.current_epoch)\n",
    "\n",
    "    def configure_optimizers(self):\n",
    "        optimizer = torch.optim.SGD(self.parameters(), lr=0.001, momentum=0.9)\n",
    "        return optimizer\n"
   ]
  },
  {
   "cell_type": "code",
   "execution_count": 4,
   "id": "aa534fc0-c462-439b-b1c2-57f649a60513",
   "metadata": {
    "tags": []
   },
   "outputs": [],
   "source": [
    "from torchvision import transforms\n",
    "from torchvision.datasets import ImageFolder\n",
    "from torch.utils.data import DataLoader, random_split\n",
    "\n",
    "class RealWasteDataModule(pl.LightningDataModule):\n",
    "    def __init__(self, data_dir: str = './', batch_size: int = 32):\n",
    "        super().__init__()\n",
    "        self.data_dir = data_dir\n",
    "        self.batch_size = batch_size\n",
    "        self.transform = transforms.Compose([\n",
    "            transforms.Resize((299, 299)),\n",
    "            transforms.ToTensor(),\n",
    "            transforms.Normalize(mean=[0.485, 0.456, 0.406], std=[0.229, 0.224, 0.225]),\n",
    "        ])\n",
    "\n",
    "    def setup(self, stage=None):\n",
    "        # Split dataset into train and validation sets\n",
    "        full_dataset = ImageFolder(root=self.data_dir, transform=self.transform)\n",
    "        train_size = int(0.8 * len(full_dataset))\n",
    "        val_size = len(full_dataset) - train_size\n",
    "        self.train_dataset, self.val_dataset = random_split(full_dataset, [train_size, val_size])\n",
    "\n",
    "    def train_dataloader(self):\n",
    "        return DataLoader(self.train_dataset, batch_size=self.batch_size, shuffle=True)\n",
    "\n",
    "    def val_dataloader(self):\n",
    "        return DataLoader(self.val_dataset, batch_size=self.batch_size)\n"
   ]
  },
  {
   "cell_type": "code",
   "execution_count": 5,
   "id": "37e8f3fa-6ba6-4346-b96c-c09defe51a6c",
   "metadata": {
    "tags": []
   },
   "outputs": [],
   "source": [
    "log_dir = \"/home/jovyan/logs\""
   ]
  },
  {
   "cell_type": "code",
   "execution_count": 6,
   "id": "ea53aed6-349a-40b4-a7ce-660c67ceef45",
   "metadata": {
    "tags": []
   },
   "outputs": [
    {
     "name": "stderr",
     "output_type": "stream",
     "text": [
      "/opt/conda/lib/python3.10/site-packages/torchvision/models/_utils.py:208: UserWarning: The parameter 'pretrained' is deprecated since 0.13 and may be removed in the future, please use 'weights' instead.\n",
      "  warnings.warn(\n",
      "/opt/conda/lib/python3.10/site-packages/torchvision/models/_utils.py:223: UserWarning: Arguments other than a weight enum or `None` for 'weights' are deprecated since 0.13 and may be removed in the future. The current behavior is equivalent to passing `weights=Inception_V3_Weights.IMAGENET1K_V1`. You can also use `weights=Inception_V3_Weights.DEFAULT` to get the most up-to-date weights.\n",
      "  warnings.warn(msg)\n",
      "GPU available: True (cuda), used: True\n",
      "TPU available: False, using: 0 TPU cores\n",
      "IPU available: False, using: 0 IPUs\n",
      "HPU available: False, using: 0 HPUs\n",
      "You are using a CUDA device ('NVIDIA RTX A6000') that has Tensor Cores. To properly utilize them, you should set `torch.set_float32_matmul_precision('medium' | 'high')` which will trade-off precision for performance. For more details, read https://pytorch.org/docs/stable/generated/torch.set_float32_matmul_precision.html#torch.set_float32_matmul_precision\n",
      "2024-02-11 23:11:54.808296: I tensorflow/core/platform/cpu_feature_guard.cc:193] This TensorFlow binary is optimized with oneAPI Deep Neural Network Library (oneDNN) to use the following CPU instructions in performance-critical operations:  AVX2 FMA\n",
      "To enable them in other operations, rebuild TensorFlow with the appropriate compiler flags.\n",
      "2024-02-11 23:11:54.917147: E tensorflow/stream_executor/cuda/cuda_blas.cc:2981] Unable to register cuBLAS factory: Attempting to register factory for plugin cuBLAS when one has already been registered\n",
      "2024-02-11 23:11:55.302472: W tensorflow/stream_executor/platform/default/dso_loader.cc:64] Could not load dynamic library 'libnvinfer.so.7'; dlerror: libnvinfer.so.7: cannot open shared object file: No such file or directory; LD_LIBRARY_PATH: /usr/local/nvidia/lib:/usr/local/nvidia/lib64\n",
      "2024-02-11 23:11:55.302532: W tensorflow/stream_executor/platform/default/dso_loader.cc:64] Could not load dynamic library 'libnvinfer_plugin.so.7'; dlerror: libnvinfer_plugin.so.7: cannot open shared object file: No such file or directory; LD_LIBRARY_PATH: /usr/local/nvidia/lib:/usr/local/nvidia/lib64\n",
      "2024-02-11 23:11:55.302538: W tensorflow/compiler/tf2tensorrt/utils/py_utils.cc:38] TF-TRT Warning: Cannot dlopen some TensorRT libraries. If you would like to use Nvidia GPU with TensorRT, please make sure the missing libraries mentioned above are installed properly.\n",
      "LOCAL_RANK: 0 - CUDA_VISIBLE_DEVICES: [0]\n",
      "\n",
      "  | Name      | Type                | Params\n",
      "--------------------------------------------------\n",
      "0 | model     | Inception3          | 25.1 M\n",
      "1 | accuracy  | MulticlassAccuracy  | 0     \n",
      "2 | precision | MulticlassPrecision | 0     \n",
      "3 | recall    | MulticlassRecall    | 0     \n",
      "--------------------------------------------------\n",
      "25.1 M    Trainable params\n",
      "0         Non-trainable params\n",
      "25.1 M    Total params\n",
      "100.523   Total estimated model params size (MB)\n"
     ]
    },
    {
     "data": {
      "application/vnd.jupyter.widget-view+json": {
       "model_id": "",
       "version_major": 2,
       "version_minor": 0
      },
      "text/plain": [
       "Sanity Checking: 0it [00:00, ?it/s]"
      ]
     },
     "metadata": {},
     "output_type": "display_data"
    },
    {
     "name": "stderr",
     "output_type": "stream",
     "text": [
      "/opt/conda/lib/python3.10/site-packages/pytorch_lightning/trainer/connectors/data_connector.py:442: PossibleUserWarning: The dataloader, val_dataloader, does not have many workers which may be a bottleneck. Consider increasing the value of the `num_workers` argument` (try 128 which is the number of cpus on this machine) in the `DataLoader` init to improve performance.\n",
      "  rank_zero_warn(\n",
      "/opt/conda/lib/python3.10/site-packages/pytorch_lightning/trainer/connectors/data_connector.py:442: PossibleUserWarning: The dataloader, train_dataloader, does not have many workers which may be a bottleneck. Consider increasing the value of the `num_workers` argument` (try 128 which is the number of cpus on this machine) in the `DataLoader` init to improve performance.\n",
      "  rank_zero_warn(\n"
     ]
    },
    {
     "data": {
      "application/vnd.jupyter.widget-view+json": {
       "model_id": "e22ef91c251c4e08adc432be374e1237",
       "version_major": 2,
       "version_minor": 0
      },
      "text/plain": [
       "Training: 0it [00:00, ?it/s]"
      ]
     },
     "metadata": {},
     "output_type": "display_data"
    },
    {
     "data": {
      "application/vnd.jupyter.widget-view+json": {
       "model_id": "",
       "version_major": 2,
       "version_minor": 0
      },
      "text/plain": [
       "Validation: 0it [00:00, ?it/s]"
      ]
     },
     "metadata": {},
     "output_type": "display_data"
    },
    {
     "name": "stderr",
     "output_type": "stream",
     "text": [
      "`Trainer.fit` stopped: `max_epochs=1` reached.\n"
     ]
    }
   ],
   "source": [
    "from pytorch_lightning import Trainer\n",
    "from pytorch_lightning.loggers import TensorBoardLogger\n",
    "\n",
    "# Set the data directory\n",
    "data_dir = dataset_path \n",
    "data_module = RealWasteDataModule(data_dir=data_dir)\n",
    "\n",
    "# Initialize the model\n",
    "model = WasteClassifier(num_classes=9)\n",
    "\n",
    "# Initialize the TensorBoard logger\n",
    "logger = TensorBoardLogger(log_dir, name=\"inception_v3\")\n",
    "\n",
    "# Train the model\n",
    "trainer = Trainer(max_epochs=1, logger=logger)\n",
    "trainer.fit(model, datamodule=data_module)\n"
   ]
  }
 ],
 "metadata": {
  "kernelspec": {
   "display_name": "Python 3 (ipykernel)",
   "language": "python",
   "name": "python3"
  },
  "language_info": {
   "codemirror_mode": {
    "name": "ipython",
    "version": 3
   },
   "file_extension": ".py",
   "mimetype": "text/x-python",
   "name": "python",
   "nbconvert_exporter": "python",
   "pygments_lexer": "ipython3",
   "version": "3.10.10"
  }
 },
 "nbformat": 4,
 "nbformat_minor": 5
}
