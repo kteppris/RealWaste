{
  "cells": [
    {
      "cell_type": "markdown",
      "metadata": {
        "id": "view-in-github",
        "colab_type": "text"
      },
      "source": [
        "<a href=\"https://colab.research.google.com/github/kteppris/RealWaste/blob/main/1_Hauptnotebook.ipynb\" target=\"_parent\"><img src=\"https://colab.research.google.com/assets/colab-badge.svg\" alt=\"Open In Colab\"/></a>"
      ]
    },
    {
      "cell_type": "markdown",
      "metadata": {
        "id": "kcXp2tniWV_r"
      },
      "source": [
        "# Einleitung"
      ]
    },
    {
      "cell_type": "markdown",
      "metadata": {
        "id": "1-jxqjL6oeQA"
      },
      "source": [
        "***\n",
        "$$\n",
        "⟹ \\text{Domänenverständnis}\n",
        "$$\n",
        "\n",
        "**Diese Inhalte sollten im Kapitel 'Einleitung' verfasst werden** \\\n",
        "* Einleitung soll als _Abstract_ fungieren und den Leser abholen in Bezug auf folgende Punkte:\n",
        "  * Kurzvorstellung DASC-PM\n",
        "  * Kurzvorstellung des Projekts (Ziel und Vorgehen mit Rückbezug auf DASC-PM --> vgl. Projektsteckbrief)\n",
        "  * Bezug auf die Aufgabenstellung zu dieser HA nehmen (Data Wrangling etc. in Zusammenhang mit unserer Gliederung und dem DASC-PM bringen)\n",
        "\n",
        "***"
      ]
    },
    {
      "cell_type": "markdown",
      "metadata": {
        "id": "Ty9VJEglg66x"
      },
      "source": [
        "Die Klassifizierung von Deponieabfällen ist ein zentrales Thema in der Abfallwirtschaft, das zahlreiche Herausforderungen mit sich bringt. Vor diesem Hintergrund widmet sich die vorliegende Arbeit der Anwendung verschiedener Machine-Learning-Modelle zur Klassifizierung von Mülldeponieabfällen.\n",
        "\n",
        "Eine strukturierte Vorgehensweise ist für die erfolgreiche Durchführung von Data-Science-Projekten unerlässlich. Das Data Science Project Management Model (DASC-PM) von [Schulz et al. 2022](https://info.nordakademie.de/hubfs/Website%20Relaunch%202022/Forschungsthemen/DASC_PM_v1.1-engl.pdf) bietet einen solchen strukturierten Ansatz und dient als Leitfaden für das Management von Data-Science-Projekten. Es gliedert Projekte in klare Phasen und Schritte, von der Ideenfindung bis zur Implementierung.\n",
        "\n",
        "Die Phasen des DASC-PM umfassen den Projektauftrag, die Datenbereitstellung, die Analyse, die Nutzbarmachung und die Nutzung der Artefakte. Jede Phase ist wichtig für den Erfolg des Projekts und erfordert eine sorgfältige Planung und Durchführung. Die nachfolgende Arbeit orientiert sich an diesen Projektphasen und strukturiert ihre Gliederung entsprechend. Diese strukturierte Vorgehensweise trägt hinzukommend dazu bei, die Aspekte \"Domainverständnis\", \"Datenvorverarbeitung\", \"Analyse\" und \"Visualisierung\" an geeigneten Stellen einzubeziehen."
      ]
    },
    {
      "cell_type": "markdown",
      "metadata": {
        "id": "Y2ncnHGcWanF"
      },
      "source": [
        "# Projektauftrag"
      ]
    },
    {
      "cell_type": "markdown",
      "source": [
        "Die erste Phase eines Projektes im Sinne des DASC-PM von [Schulz et al. 2022](https://info.nordakademie.de/hubfs/Website%20Relaunch%202022/Forschungsthemen/DASC_PM_v1.1-engl.pdf) stellt der Projektauftrag dar. Dieser ist der Auslöser eines Data-Science-Projekts. Er definiert eine Problemstellung innerhalb einer Domäne, welche das Projektziel sowie den fachlichen Zweck der zu erarbeitenden Lösung beschreibt."
      ],
      "metadata": {
        "id": "TcYLE8x37u8l"
      }
    },
    {
      "cell_type": "markdown",
      "metadata": {
        "id": "rAHJD_pyugbo"
      },
      "source": [
        "***\n",
        "$$\n",
        "⟶ \\text{Domänenverständnis}\n",
        "$$\n",
        "Diese Inhalte sollten im Kapitel 'Projektauftrag' verfasst werden\n",
        "***\n",
        "\n"
      ]
    },
    {
      "cell_type": "markdown",
      "metadata": {
        "id": "17ZXyFS6gBuS"
      },
      "source": [
        "## Hintergrund und Problemstellung\n"
      ]
    },
    {
      "cell_type": "markdown",
      "metadata": {
        "id": "8abTEbcPgGhD"
      },
      "source": [
        "Die Klassifizierung von Müll spielt eine entscheidende Rolle in der heutigen Gesellschaft, da das Bewusstsein für Umweltschutz und nachhaltige Ressourcennutzung stetig wächst. Eine effiziente Müllklassifizierung ermöglicht nicht nur eine wirksame Abfallbewirtschaftung, sondern trägt auch maßgeblich zur Erhaltung der Natur und zur Vermeidung von Umweltverschmutzung bei. Durch die richtige Sortierung und Entsorgung von Abfällen können wertvolle Ressourcen wiederverwendet und recycelt werden, während gleichzeitig die Ausbreitung von Krankheiten und die Belastung der Umwelt reduziert werden können.  \n",
        "\n",
        "Angesichts der stetig steigenden Müllmengen und der damit verbundenen Herausforderungen ist eine präzise Klassifizierung und effektive Bewirtschaftung von Müll von größter Bedeutung für eine nachhaltige Zukunft.  \n",
        "\n"
      ]
    },
    {
      "cell_type": "markdown",
      "metadata": {
        "id": "9bZwyWO6i6bV"
      },
      "source": [
        "## Zielsetzung"
      ]
    },
    {
      "cell_type": "markdown",
      "metadata": {
        "id": "4mYnE5fKi9vT"
      },
      "source": [
        "### Stakeholder\n",
        "\n",
        "Bei der Durchführung des Projektes zur Entwicklung eines präzisen Müllklassifizierungsmodells sind mehrere potenzielle Stakeholder zu identifizieren, die ein Interesse an den Ergebnissen und Erkenntnissen des Projektes haben könnten. Die Stakeholder dieses Projektes umfassen neben dem Dozenten und den Kommilitonen verschiedene Interessengruppen.  \n",
        "\n",
        "Zu den wichtigsten Stakeholdern gehören zunächst diverse **industrielle Partner**, wie beispielsweise Mülldeponiebetreiber oder Hersteller von Müllsortieranlagen. Diese könnten direkte wirtschaftliche Interessen an effizienteren Müllklassifizierungstechnologien haben sowie potenzielle Partner für die Implementierung sein. Des Weiteren sind **Regierungsbehörden** als potenzielle Stakeholder zu betrachten, insbesondere lokale oder nationale Umweltbehörden. Diese könnten ein Interesse daran haben, die Abfallwirtschaft zu verbessern und Umweltauswirkungen zu reduzieren, und könnten die Ergebnisse des Projektes nutzen, um politische Entscheidungen und Maßnahmen zu informieren. **Umweltschutzorganisationen** stellen eine weitere wichtige Stakeholder-Gruppe dar. Diese Organisationen setzen sich für Umweltschutz und Nachhaltigkeit ein und könnten von verbesserten Müllklassifizierungstechnologien profitieren, um die Recyclingbemühungen zu unterstützen und die Umweltbelastung zu verringern. Darüber hinaus sind **Endbenutzer** als Stakeholder zu berücksichtigen, darunter Verbraucher von recycelten Produkten und Bewohner von Gemeinden, die von effizienterem Müllmanagement profitieren könnten. **Forschungseinrichtungen** stellen ebenfalls potenzielle Stakeholder dar, insbesondere Institutionen und Labore, die sich mit ähnlichen Themen befassen. Diese Gruppen könnten an den Ergebnissen und Erkenntnissen des Projektes interessiert sein, um ihre eigenen Forschungsarbeiten zu informieren oder zu ergänzen. Schließlich können auch **Lieferanten** von Technologien, Ausrüstung oder Dienstleistungen für die Müllklassifizierung als Stakeholder betrachtet werden, insbesondere wenn sie potenzielle Partner für die Implementierung der entwickelten Lösungen darstellen.  \n",
        "\n",
        "Die Identifizierung und Einbindung dieser Stakeholder-Gruppen kann dazu beitragen, das Projekt zu unterstützen, Ressourcen bereitzustellen, zusätzliche Perspektiven einzubringen und die potenzielle Anwendbarkeit der entwickelten Lösungen zu maximieren.\n",
        "\n",
        "\n"
      ]
    },
    {
      "cell_type": "markdown",
      "source": [
        "### Projekterfolg\n",
        "\n",
        "Der Erfolg dieses Projektes wird anhand mehrerer Kriterien definiert: Zunächst steht die **Vorhersagegenauigkeit** des Modells im Mittelpunkt. Hierbei wird angestrebt, die 89,91%ige Klassifizierungsgenauigkeit des Modells von Single et al. aus dem Jahr 2023 zu erreichen oder sogar zu übertreffen. Zudem wird die Klassifizierungsgenauigkeit traditioneller Methoden wie Volumenmessung, Wiegen oder manuelle Sortierung berücksichtigt, von denen angenommen wird, dass sie etwa 90% erreichen. Daher ist das Ziel, eine Klassifizierungsgenauigkeit von über 90% zu erzielen, zusammen mit ähnlich guten Leistungen bei anderen Metriken. Des Weiteren soll die Robustheit und **Generalisierbarkeit** des Modells werden durch Tests mit neuen, nicht im RealWaste-Datensatz enthaltenen Bildern bewertet werden. Ein erfolgreiches Modell sollte in der Lage sein, Mülldeponieabfälle auch außerhalb des Trainingsdatensatzes korrekt zu klassifizieren. Zusätzlich wird die Effizienz des Modells wird anhand von Kriterien wie **Inferenzzeit und Modellgröße/Komplexität** bewertet. Ein erfolgreiches Modell sollte sowohl schnelle Vorhersagen ermöglichen als auch eine angemessene Modellgröße aufweisen, um Ressourcen zu sparen. Schließlich können **potenzielle Anwendungsfelder** für das beste erarbeitete Modell als Indikator für den Erfolg des Projektes dienen. Wenn das Modell beispielsweise erfolgreich Mülldeponieabfälle klassifizieren kann, könnte es möglicherweise in Müllsortieranlagen oder Recyclingzentren eingesetzt werden, um den Sortierprozess zu automatisieren und zu optimieren.\n",
        "\n"
      ],
      "metadata": {
        "id": "YwDZQuQy7fHF"
      }
    },
    {
      "cell_type": "markdown",
      "source": [
        "### Abgrenzung\n",
        "\n",
        "Die vorliegende Ausarbeitung bezieht sich auf die Arbeit von [Single et al. 2023](https://www.mdpi.com/2078-2489/14/12/633), in welcher die Effektivität verschiedener CNNs zur Klassifizierung des RealWaste-Datensatzes vergleichend untersucht und eine Accuracy von 89.19% für das leistungssärkste Modell (Inception V3) erreicht werden konnte.\n",
        "Im Rahmen dieser Ausarbeitung werden klassische ML-Modelle wie KNN, SVM und Random Forest im Rahmen einer Explorativen Datenanalyse eingesetzt, um einen Proof of Concept für extrahierte Features aus dem Datensatz zu liefern. Darüber hinaus untersuchen wir die Anwendbarkeit dieser Modelle auf außerhalb des RealWaste-Datensatzes gesammelte Bilder, um die Robustheit und Generalisierbarkeit unserer Lösungen zu bewerten. Durch die Integration von vorab trainierten Modellen als Backbones in unsere Architektur streben wir eine verbesserte Klassifikationsgenauigkeit und Effizienz im Vergleich zu vollständig neuen Modellen an. Diese methodische Erweiterung soll es ermöglichen, über die in der Studie von Single et al. erreichte Klassifikationsgenauigkeit hinauszugehen und neue Wege für die Anwendung von Deep Learning in der Abfallklassifizierung in Bezug auf den RealWaste-Datensatz zu eröffnen.\n",
        "\n",
        "Konkrete Abgrenzung:\n",
        "* Wir führen eine ausführliche EDA durch\n",
        "* Wir machen klassische Methoden\n",
        "* Bei uns steht nicht der Vegleich zweier Datensätze im Vordergrund\n",
        "* Wir trainieren zusätzlich zu auf Backbones basierenden DL-Modellen ein eigenes CNN und einen Vision Transformer\n",
        "* Wir haben zusätzlich eigene Testdaten erstellt"
      ],
      "metadata": {
        "id": "YqJWjNL47j5f"
      }
    },
    {
      "cell_type": "markdown",
      "metadata": {
        "id": "GlO6ODH5jA5p"
      },
      "source": [
        "## Organisatorische Rahmenbedingungen"
      ]
    },
    {
      "cell_type": "markdown",
      "metadata": {
        "id": "cm20ven3jHaj"
      },
      "source": [
        "**Ressourcen und Fähigkeiten**\n",
        "\n",
        "In der Durchführung eines wissenschaftlichen Projekts zur Bilderkennung spielt die effektive Zuweisung von Aufgaben und die Nutzung der individuellen Ressourcen und Fähigkeiten jedes Teammitglieds eine entscheidende Rolle für den Erfolg. Die Aufgaben wurden entsprechend der optimalen Nutzung der Kompetenzen und Fachkenntnissen der Teammitglieder verteilt.\n",
        "\n",
        "***Tabelle von Aufgabenverteilung einfügen?***\n",
        "\n",
        "Die klare Verteilung der Aufgaben entsprechend den Fähigkeiten und Ressourcen jedes Teammitglieds ermöglicht eine effiziente Zusammenarbeit und trägt dazu bei, die Ziele des wissenschaftlichen Projekts zur Bilderkennung zu erreichen.\n",
        "\n",
        "\n",
        "**Risikobewertung**\n",
        "\n",
        "xxx\n",
        "\n",
        "**Projektplanung**\n",
        "\n",
        "Für die effiziente Organisation der Arbeit wird **Trello** als Projektplanungsinstrument genutzt. Durch die Verwendung des Trello-Boards können Aufgaben klar zugewiesen, Prioritäten gesetzt und ein strukturierter Zeitplan erstellt werden. Die Anwendung ermöglicht zudem eine allgemeine Übersicht über den Fortschritt des Projekts sowie die deutliche Darstellung von Meilensteinen und externen Abhängigkeiten. Ziel ist es, durch diese Methode der Projektplanung einen reibungslosen Ablauf zu gewährleisten sowie mögliche zeitliche Engpässe frühzeitig zu identifizieren. [Trello 2023](https://trello.com/home)\n",
        "\n",
        "***Screenshot von Trello-Board einfügen?***\n",
        "\n",
        "In diesem Projekt wird **GitHub** als Kollaborationsplattform verwendet, um eine effiziente und transparente Zusammenarbeit zwischen den Projektteilnehmern zu ermöglichen. GitHub bietet eine Reihe von Funktionen, die für die Verwaltung von Code, das Tracking von Änderungen und das gemeinsame Arbeiten an Softwareprojekten unerlässlich sind. Durch die Verwendung von GitHub können die Projektmitglieder gleichzeitig an verschiedenen Teilen des Codes arbeiten, Änderungen verfolgen und kommentieren sowie Feedback austauschen. Darüber hinaus erleichtert GitHub die Integration von Versionskontrolle, was die Verwaltung von Codeänderungen und die Rückverfolgbarkeit von Entwicklungsaktivitäten verbessert. Die Verwendung von GitHub fördert eine kollaborative Arbeitsweise und trägt zur Effizienz und Qualität des Gruppenprojekts bei. [GitHub, Inc 2023](https://docs.github.com/de/get-started/using-git/about-git)"
      ]
    },
    {
      "cell_type": "markdown",
      "metadata": {
        "id": "ExAwIIBRWdrX"
      },
      "source": [
        "# Datenbereitstellung"
      ]
    },
    {
      "cell_type": "markdown",
      "source": [
        "Die zweite Phase eines Projektes im Sinne des DASC-PM von [Schulz et al. 2022](https://info.nordakademie.de/hubfs/Website%20Relaunch%202022/Forschungsthemen/DASC_PM_v1.1-engl.pdf) stellt die Datenbereitstellung dar. Diese beschäftigt sich mit der Auswahl der für die Analyse benötigten Daten aus den Ursprungsdatenquellen sowie ihrer Aufbereitung, ihrem Management und der explorativen Analyse. Das Ergebnis dieser Phase ist eine Datenquelle, welche für die nachfolgende Phase geeignet ist."
      ],
      "metadata": {
        "id": "txK22Zyp8dNR"
      }
    },
    {
      "cell_type": "markdown",
      "metadata": {
        "id": "Ky-l3wUbzhyx"
      },
      "source": [
        "***\n",
        "$$\n",
        "⟹\\text{Data Wrangling}\n",
        "$$\n",
        "***\n",
        "* Datenerfassung und Vorverarbeitung\n",
        "  * Erfassung der Daten\n",
        "  * Prüfung und Säuberung der Daten\n",
        "* Datenintegration und Transformation\n",
        "  * Integration verschiedener Datensätze\n",
        "  * Transformation der Daten für die Analyse\n",
        "* Dokumentation und explorative Datenanalyse\n",
        "  * Dokumentation der Schritte bei der Datenbereitstellung\n",
        "  * Explorative Datenanalyse und Erkundung der Datensätze\n",
        "\n",
        "***"
      ]
    },
    {
      "cell_type": "markdown",
      "metadata": {
        "id": "ZxiDCOzI14pE"
      },
      "source": [
        "* Download der Ordner und Einbinden beschreiben\n",
        "* Bildgrößen Prüfen\n",
        "* Klassenordner prüfen\n",
        "* Anzahl der Bilder prüfen\n",
        "* prüfen, dass die Bilder größer als 0KB sind\n"
      ]
    },
    {
      "cell_type": "markdown",
      "metadata": {
        "id": "1jERcT4-dRkK"
      },
      "source": [
        "## Beschreibung des Datensatzes"
      ]
    },
    {
      "cell_type": "markdown",
      "metadata": {
        "id": "T_uPV9hidjRC"
      },
      "source": [
        "Der RealWaste-Datensatz ist eine umfangreiche Sammlung farbiger Bilder von Abfallmaterial, das an der Annahmestelle der Mülldeponie Whyte's Gully Waste and Resource Recovery Facility in Wollongong NSW, Australien, aufgenommen wurde. Jedes Bild hat eine Auflösung von 524x524 Pixeln und ist mit einem Label versehen, das die Art des Materials und somit die Abfallkategorie identifiziert. Die Anzahl der Bilder pro Kategorie variiert, wobei *Cardboard* 461, *Food Organics* 411, *Glass* 420, *Metal* 790, *Miscellaneous Trash* 495, *Paper* 500, *Plastic* 921, *Textile Trash* 318 und *Vegetation* 436 Bilder umfasst. Es sind keine fehlenden Werte im Datensatz vorhanden [UC Irvine 2023](https://archive.ics.uci.edu/dataset/908/realwaste). Der RealWaste-Datensatz wurde im Rahmen einer Abschlussarbeit erstellt, die das Verhalten von Convolutional Neural Networks untersuchte. Dabei wurde verglichen, wie sich diese Netzwerke bei der Verarbeitung von reinen und unverfälschten Objekten im Vergleich zum Training mit echten Abfallgegenständen auf authentischem Abfallmaterial verhalten [Single et al. 2023](https://www.mdpi.com/2078-2489/14/12/633)."
      ]
    },
    {
      "cell_type": "markdown",
      "metadata": {
        "id": "zCyxayIzrDQE"
      },
      "source": [
        "## Umgebung vorbereiten"
      ]
    },
    {
      "cell_type": "markdown",
      "metadata": {
        "id": "BkhHVozcruE4"
      },
      "source": [
        "- In Colab werden neue Notebooks (unsere subnotebooks) immer in einer neuen Session geöffnet. Das ist ein Problem, da alles in der Session dann weg ist. Lösung, wir speichern alles, sowohl Code und Daten, immer im Drive und immer im gleichem Pfad. Dann öffnen wir die Subnotebooks einfach nacheinander und greifenen immer auf diesen Pfad zu."
      ]
    },
    {
      "cell_type": "code",
      "execution_count": null,
      "metadata": {
        "colab": {
          "base_uri": "https://localhost:8080/"
        },
        "id": "i6uidxHfrDQF",
        "outputId": "1a9e6eae-a4f5-4108-be78-474c1c410a4e"
      },
      "outputs": [
        {
          "name": "stdout",
          "output_type": "stream",
          "text": [
            "Drive already mounted at /content/drive; to attempt to forcibly remount, call drive.mount(\"/content/drive\", force_remount=True).\n",
            "Google Drive wurde eingebunden.\n",
            "Klone das Code Repository nach /content/drive/MyDrive/MADS/RealWaste...\n",
            "Code Repository erfolgreich geklont.\n",
            "Working Directory gewechselt zu: /content/drive/MyDrive/MADS/RealWaste\n",
            "Klone das Daten Repository nach /content/drive/MyDrive/MADS/RealWaste/data...\n",
            "Daten Repository wurde vorbereitet.\n",
            "Installiere benötigte Pakete...\n",
            "Setup abgeschlossen. Datenpfad: /content/drive/MyDrive/MADS/RealWaste/data\n"
          ]
        }
      ],
      "source": [
        "from pathlib import Path\n",
        "import os\n",
        "import sys\n",
        "import shutil\n",
        "import subprocess\n",
        "\n",
        "# Funktion, die prüft, ob dieses Skript in Colab ausgeführt wird\n",
        "def in_colab():\n",
        "    # sys beinhaltet alle bereits geladenen Pakete\n",
        "    return 'google.colab' in sys.modules  # google.colab wird automatisch in Colab vorgeladen, daher Indiz für Colab Environment\n",
        "\n",
        "# Google Drive für permanente Speicherung der Daten und Ergebnisse mounten\n",
        "def mount_google_drive():\n",
        "    if in_colab():\n",
        "        from google.colab import drive\n",
        "        drive.mount('/content/drive')\n",
        "        print(\"Google Drive wurde eingebunden.\")\n",
        "\n",
        "# Unser Code-Repo in Google Drive clonen oder prüfen, ob es bereits existiert\n",
        "def clone_code_repo_to_drive(target_dir):\n",
        "    if not target_dir.exists():\n",
        "        print(f\"Klone das Code Repository nach {target_dir}...\")\n",
        "        result = subprocess.run([\"git\", \"clone\", \"https://github.com/kteppris/RealWaste.git\", str(target_dir)], capture_output=True, text=True)\n",
        "        if result.returncode == 0:\n",
        "            print(\"Code Repository erfolgreich geklont.\")\n",
        "        else:\n",
        "            print(\"Fehler beim Klonen des Code Repositories:\", result.stderr)\n",
        "    else:\n",
        "        print(\"Code Repository existiert bereits.\")\n",
        "    os.chdir(target_dir)  # Wechseln in das Verzeichnis des geklonten Repositories\n",
        "    print(f\"Working Directory gewechselt zu: {Path.cwd()}\")\n",
        "\n",
        "# Daten Repository klonen und aufräumen\n",
        "def clone_and_prepare_data_repo(repo_url, target_dir):\n",
        "    if not target_dir.exists():\n",
        "        print(f\"Klone das Daten Repository nach {target_dir}...\")\n",
        "        subprocess.run([\"git\", \"clone\", repo_url, str(target_dir)])\n",
        "\n",
        "    realwaste_dir = target_dir / 'RealWaste'\n",
        "    if realwaste_dir.exists():\n",
        "        for item in realwaste_dir.iterdir():\n",
        "            shutil.move(str(item), str(target_dir))\n",
        "        shutil.rmtree(realwaste_dir)\n",
        "\n",
        "    git_dir = target_dir / '.git'\n",
        "    readme_file = target_dir / 'README.md'\n",
        "    if git_dir.exists():\n",
        "        shutil.rmtree(git_dir)\n",
        "    if readme_file.exists():\n",
        "        readme_file.unlink()\n",
        "\n",
        "    print(\"Daten Repository wurde vorbereitet.\")\n",
        "    return target_dir\n",
        "\n",
        "# Abhängigkeiten installieren\n",
        "def install_requirements():\n",
        "    print(\"Installiere benötigte Pakete...\")\n",
        "    subprocess.run([\"pip\", \"install\", \"-r\", \"requirements.txt\"])\n",
        "\n",
        "# Setup-Prozess starten\n",
        "data_repo_url = \"https://github.com/sam-single/realwaste.git\"\n",
        "code_repo_path = Path(\"/content/drive/MyDrive/MADS/RealWaste\") if in_colab() else Path.cwd()\n",
        "\n",
        "if in_colab():\n",
        "    mount_google_drive()\n",
        "    clone_code_repo_to_drive(code_repo_path)\n",
        "    data_path = clone_and_prepare_data_repo(data_repo_url, code_repo_path / \"data\")\n",
        "else:\n",
        "    # Lokal sollte der Code bereits vorhanden sein; nur das Daten-Repository wird geklont\n",
        "    data_path = clone_and_prepare_data_repo(data_repo_url, code_repo_path / \"data\")\n",
        "\n",
        "install_requirements()\n",
        "\n",
        "print(f\"Setup abgeschlossen. Datenpfad: {data_path}\")\n"
      ]
    },
    {
      "cell_type": "markdown",
      "metadata": {
        "id": "AjXsSyGtlJin"
      },
      "source": [
        "## Datenerfassung\n",
        "\n"
      ]
    },
    {
      "cell_type": "code",
      "execution_count": null,
      "metadata": {
        "id": "f71_Dkvw2jFf"
      },
      "outputs": [],
      "source": [
        "# Hier soll Code stehen"
      ]
    },
    {
      "cell_type": "markdown",
      "metadata": {
        "id": "xM2UtbZ1lPtJ"
      },
      "source": [
        "## Datenprüfung und -säuberung\n",
        "\n"
      ]
    },
    {
      "cell_type": "code",
      "execution_count": null,
      "metadata": {
        "colab": {
          "base_uri": "https://localhost:8080/"
        },
        "id": "mbFKRaYC2nzW",
        "outputId": "395e4469-7f0e-4e0a-d399-114897138898"
      },
      "outputs": [
        {
          "name": "stdout",
          "output_type": "stream",
          "text": [
            "Starte Daten-Checks...\n",
            "Alle Checks erfolgreich abgeschlossen.\n"
          ]
        }
      ],
      "source": [
        "from pathlib import Path\n",
        "import os\n",
        "\n",
        "# Globale Variable für erlaubte Bildformate\n",
        "ALLOWED_IMAGE_EXTENSIONS = {\".jpg\", \".jpeg\", \".png\", \".bmp\", \".gif\"}\n",
        "\n",
        "def check_only_folders_in_root(data_path):\n",
        "    \"\"\"\n",
        "    Prüft, ob im Wurzelverzeichnis nur Ordner existieren.\n",
        "    \"\"\"\n",
        "    for item in data_path.iterdir():\n",
        "        if not item.is_dir():\n",
        "            raise ValueError(f\"Unerwartetes Datei- oder Verzeichniselement im Wurzelverzeichnis: {item}\")\n",
        "\n",
        "def check_folders_have_only_images(data_path):\n",
        "    \"\"\"\n",
        "    Prüft, ob jeder Ordner ausschließlich Bilder enthält.\n",
        "    \"\"\"\n",
        "    for class_folder in data_path.iterdir():\n",
        "        if class_folder.is_dir():\n",
        "            for file in class_folder.iterdir():\n",
        "                if not file.suffix in ALLOWED_IMAGE_EXTENSIONS:\n",
        "                    raise ValueError(f\"Unerwartetes Dateiformat in {class_folder}: {file}\")\n",
        "\n",
        "def check_no_empty_folders(data_path):\n",
        "    \"\"\"\n",
        "    Stellt sicher, dass keine Ordner leer sind.\n",
        "    \"\"\"\n",
        "    for class_folder in data_path.iterdir():\n",
        "        if class_folder.is_dir() and not any(class_folder.iterdir()):\n",
        "            raise ValueError(f\"Leerer Ordner gefunden: {class_folder}\")\n",
        "\n",
        "def check_file_names(data_path):\n",
        "    \"\"\"\n",
        "    Überprüft, ob Dateinamen gültige Zeichen enthalten.\n",
        "    \"\"\"\n",
        "    for class_folder in data_path.iterdir():\n",
        "        if class_folder.is_dir():\n",
        "            for file in class_folder.iterdir():\n",
        "                if not file.name.isascii() or \"/\" in file.name or \"\\\\\" in file.name:\n",
        "                    raise ValueError(f\"Ungültiger Dateiname in {class_folder}: {file}\")\n",
        "\n",
        "def run_checks(data_path):\n",
        "    \"\"\"\n",
        "    Führt alle Prüfungen auf den Datenordner aus.\n",
        "    \"\"\"\n",
        "    print(\"Starte Daten-Checks...\")\n",
        "    check_only_folders_in_root(data_path)\n",
        "    check_folders_have_only_images(data_path)\n",
        "    check_no_empty_folders(data_path)\n",
        "    check_file_names(data_path)\n",
        "    print(\"Alle Checks erfolgreich abgeschlossen.\")\n",
        "\n",
        "# Aufruf der Funktionen zur überprüfung der Datensatz vollständigkeit und Korrektheit\n",
        "run_checks(data_path)\n"
      ]
    },
    {
      "cell_type": "markdown",
      "metadata": {
        "id": "SNAl7UvClfQd"
      },
      "source": [
        "## Datenintegration und -transformation\n",
        "\n"
      ]
    },
    {
      "cell_type": "code",
      "execution_count": null,
      "metadata": {
        "id": "SHHXRG3j2pjM"
      },
      "outputs": [],
      "source": [
        "# Hier sollte Code stehen"
      ]
    },
    {
      "cell_type": "markdown",
      "metadata": {
        "id": "IYm0uo9FmMRa"
      },
      "source": [
        "## Explorative Datenanalyse"
      ]
    },
    {
      "cell_type": "markdown",
      "metadata": {
        "id": "tg4elyIQ2fD-"
      },
      "source": [
        "$$\n",
        "⟹\\text{Absprung in Notebook für EDA & Anfangsvisualisierung}\n",
        "$$"
      ]
    },
    {
      "cell_type": "markdown",
      "metadata": {
        "id": "dppK8jWKWfiV"
      },
      "source": [
        "# Analyse"
      ]
    },
    {
      "cell_type": "markdown",
      "source": [
        "Die dritte Phase eines Projektes im Sinne des DASC-PM von [Schulz et al. 2022](https://info.nordakademie.de/hubfs/Website%20Relaunch%202022/Forschungsthemen/DASC_PM_v1.1-engl.pdf) stellt die Analyse dar. Das Ziel der Analyse ist es, ein geeignetes Analyseverfahren auf die im vorigen Schritt aufbereitete analytische Datenquelle anzuwenden und hierdurch die gewünschten Analyseergebnisse zu erhalten."
      ],
      "metadata": {
        "id": "dd7T3JLS9JYm"
      }
    },
    {
      "cell_type": "markdown",
      "metadata": {
        "id": "J_rBdWRg1Ctj"
      },
      "source": [
        "***\n",
        "$$\n",
        "\\longrightarrow \\text{Analyse}\n",
        "$$\n",
        "***\n",
        "* Auswahl der Analysemethoden\n",
        "* Modell-Entwicklung\n",
        "* Modell-Tuning\n",
        "***"
      ]
    },
    {
      "cell_type": "markdown",
      "metadata": {
        "id": "MuwNo6s-3b3f"
      },
      "source": [
        "$$\n",
        "⟹\\text{Absprung in Notebook \"Klassische ML-Verfahren\"}\n",
        "$$"
      ]
    },
    {
      "cell_type": "markdown",
      "metadata": {
        "id": "H8vl7uQ13ois"
      },
      "source": [
        "$$\n",
        "⟹\\text{Absprung in Notebook \"Klassische ML-Verfahren\"}\n",
        "$$"
      ]
    },
    {
      "cell_type": "markdown",
      "metadata": {
        "id": "WAjKt2ZU3qan"
      },
      "source": [
        "Die 5 o.g. Bullet-Points werden jeweils innerhalb der beiden o.g. Unternotebooks duchgeführt."
      ]
    },
    {
      "cell_type": "code",
      "execution_count": null,
      "metadata": {
        "id": "eHAzWlTh3pKv"
      },
      "outputs": [],
      "source": []
    },
    {
      "cell_type": "markdown",
      "metadata": {
        "id": "l65p-BT31dQS"
      },
      "source": [
        "## Auswahl der Analysemethoden"
      ]
    },
    {
      "cell_type": "code",
      "execution_count": null,
      "metadata": {
        "id": "ut8MMdGz1lMJ"
      },
      "outputs": [],
      "source": []
    },
    {
      "cell_type": "markdown",
      "metadata": {
        "id": "HNbHWjOV1hPR"
      },
      "source": [
        "## Modell-Entwicklung"
      ]
    },
    {
      "cell_type": "code",
      "execution_count": null,
      "metadata": {
        "id": "v0GJc5gZ1j7g"
      },
      "outputs": [],
      "source": []
    },
    {
      "cell_type": "code",
      "execution_count": null,
      "metadata": {
        "id": "2Y7WJSiv1qJI"
      },
      "outputs": [],
      "source": []
    },
    {
      "cell_type": "markdown",
      "metadata": {
        "id": "qCY-lEZ91rg2"
      },
      "source": [
        "## Modell-Tuning"
      ]
    },
    {
      "cell_type": "code",
      "execution_count": null,
      "metadata": {
        "id": "84s2AuIr1vAH"
      },
      "outputs": [],
      "source": []
    },
    {
      "cell_type": "code",
      "execution_count": null,
      "metadata": {
        "id": "XwyGqczX2OIM"
      },
      "outputs": [],
      "source": []
    },
    {
      "cell_type": "markdown",
      "metadata": {
        "id": "5RwurmPxWiAx"
      },
      "source": [
        "# Nutzbarmachung"
      ]
    },
    {
      "cell_type": "markdown",
      "source": [
        "Die vierte Phase eines Projektes im Sinne des DASC-PM von [Schulz et al. 2022](https://info.nordakademie.de/hubfs/Website%20Relaunch%202022/Forschungsthemen/DASC_PM_v1.1-engl.pdf) stellt die Nutzbarmachung dar. Die Phase der Nutzbarmachung hat als Ergebnis eine anwendbare Form der Analyseergebnisse. Die geschaffenen Analyseartefakte, welche sowohl Resultate als auch Modelle oder Verfahren selbst umfassen können, werden den Nutzern in unterschiedlicher Form zur Verfügung gestellt."
      ],
      "metadata": {
        "id": "n8Xyxnxx9XFq"
      }
    },
    {
      "cell_type": "markdown",
      "metadata": {
        "id": "gY9JBwKz2vc7"
      },
      "source": [
        "***\n",
        "$$\n",
        "⟹ \\text{Data Visualisierung / Data Communication}\n",
        "$$\n",
        "***\n",
        "\n",
        "* Modellbewertung\n",
        "* Textuelle Zusammenfassung der Ergebnisse\n",
        "* Visualisierung der Ergebnisse\n",
        "* Empfehlungen für die Stakeholder"
      ]
    },
    {
      "cell_type": "markdown",
      "metadata": {
        "id": "oDUey2ze49fd"
      },
      "source": [
        "## Modellbewertung"
      ]
    },
    {
      "cell_type": "code",
      "execution_count": null,
      "metadata": {
        "id": "EmcI3DSb5B9F"
      },
      "outputs": [],
      "source": []
    },
    {
      "cell_type": "markdown",
      "metadata": {
        "id": "O5oTfzfy3JWL"
      },
      "source": [
        "## Textuelle Zusammenfassung der Ergebnisse\n",
        "\n"
      ]
    },
    {
      "cell_type": "code",
      "execution_count": null,
      "metadata": {
        "id": "JYibQLz23RW5"
      },
      "outputs": [],
      "source": []
    },
    {
      "cell_type": "markdown",
      "metadata": {
        "id": "nQCR4tly3STp"
      },
      "source": [
        "## Visualisierung der Ergebnisse"
      ]
    },
    {
      "cell_type": "code",
      "execution_count": null,
      "metadata": {
        "id": "X6_S92X83XPH"
      },
      "outputs": [],
      "source": []
    },
    {
      "cell_type": "markdown",
      "metadata": {
        "id": "e-ZXguqc3X4v"
      },
      "source": [
        "## Empfehlungen für die Stakeholder"
      ]
    },
    {
      "cell_type": "code",
      "execution_count": null,
      "metadata": {
        "id": "qT8YiYGv3a1e"
      },
      "outputs": [],
      "source": []
    },
    {
      "cell_type": "markdown",
      "metadata": {
        "id": "CVbBtM2LWo3W"
      },
      "source": [
        "# Nutzung"
      ]
    },
    {
      "cell_type": "markdown",
      "source": [
        "Die fünfte und letzte Phase eines Projektes im Sinne des DASC-PM von [Schulz et al. 2022](https://info.nordakademie.de/hubfs/Website%20Relaunch%202022/Forschungsthemen/DASC_PM_v1.1-engl.pdf) stellt die Nutzung dar. Obgleich die Verwendung von Data-Science-Analyseartefakten nicht als primärer Teil des \\gls{DS}-Projekts angesehen wird, betont das Modell unter anderem die Wichtigkeit des Monitorings des Artefakts in der Anwendung."
      ],
      "metadata": {
        "id": "neKny0if9od-"
      }
    },
    {
      "cell_type": "markdown",
      "metadata": {
        "id": "wLWNyyp73kRI"
      },
      "source": [
        "***\n",
        "$$\n",
        "⟹ \\text{Domänenverständnis}\n",
        "$$\n",
        "\n",
        "***\n",
        "\n",
        "* Ausblick und mögliche Anwendungsfelder\n",
        " * z.B. App, die dem User beim korrekten Trennen von Müll hilft\n",
        " * z.B. Mülltrennungsanlage in der Deponie\n",
        "\n",
        "* Verweis auf **Monitoring** von DS-Analyseartefakten\n",
        "  * z.B. neue Formen von Müll / neue Verpackungen\n",
        "  * z.B. neue rechtliche Vorschriften, die es zu beachten gilt\n",
        "  * z.B. recyclebares Plastik oder weitere besonders schwierige Punkte\n",
        "\n",
        "* Kritische Reflexion der Ausarbeitung / Limitationen\n",
        " * Mischmüll / Mehrkomponentenmüll\n",
        " * Regionale Unterschiede (Nicht überall gibt es den gleichen Müll)\n",
        "\n",
        "***"
      ]
    },
    {
      "cell_type": "markdown",
      "source": [
        "Die im Rahmen dieses Projektes erarbeiteten Modelle zur Müllklassifikation eröffnen zahlreiche Möglichkeiten für zukünftige Anwendungen und Entwicklungen.\n",
        "\n",
        "Eine vielversprechende **Anwendung** ist die Integration des Modells in eine mobile Anwendung, die Benutzern beim korrekten Trennen von Müll hilft. Diese App könnte den Benutzern dabei helfen, den Müll korrekt zu identifizieren und in die entsprechenden Behälter zu sortieren, was zu einer effizienteren Mülltrennung und Recycling beitragen würde.\n",
        "\n",
        "Darüber hinaus könnte das Modell in Mülltrennungsanlagen auf Deponien implementiert werden, um den Prozess der automatischen Müllsortierung zu verbessern. Durch die Verwendung von maschinellem Lernen könnten Mülltrennungsanlagen effizienter arbeiten und eine höhere Genauigkeit bei der Sortierung verschiedener Abfallarten erreichen.\n",
        "\n",
        "Ein weiterer Anwendungsfall besteht in der Implementierung des Modells in eine Mülltonne, die den Müll automatisch sortiert. Ein Beispiel dafür ist AlphaTrash, ein Müllklassifikationssystem, das Convolutional Neural Networks verwendet [Tiyajamorn et al. 2019](https://ieeexplore.ieee.org/stamp/stamp.jsp?tp=&arnumber=9095775).\n",
        "\n",
        "Die Phase der Nutzung im Sinne des DASC-PM von [Schulz et al. 2022](https://info.nordakademie.de/hubfs/Website%20Relaunch%202022/Forschungsthemen/DASC_PM_v1.1-engl.pdf) sieht weiterführend ein kontinuierliches **Monitoring** von Data-Science-Analyseartefakten vor, um langfristig zuverlässige Ergebnisse zu gewährleisten. Dies ist besonders wichtig angesichts neuer Formen von Müll oder Verpackungen, die möglicherweise nicht im ursprünglichen Trainingsdatensatz enthalten waren. Des weiteren müssen mögliche neue rechtliche Vorschriften berücksichtigt werden, die sich auf die Mülltrennung und -entsorgung auswirken könnten. Dies könnte die Notwendigkeit einschließen, recyclebares Plastik oder andere besonders schwierige Materialien zu identifizieren und zu sortieren.\n",
        "\n",
        "Eine **kritische Reflexion** über die Ausarbeitung ist von entscheidender Bedeutung, um die Einschränkungen des entwickelten Modells angemessen zu verstehen und anzuerkennen. Vor diesem Hintergrund ist anzumerken, dass das Modell ausschließlich auf einem Trainingsdatensatz aus Wollongong, New South Wales, Australien, trainiert wurde und ausschließlich mit Müll aus Australien und Deutschland validiert und getestet wurde. Es von entscheidener Bedeutung, die regionalen Unterschiede in Bezug auf die Zusammensetzung von Müll und die gängigen Trennverfahren zu berücksichtigen. Infolgedessen besteht die Möglichkeit, dass das Modell möglicherweise nicht in der Lage ist, Müll aus anderen Ländern korrekt zu klassifizieren.\n",
        "\n",
        "Des Weiteren sind Aspekte wie Mischmüll oder Mehrkomponentenmüll sowie regionale Unterschiede in den Trennverfahren als potenzielle Herausforderungen zu betrachten, die die Wirksamkeit des Modells beeinflussen können. Die Notwendigkeit, diese Aspekte in zukünftigen Entwicklungen zu berücksichtigen und das Modell entsprechend anzupassen, ist von wesentlicher Bedeutung, um eine breitere Anwendbarkeit und Genauigkeit sicherzustellen.\n",
        "\n",
        "Insgesamt bietet diese Arbeit eine zahlreiche Impulse für die Verbesserung der Mülltrennung und -entsorgung sowie diverse **Anknüpfungspunkte für weiterführende Forschungen**, wie beispielsweise die Erweiterung auf zusätzliche Regionen, die Integration in praktische Anwendungen und die weitere Verbesserung der Modellleistung."
      ],
      "metadata": {
        "id": "byuP9gQpvYs4"
      }
    }
  ],
  "metadata": {
    "colab": {
      "collapsed_sections": [
        "kcXp2tniWV_r",
        "HGnpvlFuaQNP",
        "Y2ncnHGcWanF",
        "ExAwIIBRWdrX",
        "dppK8jWKWfiV",
        "5RwurmPxWiAx",
        "O5oTfzfy3JWL"
      ],
      "provenance": [],
      "toc_visible": true,
      "include_colab_link": true
    },
    "kernelspec": {
      "display_name": "Python 3 (ipykernel)",
      "language": "python",
      "name": "python3"
    },
    "language_info": {
      "codemirror_mode": {
        "name": "ipython",
        "version": 3
      },
      "file_extension": ".py",
      "mimetype": "text/x-python",
      "name": "python",
      "nbconvert_exporter": "python",
      "pygments_lexer": "ipython3",
      "version": "3.11.7"
    }
  },
  "nbformat": 4,
  "nbformat_minor": 0
}