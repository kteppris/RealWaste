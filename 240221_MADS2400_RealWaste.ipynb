{
 "cells": [
  {
   "cell_type": "markdown",
   "metadata": {
    "colab_type": "text",
    "id": "view-in-github"
   },
   "source": [
    "<a href=\"https://colab.research.google.com/github/kteppris/RealWaste/blob/main/240221_MADS2400_RealWaste.ipynb\" target=\"_parent\"><img src=\"https://colab.research.google.com/assets/colab-badge.svg\" alt=\"Open In Colab\"/></a>"
   ]
  },
  {
   "cell_type": "markdown",
   "metadata": {
    "id": "iLQOfDczVse5"
   },
   "source": [
    "**18.02.2024 (Slhöhns und Flemming):** \\\n",
    "In dieser Datei wollen wir später unser _\"fertiges Notebook\"_ bereitstellen.\n",
    "Darum werden wir hier die Codestücke aus den bestehenden Einzel-Notebooks einfügen.\n",
    "Auch erläuternde Texte werden in diesem Notebook geschrieben.\n",
    "Wir bauen hier nun die grundsätzlich in https://trello.com/c/8Nbjw1bs besprochene Gliederung auf, das Vorgehen soll hierbei am DASC-PM angelehnt sein.\n",
    "\n",
    "Sollte die besprochene Gliederung nun im Projektverlauf nicht mehr praktikabel sein, lasst uns bitte frühzeitig dazu sprechen, bevor wir die Arbeit für die Gliederung verbiegen."
   ]
  },
  {
   "cell_type": "markdown",
   "metadata": {
    "id": "kcXp2tniWV_r"
   },
   "source": [
    "# Einleitung"
   ]
  },
  {
   "cell_type": "markdown",
   "metadata": {
    "id": "1-jxqjL6oeQA"
   },
   "source": [
    "***\n",
    "$$\n",
    "⟹ \\text{Domänenverständnis}\n",
    "$$\n",
    "\n",
    "**Diese Inhalte sollten im Kapitel 'Einleitung' verfasst werden** \\\n",
    "* Einleitung soll als _Abstract_ fungieren und den Leser abholen in Bezug auf folgende Punkte:\n",
    "  * Kurzvorstellung DASC-PM\n",
    "  * Kurzvorstellung des Projekts (Ziel und Vorgehen mit Rückbezug auf DASC-PM --> vgl. Projektsteckbrief)\n",
    "  * Bezug auf die Aufgabenstellung zu dieser HA nehmen (Data Wrangling etc. in Zusammenhang mit unserer Gliederung und dem DASC-PM bringen)\n",
    "\n",
    "***"
   ]
  },
  {
   "cell_type": "markdown",
   "metadata": {
    "id": "Ty9VJEglg66x"
   },
   "source": [
    "In der Abfallwirtschaft stellt die Klassifizierung von Deponieabfällen eine entscheidende Herausforderung dar. Unser Projekt ist bestrebt, Modelle des maschinellen Lernens (ML) auf den RealWaste-Datensatz anzuwenden, um die Präzision der Abfallkategorisierung in neun verschiedenen Klassen zu verbessern. Dieses Vorhaben orientiert sich an dem DASC-PM-Rahmen (Data Science Project Management), der einen strukturierten und methodischen Ansatz für unsere Analyse gewährleistet.\n",
    "\n",
    "Wir leiten unsere Motivation aus dem überzeugenden Potenzial von ML ab, traditionelle Abfallklassifizierungstechniken wie Volumenmessung und manuelle Sortierung zu überwinden, indem wir Rechenmodelle nutzen, die komplexe Daten effizient und skalierbar verarbeiten können. Der RealWaste-Datensatz, eine robuste Sammlung von Abfallbildern aus der Whyte's Gully Waste and Resource Recovery Facility, bietet eine vielfältige und reichhaltige Grundlage für unsere Analyse und stellt eine realistische Umgebung für unsere angewandten Methoden dar [vgl. Single et al. (2023)](https://www.mdpi.com/2078-2489/14/12/633).\n",
    "\n",
    "Im Rahmen des DASC-PM, einem Vorgehensmodell für Data Science Projekte, ist unser Vorhaben sorgfältig geplant und umfasst die Datenvorverarbeitung, die Modellentwicklung und die strenge Bewertung anhand etablierter Benchmarks. Wir wollen nicht nur die Wirksamkeit verschiedener ML-Modelle vergleichen, sondern auch die Vorhersagequalität durch die Abstimmung von Hyperparametern verfeinern und damit die Voraussetzungen für einen Beitrag schaffen, der die betrieblichen Abläufe in Abfallentsorgungsanlagen erheblich beeinflussen könnte.\n",
    "\n",
    "Das Projekt startet mit einer umfassenden Untersuchung des RealWaste-Datensatzes, gefolgt von der sorgfältigen Anwendung von ML-Techniken, mit dem letztendlichen Ziel, ein Modell zu entwickeln, das die Klassifizierungsgenauigkeit aktueller Benchmarks von [Single et al. (2023)](https://www.mdpi.com/2078-2489/14/12/633) übertrifft.\n",
    "\n",
    "Das Data Science Project Management Model (DASC-PM) von Schulz et al. 2022 ist ein strukturierter Ansatz für das Management von Data-Science-Projekten. Es zielt darauf ab, Projekte von der Idee bis zur Implementierung methodisch und effizient zu leiten, indem es klare Phasen und Schritte vorgibt. Das Modell erkennt die einzigartigen Herausforderungen an, die Data-Science-Projekte darstellen, und bietet einen Rahmen, der sowohl die Flexibilität der explorativen Natur von Datenwissenschaft als auch die Notwendigkeit strukturierter Prozesse im Projektmanagement berücksichtigt."
   ]
  },
  {
   "cell_type": "markdown",
   "metadata": {
    "id": "Dv-uF77zjgJ3"
   },
   "source": [
    "Das Data Science Project Management Model (DASC-PM) von [Schulz et al. 2022](https://info.nordakademie.de/hubfs/Website%20Relaunch%202022/Forschungsthemen/DASC_PM_v1.1-engl.pdf) ist ein strukturierter Ansatz für das Management von Data-Science-Projekten. Es zielt darauf ab, Projekte von der Idee bis zur Implementierung methodisch und effizient zu leiten, indem es klare Phasen und Schritte vorgibt. Das Modell erkennt die einzigartigen Herausforderungen an, die Data-Science-Projekte darstellen, und bietet einen Rahmen, der sowohl die Flexibilität der explorativen Natur von Datenwissenschaft als auch die Notwendigkeit strukturierter Prozesse im Projektmanagement berücksichtigt.\n",
    "\n"
   ]
  },
  {
   "cell_type": "markdown",
   "metadata": {
    "id": "Y2ncnHGcWanF"
   },
   "source": [
    "# Projektauftrag"
   ]
  },
  {
   "cell_type": "markdown",
   "metadata": {
    "id": "rAHJD_pyugbo"
   },
   "source": [
    "***\n",
    "$$\n",
    "⟶ \\text{Domänenverständnis}\n",
    "$$\n",
    "Diese Inhalte sollten im Kapitel 'Projektauftrag' verfasst werden\n",
    "***\n",
    "\n"
   ]
  },
  {
   "cell_type": "markdown",
   "metadata": {
    "id": "17ZXyFS6gBuS"
   },
   "source": [
    "## Hintergrund und Problemstellung\n"
   ]
  },
  {
   "cell_type": "markdown",
   "metadata": {
    "id": "8abTEbcPgGhD"
   },
   "source": [
    "Die Klassifizierung von Müll spielt eine entscheidende Rolle in der heutigen Gesellschaft, da das Bewusstsein für Umweltschutz und nachhaltige Ressourcennutzung stetig wächst. Eine effiziente Müllklassifizierung ermöglicht nicht nur eine wirksame Abfallbewirtschaftung, sondern trägt auch maßgeblich zur Erhaltung der Natur und zur Vermeidung von Umweltverschmutzung bei. Durch die richtige Sortierung und Entsorgung von Abfällen können wertvolle Ressourcen wiederverwendet und recycelt werden, während gleichzeitig die Ausbreitung von Krankheiten und die Belastung der Umwelt reduziert werden können. Angesichts der stetig steigenden Müllmengen und der damit verbundenen Herausforderungen ist eine präzise Klassifizierung und effektive Bewirtschaftung von Müll von größter Bedeutung für eine nachhaltige Zukunft.\n",
    "\n"
   ]
  },
  {
   "cell_type": "markdown",
   "metadata": {
    "id": "9bZwyWO6i6bV"
   },
   "source": [
    "## Zielsetzung"
   ]
  },
  {
   "cell_type": "markdown",
   "metadata": {
    "id": "4mYnE5fKi9vT"
   },
   "source": [
    "* Wer sind die Stakeholder des Projektes?\n",
    "\n",
    "* Wann ist unser Projekt ein Erfolg?"
   ]
  },
  {
   "cell_type": "markdown",
   "metadata": {
    "id": "GlO6ODH5jA5p"
   },
   "source": [
    "## Organisatorische Rahmenbedingungen"
   ]
  },
  {
   "cell_type": "markdown",
   "metadata": {
    "id": "cm20ven3jHaj"
   },
   "source": [
    "* Ressourcen und Fähigkeiten\n",
    "\n",
    "* Risikobewertung\n",
    "\n",
    "* Projektplanung"
   ]
  },
  {
   "cell_type": "markdown",
   "metadata": {
    "id": "ExAwIIBRWdrX"
   },
   "source": [
    "# Datenbereitstellung"
   ]
  },
  {
   "cell_type": "markdown",
   "metadata": {
    "id": "Ky-l3wUbzhyx"
   },
   "source": [
    "***\n",
    "$$\n",
    "⟹\\text{Data Wrangling}\n",
    "$$\n",
    "***\n",
    "* Datenerfassung und Vorverarbeitung\n",
    "  * Erfassung der Daten\n",
    "  * Prüfung und Säuberung der Daten\n",
    "* Datenintegration und Transformation\n",
    "  * Integration verschiedener Datensätze\n",
    "  * Transformation der Daten für die Analyse\n",
    "* Dokumentation und explorative Datenanalyse\n",
    "  * Dokumentation der Schritte bei der Datenbereitstellung\n",
    "  * Explorative Datenanalyse und Erkundung der Datensätze\n",
    "\n",
    "***"
   ]
  },
  {
   "cell_type": "markdown",
   "metadata": {
    "id": "ZxiDCOzI14pE"
   },
   "source": [
    "* Download der Ordner und Einbinden beschreiben\n",
    "* Bildgrößen Prüfen\n",
    "* Klassenordner prüfen\n",
    "* Anzahl der Bilder prüfen\n",
    "* prüfen, dass die Bilder größer als 0KB sind\n"
   ]
  },
  {
   "cell_type": "markdown",
   "metadata": {},
   "source": [
    "### Umgebung vorbereiten"
   ]
  },
  {
   "cell_type": "code",
   "execution_count": null,
   "metadata": {},
   "outputs": [],
   "source": [
    "from pathlib import Path\n",
    "import os\n",
    "import sys\n",
    "import shutil\n",
    "import subprocess\n",
    "\n",
    "# Funktion, die prüft, ob dieses Skript in Colab ausgeführt wird\n",
    "def in_colab():\n",
    "    # sys beinhaltet alle bereits geladenen Pakete\n",
    "    return 'google.colab' in sys.modules  # google.colab wird automatisch in Colab vorgeladen, daher Indiz für Colab Environment\n",
    "\n",
    "# Google Drive für permanente Speicherung der Daten und Ergebnisse mounten\n",
    "def mount_google_drive():\n",
    "    if in_colab():\n",
    "        from google.colab import drive\n",
    "        drive.mount('/content/drive')\n",
    "        print(\"Google Drive wurde eingebunden.\")\n",
    "\n",
    "# Unser Code-Repo in Google Drive clonen oder prüfen, ob es bereits existiert\n",
    "def clone_code_repo_to_drive(target_dir):\n",
    "    if not target_dir.exists():\n",
    "        print(f\"Klone das Code Repository nach {target_dir}...\")\n",
    "        result = subprocess.run([\"git\", \"clone\", \"https://github.com/kteppris/RealWaste.git\", str(target_dir)], capture_output=True, text=True)\n",
    "        if result.returncode == 0:\n",
    "            print(\"Code Repository erfolgreich geklont.\")\n",
    "        else:\n",
    "            print(\"Fehler beim Klonen des Code Repositories:\", result.stderr)\n",
    "    else:\n",
    "        print(\"Code Repository existiert bereits.\")\n",
    "    os.chdir(target_dir)  # Wechseln in das Verzeichnis des geklonten Repositories\n",
    "    print(f\"Working Directory gewechselt zu: {Path.cwd()}\")\n",
    "\n",
    "# Daten Repository klonen und aufräumen\n",
    "def clone_and_prepare_data_repo(repo_url, target_dir):\n",
    "    if not target_dir.exists():\n",
    "        print(f\"Klone das Daten Repository nach {target_dir}...\")\n",
    "        subprocess.run([\"git\", \"clone\", repo_url, str(target_dir)])\n",
    "        \n",
    "    realwaste_dir = target_dir / 'RealWaste'\n",
    "    if realwaste_dir.exists():\n",
    "        for item in realwaste_dir.iterdir():\n",
    "            shutil.move(str(item), str(target_dir))\n",
    "        shutil.rmtree(realwaste_dir)\n",
    "        \n",
    "    git_dir = target_dir / '.git'\n",
    "    readme_file = target_dir / 'README.md'\n",
    "    if git_dir.exists():\n",
    "        shutil.rmtree(git_dir)\n",
    "    if readme_file.exists():\n",
    "        readme_file.unlink()\n",
    "\n",
    "    print(\"Daten Repository wurde vorbereitet.\")\n",
    "    return target_dir\n",
    "\n",
    "# Abhängigkeiten installieren\n",
    "def install_requirements():\n",
    "    print(\"Installiere benötigte Pakete...\")\n",
    "    subprocess.run([\"pip\", \"install\", \"-r\", \"requirements.txt\"])\n",
    "\n",
    "# Setup-Prozess starten\n",
    "data_repo_url = \"https://github.com/sam-single/realwaste.git\"\n",
    "code_repo_path = Path(\"/content/drive/MyDrive/MADS/RealWaste\") if in_colab() else Path.cwd()\n",
    "\n",
    "if in_colab():\n",
    "    mount_google_drive()\n",
    "    clone_code_repo_to_drive(code_repo_path)\n",
    "    data_path = clone_and_prepare_data_repo(data_repo_url, code_repo_path / \"data\")\n",
    "else:\n",
    "    # Lokal sollte der Code bereits vorhanden sein; nur das Daten-Repository wird geklont\n",
    "    data_path = clone_and_prepare_data_repo(data_repo_url, code_repo_path / \"data\")\n",
    "\n",
    "install_requirements()\n",
    "\n",
    "print(f\"Setup abgeschlossen. Datenpfad: {data_path}\")\n"
   ]
  },
  {
   "cell_type": "markdown",
   "metadata": {},
   "source": [
    "### Download der Daten von Github"
   ]
  },
  {
   "cell_type": "markdown",
   "metadata": {
    "id": "czf6YJ2V1lyw"
   },
   "source": []
  },
  {
   "cell_type": "markdown",
   "metadata": {
    "id": "AjXsSyGtlJin"
   },
   "source": [
    "## Datenerfassung\n",
    "\n"
   ]
  },
  {
   "cell_type": "code",
   "execution_count": null,
   "metadata": {
    "id": "f71_Dkvw2jFf"
   },
   "outputs": [],
   "source": [
    "# Hier soll Code stehen"
   ]
  },
  {
   "cell_type": "markdown",
   "metadata": {
    "id": "xM2UtbZ1lPtJ"
   },
   "source": [
    "## Datenprüfung und -säuberung\n",
    "\n"
   ]
  },
  {
   "cell_type": "code",
   "execution_count": null,
   "metadata": {
    "id": "mbFKRaYC2nzW"
   },
   "outputs": [],
   "source": [
    "# Hier soll Code stehen"
   ]
  },
  {
   "cell_type": "markdown",
   "metadata": {
    "id": "SNAl7UvClfQd"
   },
   "source": [
    "## Datenintegration und -transformation\n",
    "\n"
   ]
  },
  {
   "cell_type": "code",
   "execution_count": null,
   "metadata": {
    "id": "SHHXRG3j2pjM"
   },
   "outputs": [],
   "source": [
    "# Hier sollte Code stehen"
   ]
  },
  {
   "cell_type": "markdown",
   "metadata": {
    "id": "IYm0uo9FmMRa"
   },
   "source": [
    "## Explorative Datenanalyse"
   ]
  },
  {
   "cell_type": "markdown",
   "metadata": {
    "id": "tg4elyIQ2fD-"
   },
   "source": [
    "$$\n",
    "⟹\\text{Absprung in Notebook für EDA & Anfangsvisualisierung}\n",
    "$$"
   ]
  },
  {
   "cell_type": "markdown",
   "metadata": {
    "id": "dppK8jWKWfiV"
   },
   "source": [
    "# Analyse"
   ]
  },
  {
   "cell_type": "markdown",
   "metadata": {
    "id": "J_rBdWRg1Ctj"
   },
   "source": [
    "***\n",
    "$$\n",
    "\\longrightarrow \\text{Analyse}\n",
    "$$\n",
    "***\n",
    "* Auswahl der Analysemethoden\n",
    "* Modell-Entwicklung\n",
    "* Modell-Tuning\n",
    "***"
   ]
  },
  {
   "cell_type": "markdown",
   "metadata": {
    "id": "MuwNo6s-3b3f"
   },
   "source": [
    "$$\n",
    "⟹\\text{Absprung in Notebook \"Klassische ML-Verfahren\"}\n",
    "$$"
   ]
  },
  {
   "cell_type": "markdown",
   "metadata": {
    "id": "H8vl7uQ13ois"
   },
   "source": [
    "$$\n",
    "⟹\\text{Absprung in Notebook \"Klassische ML-Verfahren\"}\n",
    "$$"
   ]
  },
  {
   "cell_type": "markdown",
   "metadata": {
    "id": "WAjKt2ZU3qan"
   },
   "source": [
    "Die 5 o.g. Bullet-Points werden jeweils innerhalb der beiden o.g. Unternotebooks duchgeführt."
   ]
  },
  {
   "cell_type": "code",
   "execution_count": null,
   "metadata": {
    "id": "eHAzWlTh3pKv"
   },
   "outputs": [],
   "source": []
  },
  {
   "cell_type": "markdown",
   "metadata": {
    "id": "l65p-BT31dQS"
   },
   "source": [
    "## Auswahl der Analysemethoden"
   ]
  },
  {
   "cell_type": "code",
   "execution_count": null,
   "metadata": {
    "id": "ut8MMdGz1lMJ"
   },
   "outputs": [],
   "source": []
  },
  {
   "cell_type": "markdown",
   "metadata": {
    "id": "HNbHWjOV1hPR"
   },
   "source": [
    "## Modell-Entwicklung"
   ]
  },
  {
   "cell_type": "code",
   "execution_count": null,
   "metadata": {
    "id": "v0GJc5gZ1j7g"
   },
   "outputs": [],
   "source": []
  },
  {
   "cell_type": "code",
   "execution_count": null,
   "metadata": {
    "id": "2Y7WJSiv1qJI"
   },
   "outputs": [],
   "source": []
  },
  {
   "cell_type": "markdown",
   "metadata": {
    "id": "qCY-lEZ91rg2"
   },
   "source": [
    "## Modell-Tuning"
   ]
  },
  {
   "cell_type": "code",
   "execution_count": null,
   "metadata": {
    "id": "84s2AuIr1vAH"
   },
   "outputs": [],
   "source": []
  },
  {
   "cell_type": "code",
   "execution_count": null,
   "metadata": {
    "id": "XwyGqczX2OIM"
   },
   "outputs": [],
   "source": []
  },
  {
   "cell_type": "markdown",
   "metadata": {
    "id": "5RwurmPxWiAx"
   },
   "source": [
    "# Nutzbarmachung"
   ]
  },
  {
   "cell_type": "markdown",
   "metadata": {
    "id": "gY9JBwKz2vc7"
   },
   "source": [
    "***\n",
    "$$\n",
    "⟹ \\text{Data Visualisierung / Data Communication}\n",
    "$$\n",
    "***\n",
    "\n",
    "* Modellbewertung\n",
    "* Textuelle Zusammenfassung der Ergebnisse\n",
    "* Visualisierung der Ergebnisse\n",
    "* Empfehlungen für die Stakeholder"
   ]
  },
  {
   "cell_type": "markdown",
   "metadata": {
    "id": "oDUey2ze49fd"
   },
   "source": [
    "## Modellbewertung"
   ]
  },
  {
   "cell_type": "code",
   "execution_count": null,
   "metadata": {
    "id": "EmcI3DSb5B9F"
   },
   "outputs": [],
   "source": []
  },
  {
   "cell_type": "markdown",
   "metadata": {
    "id": "O5oTfzfy3JWL"
   },
   "source": [
    "## Textuelle Zusammenfassung der Ergebnisse\n",
    "\n"
   ]
  },
  {
   "cell_type": "code",
   "execution_count": null,
   "metadata": {
    "id": "JYibQLz23RW5"
   },
   "outputs": [],
   "source": []
  },
  {
   "cell_type": "markdown",
   "metadata": {
    "id": "nQCR4tly3STp"
   },
   "source": [
    "## Visualisierung der Ergebnisse"
   ]
  },
  {
   "cell_type": "code",
   "execution_count": null,
   "metadata": {
    "id": "X6_S92X83XPH"
   },
   "outputs": [],
   "source": []
  },
  {
   "cell_type": "markdown",
   "metadata": {
    "id": "e-ZXguqc3X4v"
   },
   "source": [
    "## Empfehlungen für die Stakeholder"
   ]
  },
  {
   "cell_type": "code",
   "execution_count": null,
   "metadata": {
    "id": "qT8YiYGv3a1e"
   },
   "outputs": [],
   "source": []
  },
  {
   "cell_type": "markdown",
   "metadata": {
    "id": "CVbBtM2LWo3W"
   },
   "source": [
    "# Nutzung"
   ]
  },
  {
   "cell_type": "markdown",
   "metadata": {
    "id": "wLWNyyp73kRI"
   },
   "source": [
    "***\n",
    "$$\n",
    "⟹ \\text{Domänenverständnis}\n",
    "$$\n",
    "\n",
    "***\n",
    "\n",
    "* Ausblick und mögliche Anwendungsfelder\n",
    " * z.B. App, die dem User beim korrekten Trennen von Müll hilft\n",
    " * z.B. Mülltrennungsanlage in der Deponie\n",
    "\n",
    "* Verweis auf **Monitoring** von DS-Analyseartefakten\n",
    "  * z.B. neue Formen von Müll / neue Verpackungen\n",
    "  * z.B. neue rechtliche Vorschriften, die es zu beachten gilt\n",
    "  * z.B. recyclebares Plastik oder weitere besonders schwierige Punkte\n",
    "\n",
    "* Kritische Reflexion der Ausarbeitung / Limitationen\n",
    " * Mischmüll / Mehrkomponentenmüll\n",
    " * Regionale Unterschiede (Nicht überall gibt es den gleichen Müll)\n",
    "\n",
    "***"
   ]
  },
  {
   "cell_type": "code",
   "execution_count": null,
   "metadata": {
    "id": "o7CM3yboWtHg"
   },
   "outputs": [],
   "source": []
  }
 ],
 "metadata": {
  "colab": {
   "collapsed_sections": [
    "kcXp2tniWV_r",
    "HGnpvlFuaQNP",
    "Y2ncnHGcWanF",
    "ExAwIIBRWdrX",
    "dppK8jWKWfiV",
    "5RwurmPxWiAx",
    "O5oTfzfy3JWL"
   ],
   "include_colab_link": true,
   "provenance": []
  },
  "kernelspec": {
   "display_name": "Python 3 (ipykernel)",
   "language": "python",
   "name": "python3"
  },
  "language_info": {
   "name": "python"
  }
 },
 "nbformat": 4,
 "nbformat_minor": 4
}
